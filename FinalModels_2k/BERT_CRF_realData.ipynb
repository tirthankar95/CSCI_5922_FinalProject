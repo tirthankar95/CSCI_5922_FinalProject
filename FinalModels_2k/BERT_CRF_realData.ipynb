{
  "nbformat": 4,
  "nbformat_minor": 0,
  "metadata": {
    "colab": {
      "provenance": []
    },
    "kernelspec": {
      "name": "python3",
      "display_name": "Python 3"
    },
    "language_info": {
      "name": "python"
    },
    "accelerator": "GPU",
    "gpuClass": "standard"
  },
  "cells": [
    {
      "cell_type": "code",
      "execution_count": 2,
      "metadata": {
        "id": "bnqByJL5p7Cy"
      },
      "outputs": [],
      "source": [
        "import numpy as np\n",
        "import pandas as pd\n",
        "import tensorflow as tf\n",
        "import tensorflow_hub as hub\n",
        "\n",
        "import keras \n",
        "from keras.models import Sequential,Model\n",
        "from keras.layers import LSTM,Bidirectional,Dense,Input,Embedding,TimeDistributed\n",
        "from keras.callbacks import EarlyStopping, ModelCheckpoint\n",
        "\n",
        "import nltk\n",
        "import sklearn\n",
        "import scipy.stats\n",
        "from sklearn.metrics import make_scorer\n",
        "from sklearn.model_selection import cross_val_score\n",
        "from nltk.tokenize import word_tokenize\n",
        "import numpy as np"
      ]
    },
    {
      "cell_type": "code",
      "source": [
        "from google.colab import drive,files\n",
        "drive.mount(\"/content/drive\")\n",
        "dataM='/content/drive/My Drive/Colab Notebooks/MODELS/'\n",
        "filepath = dataM+'BERT_CRF.ml'"
      ],
      "metadata": {
        "colab": {
          "base_uri": "https://localhost:8080/"
        },
        "id": "j61YwHzBmzVS",
        "outputId": "36e1d681-3c9d-43ea-e804-4a7e0c17d72c"
      },
      "execution_count": 3,
      "outputs": [
        {
          "output_type": "stream",
          "name": "stdout",
          "text": [
            "Drive already mounted at /content/drive; to attempt to forcibly remount, call drive.mount(\"/content/drive\", force_remount=True).\n"
          ]
        }
      ]
    },
    {
      "cell_type": "code",
      "source": [
        "!pip install tensorflow_text"
      ],
      "metadata": {
        "colab": {
          "base_uri": "https://localhost:8080/"
        },
        "id": "PrumAEPItxDE",
        "outputId": "641b5548-812c-49ec-9a4a-3afb4d5fbe1a"
      },
      "execution_count": 4,
      "outputs": [
        {
          "output_type": "stream",
          "name": "stdout",
          "text": [
            "Looking in indexes: https://pypi.org/simple, https://us-python.pkg.dev/colab-wheels/public/simple/\n",
            "Requirement already satisfied: tensorflow_text in /usr/local/lib/python3.8/dist-packages (2.11.0)\n",
            "Requirement already satisfied: tensorflow<2.12,>=2.11.0 in /usr/local/lib/python3.8/dist-packages (from tensorflow_text) (2.11.0)\n",
            "Requirement already satisfied: tensorflow-hub>=0.8.0 in /usr/local/lib/python3.8/dist-packages (from tensorflow_text) (0.12.0)\n",
            "Requirement already satisfied: keras<2.12,>=2.11.0 in /usr/local/lib/python3.8/dist-packages (from tensorflow<2.12,>=2.11.0->tensorflow_text) (2.11.0)\n",
            "Requirement already satisfied: libclang>=13.0.0 in /usr/local/lib/python3.8/dist-packages (from tensorflow<2.12,>=2.11.0->tensorflow_text) (14.0.6)\n",
            "Requirement already satisfied: tensorboard<2.12,>=2.11 in /usr/local/lib/python3.8/dist-packages (from tensorflow<2.12,>=2.11.0->tensorflow_text) (2.11.0)\n",
            "Requirement already satisfied: numpy>=1.20 in /usr/local/lib/python3.8/dist-packages (from tensorflow<2.12,>=2.11.0->tensorflow_text) (1.21.6)\n",
            "Requirement already satisfied: flatbuffers>=2.0 in /usr/local/lib/python3.8/dist-packages (from tensorflow<2.12,>=2.11.0->tensorflow_text) (22.11.23)\n",
            "Requirement already satisfied: packaging in /usr/local/lib/python3.8/dist-packages (from tensorflow<2.12,>=2.11.0->tensorflow_text) (21.3)\n",
            "Requirement already satisfied: absl-py>=1.0.0 in /usr/local/lib/python3.8/dist-packages (from tensorflow<2.12,>=2.11.0->tensorflow_text) (1.3.0)\n",
            "Requirement already satisfied: gast<=0.4.0,>=0.2.1 in /usr/local/lib/python3.8/dist-packages (from tensorflow<2.12,>=2.11.0->tensorflow_text) (0.4.0)\n",
            "Requirement already satisfied: astunparse>=1.6.0 in /usr/local/lib/python3.8/dist-packages (from tensorflow<2.12,>=2.11.0->tensorflow_text) (1.6.3)\n",
            "Requirement already satisfied: six>=1.12.0 in /usr/local/lib/python3.8/dist-packages (from tensorflow<2.12,>=2.11.0->tensorflow_text) (1.15.0)\n",
            "Requirement already satisfied: protobuf<3.20,>=3.9.2 in /usr/local/lib/python3.8/dist-packages (from tensorflow<2.12,>=2.11.0->tensorflow_text) (3.19.6)\n",
            "Requirement already satisfied: grpcio<2.0,>=1.24.3 in /usr/local/lib/python3.8/dist-packages (from tensorflow<2.12,>=2.11.0->tensorflow_text) (1.50.0)\n",
            "Requirement already satisfied: tensorflow-estimator<2.12,>=2.11.0 in /usr/local/lib/python3.8/dist-packages (from tensorflow<2.12,>=2.11.0->tensorflow_text) (2.11.0)\n",
            "Requirement already satisfied: typing-extensions>=3.6.6 in /usr/local/lib/python3.8/dist-packages (from tensorflow<2.12,>=2.11.0->tensorflow_text) (4.1.1)\n",
            "Requirement already satisfied: wrapt>=1.11.0 in /usr/local/lib/python3.8/dist-packages (from tensorflow<2.12,>=2.11.0->tensorflow_text) (1.14.1)\n",
            "Requirement already satisfied: h5py>=2.9.0 in /usr/local/lib/python3.8/dist-packages (from tensorflow<2.12,>=2.11.0->tensorflow_text) (3.1.0)\n",
            "Requirement already satisfied: termcolor>=1.1.0 in /usr/local/lib/python3.8/dist-packages (from tensorflow<2.12,>=2.11.0->tensorflow_text) (2.1.1)\n",
            "Requirement already satisfied: google-pasta>=0.1.1 in /usr/local/lib/python3.8/dist-packages (from tensorflow<2.12,>=2.11.0->tensorflow_text) (0.2.0)\n",
            "Requirement already satisfied: setuptools in /usr/local/lib/python3.8/dist-packages (from tensorflow<2.12,>=2.11.0->tensorflow_text) (57.4.0)\n",
            "Requirement already satisfied: opt-einsum>=2.3.2 in /usr/local/lib/python3.8/dist-packages (from tensorflow<2.12,>=2.11.0->tensorflow_text) (3.3.0)\n",
            "Requirement already satisfied: tensorflow-io-gcs-filesystem>=0.23.1 in /usr/local/lib/python3.8/dist-packages (from tensorflow<2.12,>=2.11.0->tensorflow_text) (0.28.0)\n",
            "Requirement already satisfied: wheel<1.0,>=0.23.0 in /usr/local/lib/python3.8/dist-packages (from astunparse>=1.6.0->tensorflow<2.12,>=2.11.0->tensorflow_text) (0.38.4)\n",
            "Requirement already satisfied: tensorboard-plugin-wit>=1.6.0 in /usr/local/lib/python3.8/dist-packages (from tensorboard<2.12,>=2.11->tensorflow<2.12,>=2.11.0->tensorflow_text) (1.8.1)\n",
            "Requirement already satisfied: google-auth<3,>=1.6.3 in /usr/local/lib/python3.8/dist-packages (from tensorboard<2.12,>=2.11->tensorflow<2.12,>=2.11.0->tensorflow_text) (2.14.1)\n",
            "Requirement already satisfied: google-auth-oauthlib<0.5,>=0.4.1 in /usr/local/lib/python3.8/dist-packages (from tensorboard<2.12,>=2.11->tensorflow<2.12,>=2.11.0->tensorflow_text) (0.4.6)\n",
            "Requirement already satisfied: werkzeug>=1.0.1 in /usr/local/lib/python3.8/dist-packages (from tensorboard<2.12,>=2.11->tensorflow<2.12,>=2.11.0->tensorflow_text) (1.0.1)\n",
            "Requirement already satisfied: tensorboard-data-server<0.7.0,>=0.6.0 in /usr/local/lib/python3.8/dist-packages (from tensorboard<2.12,>=2.11->tensorflow<2.12,>=2.11.0->tensorflow_text) (0.6.1)\n",
            "Requirement already satisfied: markdown>=2.6.8 in /usr/local/lib/python3.8/dist-packages (from tensorboard<2.12,>=2.11->tensorflow<2.12,>=2.11.0->tensorflow_text) (3.4.1)\n",
            "Requirement already satisfied: requests<3,>=2.21.0 in /usr/local/lib/python3.8/dist-packages (from tensorboard<2.12,>=2.11->tensorflow<2.12,>=2.11.0->tensorflow_text) (2.23.0)\n",
            "Requirement already satisfied: cachetools<6.0,>=2.0.0 in /usr/local/lib/python3.8/dist-packages (from google-auth<3,>=1.6.3->tensorboard<2.12,>=2.11->tensorflow<2.12,>=2.11.0->tensorflow_text) (5.2.0)\n",
            "Requirement already satisfied: rsa<5,>=3.1.4 in /usr/local/lib/python3.8/dist-packages (from google-auth<3,>=1.6.3->tensorboard<2.12,>=2.11->tensorflow<2.12,>=2.11.0->tensorflow_text) (4.9)\n",
            "Requirement already satisfied: pyasn1-modules>=0.2.1 in /usr/local/lib/python3.8/dist-packages (from google-auth<3,>=1.6.3->tensorboard<2.12,>=2.11->tensorflow<2.12,>=2.11.0->tensorflow_text) (0.2.8)\n",
            "Requirement already satisfied: requests-oauthlib>=0.7.0 in /usr/local/lib/python3.8/dist-packages (from google-auth-oauthlib<0.5,>=0.4.1->tensorboard<2.12,>=2.11->tensorflow<2.12,>=2.11.0->tensorflow_text) (1.3.1)\n",
            "Requirement already satisfied: importlib-metadata>=4.4 in /usr/local/lib/python3.8/dist-packages (from markdown>=2.6.8->tensorboard<2.12,>=2.11->tensorflow<2.12,>=2.11.0->tensorflow_text) (4.13.0)\n",
            "Requirement already satisfied: zipp>=0.5 in /usr/local/lib/python3.8/dist-packages (from importlib-metadata>=4.4->markdown>=2.6.8->tensorboard<2.12,>=2.11->tensorflow<2.12,>=2.11.0->tensorflow_text) (3.10.0)\n",
            "Requirement already satisfied: pyasn1<0.5.0,>=0.4.6 in /usr/local/lib/python3.8/dist-packages (from pyasn1-modules>=0.2.1->google-auth<3,>=1.6.3->tensorboard<2.12,>=2.11->tensorflow<2.12,>=2.11.0->tensorflow_text) (0.4.8)\n",
            "Requirement already satisfied: idna<3,>=2.5 in /usr/local/lib/python3.8/dist-packages (from requests<3,>=2.21.0->tensorboard<2.12,>=2.11->tensorflow<2.12,>=2.11.0->tensorflow_text) (2.10)\n",
            "Requirement already satisfied: urllib3!=1.25.0,!=1.25.1,<1.26,>=1.21.1 in /usr/local/lib/python3.8/dist-packages (from requests<3,>=2.21.0->tensorboard<2.12,>=2.11->tensorflow<2.12,>=2.11.0->tensorflow_text) (1.24.3)\n",
            "Requirement already satisfied: chardet<4,>=3.0.2 in /usr/local/lib/python3.8/dist-packages (from requests<3,>=2.21.0->tensorboard<2.12,>=2.11->tensorflow<2.12,>=2.11.0->tensorflow_text) (3.0.4)\n",
            "Requirement already satisfied: certifi>=2017.4.17 in /usr/local/lib/python3.8/dist-packages (from requests<3,>=2.21.0->tensorboard<2.12,>=2.11->tensorflow<2.12,>=2.11.0->tensorflow_text) (2022.9.24)\n",
            "Requirement already satisfied: oauthlib>=3.0.0 in /usr/local/lib/python3.8/dist-packages (from requests-oauthlib>=0.7.0->google-auth-oauthlib<0.5,>=0.4.1->tensorboard<2.12,>=2.11->tensorflow<2.12,>=2.11.0->tensorflow_text) (3.2.2)\n",
            "Requirement already satisfied: pyparsing!=3.0.5,>=2.0.2 in /usr/local/lib/python3.8/dist-packages (from packaging->tensorflow<2.12,>=2.11.0->tensorflow_text) (3.0.9)\n"
          ]
        }
      ]
    },
    {
      "cell_type": "code",
      "source": [
        "nltk.download('punkt')\n",
        "nltk.download('averaged_perceptron_tagger')"
      ],
      "metadata": {
        "colab": {
          "base_uri": "https://localhost:8080/"
        },
        "id": "r_8exmkqms6B",
        "outputId": "37ffd5c3-c0af-485e-b7d0-0ab671e976e9"
      },
      "execution_count": 5,
      "outputs": [
        {
          "output_type": "stream",
          "name": "stderr",
          "text": [
            "[nltk_data] Downloading package punkt to /root/nltk_data...\n",
            "[nltk_data]   Package punkt is already up-to-date!\n",
            "[nltk_data] Downloading package averaged_perceptron_tagger to\n",
            "[nltk_data]     /root/nltk_data...\n",
            "[nltk_data]   Package averaged_perceptron_tagger is already up-to-\n",
            "[nltk_data]       date!\n"
          ]
        },
        {
          "output_type": "execute_result",
          "data": {
            "text/plain": [
              "True"
            ]
          },
          "metadata": {},
          "execution_count": 5
        }
      ]
    },
    {
      "cell_type": "code",
      "source": [
        "!pip install tf2crf"
      ],
      "metadata": {
        "colab": {
          "base_uri": "https://localhost:8080/"
        },
        "id": "4F7UY69onOnp",
        "outputId": "e7ee6673-cb75-42fb-9d8f-832db402195b"
      },
      "execution_count": 9,
      "outputs": [
        {
          "output_type": "stream",
          "name": "stdout",
          "text": [
            "Looking in indexes: https://pypi.org/simple, https://us-python.pkg.dev/colab-wheels/public/simple/\n",
            "Requirement already satisfied: tf2crf in /usr/local/lib/python3.8/dist-packages (0.1.33)\n",
            "Requirement already satisfied: tensorflow-addons>=0.8.2 in /usr/local/lib/python3.8/dist-packages (from tf2crf) (0.18.0)\n",
            "Requirement already satisfied: tensorflow>=2.1.0 in /usr/local/lib/python3.8/dist-packages (from tf2crf) (2.11.0)\n",
            "Requirement already satisfied: setuptools in /usr/local/lib/python3.8/dist-packages (from tensorflow>=2.1.0->tf2crf) (57.4.0)\n",
            "Requirement already satisfied: absl-py>=1.0.0 in /usr/local/lib/python3.8/dist-packages (from tensorflow>=2.1.0->tf2crf) (1.3.0)\n",
            "Requirement already satisfied: protobuf<3.20,>=3.9.2 in /usr/local/lib/python3.8/dist-packages (from tensorflow>=2.1.0->tf2crf) (3.19.6)\n",
            "Requirement already satisfied: packaging in /usr/local/lib/python3.8/dist-packages (from tensorflow>=2.1.0->tf2crf) (21.3)\n",
            "Requirement already satisfied: termcolor>=1.1.0 in /usr/local/lib/python3.8/dist-packages (from tensorflow>=2.1.0->tf2crf) (2.1.1)\n",
            "Requirement already satisfied: typing-extensions>=3.6.6 in /usr/local/lib/python3.8/dist-packages (from tensorflow>=2.1.0->tf2crf) (4.1.1)\n",
            "Requirement already satisfied: astunparse>=1.6.0 in /usr/local/lib/python3.8/dist-packages (from tensorflow>=2.1.0->tf2crf) (1.6.3)\n",
            "Requirement already satisfied: libclang>=13.0.0 in /usr/local/lib/python3.8/dist-packages (from tensorflow>=2.1.0->tf2crf) (14.0.6)\n",
            "Requirement already satisfied: numpy>=1.20 in /usr/local/lib/python3.8/dist-packages (from tensorflow>=2.1.0->tf2crf) (1.21.6)\n",
            "Requirement already satisfied: keras<2.12,>=2.11.0 in /usr/local/lib/python3.8/dist-packages (from tensorflow>=2.1.0->tf2crf) (2.11.0)\n",
            "Requirement already satisfied: google-pasta>=0.1.1 in /usr/local/lib/python3.8/dist-packages (from tensorflow>=2.1.0->tf2crf) (0.2.0)\n",
            "Requirement already satisfied: tensorflow-estimator<2.12,>=2.11.0 in /usr/local/lib/python3.8/dist-packages (from tensorflow>=2.1.0->tf2crf) (2.11.0)\n",
            "Requirement already satisfied: gast<=0.4.0,>=0.2.1 in /usr/local/lib/python3.8/dist-packages (from tensorflow>=2.1.0->tf2crf) (0.4.0)\n",
            "Requirement already satisfied: h5py>=2.9.0 in /usr/local/lib/python3.8/dist-packages (from tensorflow>=2.1.0->tf2crf) (3.1.0)\n",
            "Requirement already satisfied: wrapt>=1.11.0 in /usr/local/lib/python3.8/dist-packages (from tensorflow>=2.1.0->tf2crf) (1.14.1)\n",
            "Requirement already satisfied: opt-einsum>=2.3.2 in /usr/local/lib/python3.8/dist-packages (from tensorflow>=2.1.0->tf2crf) (3.3.0)\n",
            "Requirement already satisfied: grpcio<2.0,>=1.24.3 in /usr/local/lib/python3.8/dist-packages (from tensorflow>=2.1.0->tf2crf) (1.50.0)\n",
            "Requirement already satisfied: six>=1.12.0 in /usr/local/lib/python3.8/dist-packages (from tensorflow>=2.1.0->tf2crf) (1.15.0)\n",
            "Requirement already satisfied: tensorflow-io-gcs-filesystem>=0.23.1 in /usr/local/lib/python3.8/dist-packages (from tensorflow>=2.1.0->tf2crf) (0.28.0)\n",
            "Requirement already satisfied: flatbuffers>=2.0 in /usr/local/lib/python3.8/dist-packages (from tensorflow>=2.1.0->tf2crf) (22.11.23)\n",
            "Requirement already satisfied: tensorboard<2.12,>=2.11 in /usr/local/lib/python3.8/dist-packages (from tensorflow>=2.1.0->tf2crf) (2.11.0)\n",
            "Requirement already satisfied: wheel<1.0,>=0.23.0 in /usr/local/lib/python3.8/dist-packages (from astunparse>=1.6.0->tensorflow>=2.1.0->tf2crf) (0.38.4)\n",
            "Requirement already satisfied: tensorboard-data-server<0.7.0,>=0.6.0 in /usr/local/lib/python3.8/dist-packages (from tensorboard<2.12,>=2.11->tensorflow>=2.1.0->tf2crf) (0.6.1)\n",
            "Requirement already satisfied: google-auth-oauthlib<0.5,>=0.4.1 in /usr/local/lib/python3.8/dist-packages (from tensorboard<2.12,>=2.11->tensorflow>=2.1.0->tf2crf) (0.4.6)\n",
            "Requirement already satisfied: werkzeug>=1.0.1 in /usr/local/lib/python3.8/dist-packages (from tensorboard<2.12,>=2.11->tensorflow>=2.1.0->tf2crf) (1.0.1)\n",
            "Requirement already satisfied: tensorboard-plugin-wit>=1.6.0 in /usr/local/lib/python3.8/dist-packages (from tensorboard<2.12,>=2.11->tensorflow>=2.1.0->tf2crf) (1.8.1)\n",
            "Requirement already satisfied: markdown>=2.6.8 in /usr/local/lib/python3.8/dist-packages (from tensorboard<2.12,>=2.11->tensorflow>=2.1.0->tf2crf) (3.4.1)\n",
            "Requirement already satisfied: google-auth<3,>=1.6.3 in /usr/local/lib/python3.8/dist-packages (from tensorboard<2.12,>=2.11->tensorflow>=2.1.0->tf2crf) (2.14.1)\n",
            "Requirement already satisfied: requests<3,>=2.21.0 in /usr/local/lib/python3.8/dist-packages (from tensorboard<2.12,>=2.11->tensorflow>=2.1.0->tf2crf) (2.23.0)\n",
            "Requirement already satisfied: pyasn1-modules>=0.2.1 in /usr/local/lib/python3.8/dist-packages (from google-auth<3,>=1.6.3->tensorboard<2.12,>=2.11->tensorflow>=2.1.0->tf2crf) (0.2.8)\n",
            "Requirement already satisfied: cachetools<6.0,>=2.0.0 in /usr/local/lib/python3.8/dist-packages (from google-auth<3,>=1.6.3->tensorboard<2.12,>=2.11->tensorflow>=2.1.0->tf2crf) (5.2.0)\n",
            "Requirement already satisfied: rsa<5,>=3.1.4 in /usr/local/lib/python3.8/dist-packages (from google-auth<3,>=1.6.3->tensorboard<2.12,>=2.11->tensorflow>=2.1.0->tf2crf) (4.9)\n",
            "Requirement already satisfied: requests-oauthlib>=0.7.0 in /usr/local/lib/python3.8/dist-packages (from google-auth-oauthlib<0.5,>=0.4.1->tensorboard<2.12,>=2.11->tensorflow>=2.1.0->tf2crf) (1.3.1)\n",
            "Requirement already satisfied: importlib-metadata>=4.4 in /usr/local/lib/python3.8/dist-packages (from markdown>=2.6.8->tensorboard<2.12,>=2.11->tensorflow>=2.1.0->tf2crf) (4.13.0)\n",
            "Requirement already satisfied: zipp>=0.5 in /usr/local/lib/python3.8/dist-packages (from importlib-metadata>=4.4->markdown>=2.6.8->tensorboard<2.12,>=2.11->tensorflow>=2.1.0->tf2crf) (3.10.0)\n",
            "Requirement already satisfied: pyasn1<0.5.0,>=0.4.6 in /usr/local/lib/python3.8/dist-packages (from pyasn1-modules>=0.2.1->google-auth<3,>=1.6.3->tensorboard<2.12,>=2.11->tensorflow>=2.1.0->tf2crf) (0.4.8)\n",
            "Requirement already satisfied: idna<3,>=2.5 in /usr/local/lib/python3.8/dist-packages (from requests<3,>=2.21.0->tensorboard<2.12,>=2.11->tensorflow>=2.1.0->tf2crf) (2.10)\n",
            "Requirement already satisfied: certifi>=2017.4.17 in /usr/local/lib/python3.8/dist-packages (from requests<3,>=2.21.0->tensorboard<2.12,>=2.11->tensorflow>=2.1.0->tf2crf) (2022.9.24)\n",
            "Requirement already satisfied: urllib3!=1.25.0,!=1.25.1,<1.26,>=1.21.1 in /usr/local/lib/python3.8/dist-packages (from requests<3,>=2.21.0->tensorboard<2.12,>=2.11->tensorflow>=2.1.0->tf2crf) (1.24.3)\n",
            "Requirement already satisfied: chardet<4,>=3.0.2 in /usr/local/lib/python3.8/dist-packages (from requests<3,>=2.21.0->tensorboard<2.12,>=2.11->tensorflow>=2.1.0->tf2crf) (3.0.4)\n",
            "Requirement already satisfied: oauthlib>=3.0.0 in /usr/local/lib/python3.8/dist-packages (from requests-oauthlib>=0.7.0->google-auth-oauthlib<0.5,>=0.4.1->tensorboard<2.12,>=2.11->tensorflow>=2.1.0->tf2crf) (3.2.2)\n",
            "Requirement already satisfied: typeguard>=2.7 in /usr/local/lib/python3.8/dist-packages (from tensorflow-addons>=0.8.2->tf2crf) (2.7.1)\n",
            "Requirement already satisfied: pyparsing!=3.0.5,>=2.0.2 in /usr/local/lib/python3.8/dist-packages (from packaging->tensorflow>=2.1.0->tf2crf) (3.0.9)\n"
          ]
        }
      ]
    },
    {
      "cell_type": "code",
      "source": [
        "from tf2crf import CRF \n",
        "from tf2crf import ModelWithCRFLoss"
      ],
      "metadata": {
        "id": "L6mw5TP5nSsw"
      },
      "execution_count": 10,
      "outputs": []
    },
    {
      "cell_type": "code",
      "source": [
        "!cp -rf drive/MyDrive/job_20k.json /content/"
      ],
      "metadata": {
        "id": "FFWgCvksXSOJ"
      },
      "execution_count": 11,
      "outputs": []
    },
    {
      "cell_type": "code",
      "source": [
        "import pandas as pd\n",
        "import json\n",
        "path_to_json = 'job_20k.json'\n",
        "df  = pd.read_json(path_to_json,lines=True)\n",
        "df.head().T"
      ],
      "metadata": {
        "colab": {
          "base_uri": "https://localhost:8080/",
          "height": 253
        },
        "id": "DYMRKIQgYcxa",
        "outputId": "dac38b93-52ab-49ff-b8d8-eb3c3163557a"
      },
      "execution_count": 12,
      "outputs": [
        {
          "output_type": "execute_result",
          "data": {
            "text/plain": [
              "                                                                   0  \\\n",
              "clean_descrition   A technology services client of ours is lookin...   \n",
              "organization_list                 [Swift, Strategic, Solutions, Inc]   \n",
              "skill_list         [NoSQL, Teradata, Netezza, Cosmos, DB, JSON, A...   \n",
              "job_title_list                                   [Bigdata, Engineer]   \n",
              "\n",
              "                                                                   1  \\\n",
              "clean_descrition   Job Title :Java Sr developerLocation: RemoteLo...   \n",
              "organization_list                [AQUA, Information, Systems,, Inc.]   \n",
              "skill_list                                         [Java, JEE, J2EE]   \n",
              "job_title_list                                     [Java, developer]   \n",
              "\n",
              "                                                                   2  \\\n",
              "clean_descrition   Mandatory Skills: Strong in Oracle database 19...   \n",
              "organization_list                         [Softnet, Consulting, Inc]   \n",
              "skill_list         [Oracle, database, 19c, Advanced, PL/SQL, prog...   \n",
              "job_title_list                     [Oracle, PL/SQL, Lead, Architect]   \n",
              "\n",
              "                                                                   3  \\\n",
              "clean_descrition   Associate Scientist Thousand Oaks, CADescripti...   \n",
              "organization_list                                    [Apex, Systems]   \n",
              "skill_list              [Biochemistry, Biology, Analytical, Systems]   \n",
              "job_title_list                                [Associate, Scientist]   \n",
              "\n",
              "                                                                   4  \n",
              "clean_descrition   Growing fintech company looking for Mid Level,...  \n",
              "organization_list                                            [Jobot]  \n",
              "skill_list         [Developer, JavaScript, SQL, ASP, HTML, Archit...  \n",
              "job_title_list                                  [Software, Engineer]  "
            ],
            "text/html": [
              "\n",
              "  <div id=\"df-c7587125-f7bd-4272-873e-c785ae80b134\">\n",
              "    <div class=\"colab-df-container\">\n",
              "      <div>\n",
              "<style scoped>\n",
              "    .dataframe tbody tr th:only-of-type {\n",
              "        vertical-align: middle;\n",
              "    }\n",
              "\n",
              "    .dataframe tbody tr th {\n",
              "        vertical-align: top;\n",
              "    }\n",
              "\n",
              "    .dataframe thead th {\n",
              "        text-align: right;\n",
              "    }\n",
              "</style>\n",
              "<table border=\"1\" class=\"dataframe\">\n",
              "  <thead>\n",
              "    <tr style=\"text-align: right;\">\n",
              "      <th></th>\n",
              "      <th>0</th>\n",
              "      <th>1</th>\n",
              "      <th>2</th>\n",
              "      <th>3</th>\n",
              "      <th>4</th>\n",
              "    </tr>\n",
              "  </thead>\n",
              "  <tbody>\n",
              "    <tr>\n",
              "      <th>clean_descrition</th>\n",
              "      <td>A technology services client of ours is lookin...</td>\n",
              "      <td>Job Title :Java Sr developerLocation: RemoteLo...</td>\n",
              "      <td>Mandatory Skills: Strong in Oracle database 19...</td>\n",
              "      <td>Associate Scientist Thousand Oaks, CADescripti...</td>\n",
              "      <td>Growing fintech company looking for Mid Level,...</td>\n",
              "    </tr>\n",
              "    <tr>\n",
              "      <th>organization_list</th>\n",
              "      <td>[Swift, Strategic, Solutions, Inc]</td>\n",
              "      <td>[AQUA, Information, Systems,, Inc.]</td>\n",
              "      <td>[Softnet, Consulting, Inc]</td>\n",
              "      <td>[Apex, Systems]</td>\n",
              "      <td>[Jobot]</td>\n",
              "    </tr>\n",
              "    <tr>\n",
              "      <th>skill_list</th>\n",
              "      <td>[NoSQL, Teradata, Netezza, Cosmos, DB, JSON, A...</td>\n",
              "      <td>[Java, JEE, J2EE]</td>\n",
              "      <td>[Oracle, database, 19c, Advanced, PL/SQL, prog...</td>\n",
              "      <td>[Biochemistry, Biology, Analytical, Systems]</td>\n",
              "      <td>[Developer, JavaScript, SQL, ASP, HTML, Archit...</td>\n",
              "    </tr>\n",
              "    <tr>\n",
              "      <th>job_title_list</th>\n",
              "      <td>[Bigdata, Engineer]</td>\n",
              "      <td>[Java, developer]</td>\n",
              "      <td>[Oracle, PL/SQL, Lead, Architect]</td>\n",
              "      <td>[Associate, Scientist]</td>\n",
              "      <td>[Software, Engineer]</td>\n",
              "    </tr>\n",
              "  </tbody>\n",
              "</table>\n",
              "</div>\n",
              "      <button class=\"colab-df-convert\" onclick=\"convertToInteractive('df-c7587125-f7bd-4272-873e-c785ae80b134')\"\n",
              "              title=\"Convert this dataframe to an interactive table.\"\n",
              "              style=\"display:none;\">\n",
              "        \n",
              "  <svg xmlns=\"http://www.w3.org/2000/svg\" height=\"24px\"viewBox=\"0 0 24 24\"\n",
              "       width=\"24px\">\n",
              "    <path d=\"M0 0h24v24H0V0z\" fill=\"none\"/>\n",
              "    <path d=\"M18.56 5.44l.94 2.06.94-2.06 2.06-.94-2.06-.94-.94-2.06-.94 2.06-2.06.94zm-11 1L8.5 8.5l.94-2.06 2.06-.94-2.06-.94L8.5 2.5l-.94 2.06-2.06.94zm10 10l.94 2.06.94-2.06 2.06-.94-2.06-.94-.94-2.06-.94 2.06-2.06.94z\"/><path d=\"M17.41 7.96l-1.37-1.37c-.4-.4-.92-.59-1.43-.59-.52 0-1.04.2-1.43.59L10.3 9.45l-7.72 7.72c-.78.78-.78 2.05 0 2.83L4 21.41c.39.39.9.59 1.41.59.51 0 1.02-.2 1.41-.59l7.78-7.78 2.81-2.81c.8-.78.8-2.07 0-2.86zM5.41 20L4 18.59l7.72-7.72 1.47 1.35L5.41 20z\"/>\n",
              "  </svg>\n",
              "      </button>\n",
              "      \n",
              "  <style>\n",
              "    .colab-df-container {\n",
              "      display:flex;\n",
              "      flex-wrap:wrap;\n",
              "      gap: 12px;\n",
              "    }\n",
              "\n",
              "    .colab-df-convert {\n",
              "      background-color: #E8F0FE;\n",
              "      border: none;\n",
              "      border-radius: 50%;\n",
              "      cursor: pointer;\n",
              "      display: none;\n",
              "      fill: #1967D2;\n",
              "      height: 32px;\n",
              "      padding: 0 0 0 0;\n",
              "      width: 32px;\n",
              "    }\n",
              "\n",
              "    .colab-df-convert:hover {\n",
              "      background-color: #E2EBFA;\n",
              "      box-shadow: 0px 1px 2px rgba(60, 64, 67, 0.3), 0px 1px 3px 1px rgba(60, 64, 67, 0.15);\n",
              "      fill: #174EA6;\n",
              "    }\n",
              "\n",
              "    [theme=dark] .colab-df-convert {\n",
              "      background-color: #3B4455;\n",
              "      fill: #D2E3FC;\n",
              "    }\n",
              "\n",
              "    [theme=dark] .colab-df-convert:hover {\n",
              "      background-color: #434B5C;\n",
              "      box-shadow: 0px 1px 3px 1px rgba(0, 0, 0, 0.15);\n",
              "      filter: drop-shadow(0px 1px 2px rgba(0, 0, 0, 0.3));\n",
              "      fill: #FFFFFF;\n",
              "    }\n",
              "  </style>\n",
              "\n",
              "      <script>\n",
              "        const buttonEl =\n",
              "          document.querySelector('#df-c7587125-f7bd-4272-873e-c785ae80b134 button.colab-df-convert');\n",
              "        buttonEl.style.display =\n",
              "          google.colab.kernel.accessAllowed ? 'block' : 'none';\n",
              "\n",
              "        async function convertToInteractive(key) {\n",
              "          const element = document.querySelector('#df-c7587125-f7bd-4272-873e-c785ae80b134');\n",
              "          const dataTable =\n",
              "            await google.colab.kernel.invokeFunction('convertToInteractive',\n",
              "                                                     [key], {});\n",
              "          if (!dataTable) return;\n",
              "\n",
              "          const docLinkHtml = 'Like what you see? Visit the ' +\n",
              "            '<a target=\"_blank\" href=https://colab.research.google.com/notebooks/data_table.ipynb>data table notebook</a>'\n",
              "            + ' to learn more about interactive tables.';\n",
              "          element.innerHTML = '';\n",
              "          dataTable['output_type'] = 'display_data';\n",
              "          await google.colab.output.renderOutput(dataTable, element);\n",
              "          const docLink = document.createElement('div');\n",
              "          docLink.innerHTML = docLinkHtml;\n",
              "          element.appendChild(docLink);\n",
              "        }\n",
              "      </script>\n",
              "    </div>\n",
              "  </div>\n",
              "  "
            ]
          },
          "metadata": {},
          "execution_count": 12
        }
      ]
    },
    {
      "cell_type": "code",
      "source": [
        "df['clean_descrition'] = df['clean_descrition'].str.replace(r'[^\\w\\s]+', ' ')\n",
        "df['clean_descrition'] = df['clean_descrition'].apply(lambda x: ' '.join(x.split()[:128]))\n",
        "df['clean_descrition'][1]"
      ],
      "metadata": {
        "colab": {
          "base_uri": "https://localhost:8080/",
          "height": 140
        },
        "id": "Hkhu_v2sXVli",
        "outputId": "bca141b9-e302-4212-81a3-ea74e7e1a35b"
      },
      "execution_count": 13,
      "outputs": [
        {
          "output_type": "stream",
          "name": "stderr",
          "text": [
            "<ipython-input-13-42c4f31900d0>:1: FutureWarning: The default value of regex will change from True to False in a future version.\n",
            "  df['clean_descrition'] = df['clean_descrition'].str.replace(r'[^\\w\\s]+', ' ')\n"
          ]
        },
        {
          "output_type": "execute_result",
          "data": {
            "text/plain": [
              "'Job Title Java Sr developerLocation RemoteLong TermSkills java jeShould have good understanding on the change management role and had depth knowledge on the change advisory board process CAB Good knowledge on the incident management Problem management Change Management Should have involved in the 3L level of activities i e root cause analysis environment analysis understanding the application architecture infrastructure architecture The resource should have very good understanding on the SDLC process Very good knowledge on the Java J2EE and have hands on experience in understanding the architecture of heterogeneous application Good communication skills and team handling abilities Should have worked on the onshore offshore model Should be flexible and having good attitude'"
            ],
            "application/vnd.google.colaboratory.intrinsic+json": {
              "type": "string"
            }
          },
          "metadata": {},
          "execution_count": 13
        }
      ]
    },
    {
      "cell_type": "code",
      "source": [
        "import pandas as pd\n",
        "import json\n",
        "path_to_json = 'job_20k.json'\n",
        "df  = pd.read_json(path_to_json,lines=True)\n",
        "df.head().T"
      ],
      "metadata": {
        "colab": {
          "base_uri": "https://localhost:8080/",
          "height": 253
        },
        "id": "N0GfQLvCXTWT",
        "outputId": "7fdc904e-495d-448b-cb98-1ca962e07d6d"
      },
      "execution_count": 14,
      "outputs": [
        {
          "output_type": "execute_result",
          "data": {
            "text/plain": [
              "                                                                   0  \\\n",
              "clean_descrition   A technology services client of ours is lookin...   \n",
              "organization_list                 [Swift, Strategic, Solutions, Inc]   \n",
              "skill_list         [NoSQL, Teradata, Netezza, Cosmos, DB, JSON, A...   \n",
              "job_title_list                                   [Bigdata, Engineer]   \n",
              "\n",
              "                                                                   1  \\\n",
              "clean_descrition   Job Title :Java Sr developerLocation: RemoteLo...   \n",
              "organization_list                [AQUA, Information, Systems,, Inc.]   \n",
              "skill_list                                         [Java, JEE, J2EE]   \n",
              "job_title_list                                     [Java, developer]   \n",
              "\n",
              "                                                                   2  \\\n",
              "clean_descrition   Mandatory Skills: Strong in Oracle database 19...   \n",
              "organization_list                         [Softnet, Consulting, Inc]   \n",
              "skill_list         [Oracle, database, 19c, Advanced, PL/SQL, prog...   \n",
              "job_title_list                     [Oracle, PL/SQL, Lead, Architect]   \n",
              "\n",
              "                                                                   3  \\\n",
              "clean_descrition   Associate Scientist Thousand Oaks, CADescripti...   \n",
              "organization_list                                    [Apex, Systems]   \n",
              "skill_list              [Biochemistry, Biology, Analytical, Systems]   \n",
              "job_title_list                                [Associate, Scientist]   \n",
              "\n",
              "                                                                   4  \n",
              "clean_descrition   Growing fintech company looking for Mid Level,...  \n",
              "organization_list                                            [Jobot]  \n",
              "skill_list         [Developer, JavaScript, SQL, ASP, HTML, Archit...  \n",
              "job_title_list                                  [Software, Engineer]  "
            ],
            "text/html": [
              "\n",
              "  <div id=\"df-34e80457-d117-4f6e-80a7-8e6a2dd2dc0e\">\n",
              "    <div class=\"colab-df-container\">\n",
              "      <div>\n",
              "<style scoped>\n",
              "    .dataframe tbody tr th:only-of-type {\n",
              "        vertical-align: middle;\n",
              "    }\n",
              "\n",
              "    .dataframe tbody tr th {\n",
              "        vertical-align: top;\n",
              "    }\n",
              "\n",
              "    .dataframe thead th {\n",
              "        text-align: right;\n",
              "    }\n",
              "</style>\n",
              "<table border=\"1\" class=\"dataframe\">\n",
              "  <thead>\n",
              "    <tr style=\"text-align: right;\">\n",
              "      <th></th>\n",
              "      <th>0</th>\n",
              "      <th>1</th>\n",
              "      <th>2</th>\n",
              "      <th>3</th>\n",
              "      <th>4</th>\n",
              "    </tr>\n",
              "  </thead>\n",
              "  <tbody>\n",
              "    <tr>\n",
              "      <th>clean_descrition</th>\n",
              "      <td>A technology services client of ours is lookin...</td>\n",
              "      <td>Job Title :Java Sr developerLocation: RemoteLo...</td>\n",
              "      <td>Mandatory Skills: Strong in Oracle database 19...</td>\n",
              "      <td>Associate Scientist Thousand Oaks, CADescripti...</td>\n",
              "      <td>Growing fintech company looking for Mid Level,...</td>\n",
              "    </tr>\n",
              "    <tr>\n",
              "      <th>organization_list</th>\n",
              "      <td>[Swift, Strategic, Solutions, Inc]</td>\n",
              "      <td>[AQUA, Information, Systems,, Inc.]</td>\n",
              "      <td>[Softnet, Consulting, Inc]</td>\n",
              "      <td>[Apex, Systems]</td>\n",
              "      <td>[Jobot]</td>\n",
              "    </tr>\n",
              "    <tr>\n",
              "      <th>skill_list</th>\n",
              "      <td>[NoSQL, Teradata, Netezza, Cosmos, DB, JSON, A...</td>\n",
              "      <td>[Java, JEE, J2EE]</td>\n",
              "      <td>[Oracle, database, 19c, Advanced, PL/SQL, prog...</td>\n",
              "      <td>[Biochemistry, Biology, Analytical, Systems]</td>\n",
              "      <td>[Developer, JavaScript, SQL, ASP, HTML, Archit...</td>\n",
              "    </tr>\n",
              "    <tr>\n",
              "      <th>job_title_list</th>\n",
              "      <td>[Bigdata, Engineer]</td>\n",
              "      <td>[Java, developer]</td>\n",
              "      <td>[Oracle, PL/SQL, Lead, Architect]</td>\n",
              "      <td>[Associate, Scientist]</td>\n",
              "      <td>[Software, Engineer]</td>\n",
              "    </tr>\n",
              "  </tbody>\n",
              "</table>\n",
              "</div>\n",
              "      <button class=\"colab-df-convert\" onclick=\"convertToInteractive('df-34e80457-d117-4f6e-80a7-8e6a2dd2dc0e')\"\n",
              "              title=\"Convert this dataframe to an interactive table.\"\n",
              "              style=\"display:none;\">\n",
              "        \n",
              "  <svg xmlns=\"http://www.w3.org/2000/svg\" height=\"24px\"viewBox=\"0 0 24 24\"\n",
              "       width=\"24px\">\n",
              "    <path d=\"M0 0h24v24H0V0z\" fill=\"none\"/>\n",
              "    <path d=\"M18.56 5.44l.94 2.06.94-2.06 2.06-.94-2.06-.94-.94-2.06-.94 2.06-2.06.94zm-11 1L8.5 8.5l.94-2.06 2.06-.94-2.06-.94L8.5 2.5l-.94 2.06-2.06.94zm10 10l.94 2.06.94-2.06 2.06-.94-2.06-.94-.94-2.06-.94 2.06-2.06.94z\"/><path d=\"M17.41 7.96l-1.37-1.37c-.4-.4-.92-.59-1.43-.59-.52 0-1.04.2-1.43.59L10.3 9.45l-7.72 7.72c-.78.78-.78 2.05 0 2.83L4 21.41c.39.39.9.59 1.41.59.51 0 1.02-.2 1.41-.59l7.78-7.78 2.81-2.81c.8-.78.8-2.07 0-2.86zM5.41 20L4 18.59l7.72-7.72 1.47 1.35L5.41 20z\"/>\n",
              "  </svg>\n",
              "      </button>\n",
              "      \n",
              "  <style>\n",
              "    .colab-df-container {\n",
              "      display:flex;\n",
              "      flex-wrap:wrap;\n",
              "      gap: 12px;\n",
              "    }\n",
              "\n",
              "    .colab-df-convert {\n",
              "      background-color: #E8F0FE;\n",
              "      border: none;\n",
              "      border-radius: 50%;\n",
              "      cursor: pointer;\n",
              "      display: none;\n",
              "      fill: #1967D2;\n",
              "      height: 32px;\n",
              "      padding: 0 0 0 0;\n",
              "      width: 32px;\n",
              "    }\n",
              "\n",
              "    .colab-df-convert:hover {\n",
              "      background-color: #E2EBFA;\n",
              "      box-shadow: 0px 1px 2px rgba(60, 64, 67, 0.3), 0px 1px 3px 1px rgba(60, 64, 67, 0.15);\n",
              "      fill: #174EA6;\n",
              "    }\n",
              "\n",
              "    [theme=dark] .colab-df-convert {\n",
              "      background-color: #3B4455;\n",
              "      fill: #D2E3FC;\n",
              "    }\n",
              "\n",
              "    [theme=dark] .colab-df-convert:hover {\n",
              "      background-color: #434B5C;\n",
              "      box-shadow: 0px 1px 3px 1px rgba(0, 0, 0, 0.15);\n",
              "      filter: drop-shadow(0px 1px 2px rgba(0, 0, 0, 0.3));\n",
              "      fill: #FFFFFF;\n",
              "    }\n",
              "  </style>\n",
              "\n",
              "      <script>\n",
              "        const buttonEl =\n",
              "          document.querySelector('#df-34e80457-d117-4f6e-80a7-8e6a2dd2dc0e button.colab-df-convert');\n",
              "        buttonEl.style.display =\n",
              "          google.colab.kernel.accessAllowed ? 'block' : 'none';\n",
              "\n",
              "        async function convertToInteractive(key) {\n",
              "          const element = document.querySelector('#df-34e80457-d117-4f6e-80a7-8e6a2dd2dc0e');\n",
              "          const dataTable =\n",
              "            await google.colab.kernel.invokeFunction('convertToInteractive',\n",
              "                                                     [key], {});\n",
              "          if (!dataTable) return;\n",
              "\n",
              "          const docLinkHtml = 'Like what you see? Visit the ' +\n",
              "            '<a target=\"_blank\" href=https://colab.research.google.com/notebooks/data_table.ipynb>data table notebook</a>'\n",
              "            + ' to learn more about interactive tables.';\n",
              "          element.innerHTML = '';\n",
              "          dataTable['output_type'] = 'display_data';\n",
              "          await google.colab.output.renderOutput(dataTable, element);\n",
              "          const docLink = document.createElement('div');\n",
              "          docLink.innerHTML = docLinkHtml;\n",
              "          element.appendChild(docLink);\n",
              "        }\n",
              "      </script>\n",
              "    </div>\n",
              "  </div>\n",
              "  "
            ]
          },
          "metadata": {},
          "execution_count": 14
        }
      ]
    },
    {
      "cell_type": "code",
      "source": [
        "jobs = list(df.clean_descrition)\n",
        "def convert_to_list_then_dict(df_column= None, key_value=str):\n",
        "    value_list = list(df_column)\n",
        "    _ = list(set([item for value_list in value_list for item in value_list]))\n",
        "    return dict.fromkeys(_, key_value)\n",
        "\n",
        "org = convert_to_list_then_dict(df_column=df.organization_list, key_value='C')\n",
        "skill = convert_to_list_then_dict(df_column=df.skill_list, key_value='S')\n",
        "job = convert_to_list_then_dict(df_column=df.job_title_list, key_value='J')    "
      ],
      "metadata": {
        "id": "0hOk-1GKXaN2"
      },
      "execution_count": 15,
      "outputs": []
    },
    {
      "cell_type": "code",
      "source": [
        "XTr= jobs[:1500]\n",
        "XVal= jobs[1500:2000]\n",
        "org_b = org\n",
        "skills_b = skill\n",
        "jobs_b = job"
      ],
      "metadata": {
        "id": "mpeBJ7DGXnnY"
      },
      "execution_count": 16,
      "outputs": []
    },
    {
      "cell_type": "code",
      "source": [
        "def make(X,org_b,skills_b,jobs_b):\n",
        "  big=[]\n",
        "  for sentence in X:\n",
        "    token=word_tokenize(sentence)\n",
        "    small=[]\n",
        "    token_t=nltk.pos_tag(token)\n",
        "    for f,s in token_t:\n",
        "      tag='O'\n",
        "      if f.lower() in org_b:\n",
        "        tag=org_b[f.lower()]\n",
        "      if f.lower() in skills_b:\n",
        "        tag=skills_b[f.lower()]\n",
        "      if f.lower() in jobs_b:\n",
        "        tag=jobs_b[f.lower()]\n",
        "      small.append((f,s,tag))\n",
        "    big.append(small)\n",
        "  return big\n",
        "  \n",
        "XTr_=make(XTr,org_b,skills_b,jobs_b)\n",
        "XVal_=make(XVal,org_b,skills_b,jobs_b)"
      ],
      "metadata": {
        "id": "7AXy_swXiI0k"
      },
      "execution_count": 17,
      "outputs": []
    },
    {
      "cell_type": "code",
      "source": [
        "msgLen=128\n",
        "\n",
        "def fixMsg(X):\n",
        "  global msgLen\n",
        "  Xc=[]\n",
        "  for i in range(len(X)):\n",
        "    if len(X[i])<msgLen:\n",
        "      Xc.append(X[i].copy())\n",
        "      while len(Xc[-1])<msgLen:\n",
        "        Xc[-1].append(('UNK','UNK','UNK'))\n",
        "    elif len(X[i])>msgLen:\n",
        "      Xc.append(X[i].copy())\n",
        "      temp=Xc[-1].copy()\n",
        "      del Xc[-1]\n",
        "      lb=0;chunk=msgLen\n",
        "      while lb<len(temp):\n",
        "        split=[]\n",
        "        for j in range(lb,lb+chunk):\n",
        "          if j<len(temp):\n",
        "            split.append(temp[j])\n",
        "          else:\n",
        "            split.append(('UNK','UNK','UNK'))\n",
        "        Xc.append(split)\n",
        "        assert(len(split)==msgLen)\n",
        "        lb+=chunk\n",
        "  return Xc\n",
        "\n",
        "XTr_t=fixMsg(XTr_)\n",
        "XVal_t=fixMsg(XVal_)"
      ],
      "metadata": {
        "id": "Y_-Ff7j4K-8v"
      },
      "execution_count": 21,
      "outputs": []
    },
    {
      "cell_type": "code",
      "source": [
        "for x in XTr_t:\n",
        "  if len(x)!=msgLen:\n",
        "    print(len(x))\n",
        "print(XTr_t[0])\n",
        "for x in XVal_t:\n",
        "  assert(len(x)==msgLen)\n",
        "print(XVal_t[0])"
      ],
      "metadata": {
        "colab": {
          "base_uri": "https://localhost:8080/"
        },
        "id": "-kJp1BsfYLa3",
        "outputId": "672143ab-b75c-4592-bdec-054983e43c19"
      },
      "execution_count": 22,
      "outputs": [
        {
          "output_type": "stream",
          "name": "stdout",
          "text": [
            "[('A', 'DT', 'J'), ('technology', 'NN', 'J'), ('services', 'NNS', 'J'), ('client', 'NN', 'J'), ('of', 'IN', 'J'), ('ours', 'NN', 'O'), ('is', 'VBZ', 'J'), ('looking', 'VBG', 'J'), ('For', 'IN', 'J'), ('Bigdata', 'NNP', 'S'), ('Engineer', 'NNP', 'J'), ('on', 'IN', 'J'), ('their', 'PRP$', 'S'), ('ongoing', 'JJ', 'O'), ('projects', 'NNS', 'J'), ('.', '.', 'J'), ('This', 'DT', 'S'), ('is', 'VBZ', 'J'), ('going', 'VBG', 'O'), ('to', 'TO', 'J'), ('be', 'VB', 'J'), ('an', 'DT', 'J'), ('Onsite', 'NNP', 'J'), ('position', 'NN', 'J'), ('.', '.', 'J'), ('Below', 'IN', 'J'), ('are', 'VBP', 'J'), ('the', 'DT', 'J'), ('required', 'JJ', 'J'), ('skills', 'NNS', 'J'), ('for', 'IN', 'J'), ('this', 'DT', 'S'), ('role', 'NN', 'J'), ('–Required', 'VBD', 'O'), ('Skills', 'NNS', 'J'), (':', ':', 'J'), ('Strong', 'JJ', 'J'), ('experience', 'NN', 'J'), ('building', 'NN', 'J'), ('and', 'CC', 'J'), ('optimizing', 'VBG', 'O'), ('‘', 'JJ', 'O'), ('big', 'JJ', 'S'), ('data', 'NNS', 'J'), ('’', 'NN', 'O'), ('pipelines', 'NNS', 'S'), (',', ',', 'J'), ('architectures', 'NNS', 'S'), ('and', 'CC', 'J'), ('data', 'NNS', 'J'), ('sets', 'NNS', 'S'), ('.', '.', 'J'), ('-', ':', 'J'), ('need', 'NN', 'J'), ('at', 'IN', 'J'), ('least', 'JJS', 'S'), ('10', 'CD', 'J'), ('+', 'JJ', 'J'), ('years', 'NNS', 'J'), ('’', 'JJ', 'O'), ('experience', 'NN', 'J'), (',', ',', 'J'), ('excellent', 'JJ', 'J'), ('communication', 'NN', 'S'), ('Skills', 'NNP', 'J'), ('Strong', 'NNP', 'J'), ('experience', 'NN', 'J'), ('with', 'IN', 'J'), ('relational', 'JJ', 'J'), ('SQL', 'NNP', 'S'), ('and', 'CC', 'J'), ('NoSQL', 'NNP', 'S'), (',', ',', 'J'), ('like', 'IN', 'J'), ('Postgres', 'NNP', 'S'), (',', ',', 'J'), ('Teradata', 'NNP', 'S'), (',', ',', 'J'), ('Netezza', 'NNP', 'O'), ('and', 'CC', 'J'), ('the', 'DT', 'J'), ('likes', 'NNS', 'O'), ('of', 'IN', 'J'), ('Cosmos', 'NNP', 'O'), ('DB', 'NNP', 'S'), ('.', '.', 'J'), ('Strong', 'JJ', 'J'), ('experience', 'NN', 'J'), ('with', 'IN', 'J'), ('programming', 'VBG', 'S'), ('background', 'RP', 'J'), ('-', ':', 'J'), ('object-oriented/object', 'JJ', 'O'), ('function', 'NN', 'S'), ('scripting', 'NN', 'S'), ('languages', 'NNS', 'S'), (',', ',', 'J'), ('Python', 'NNP', 'J'), (',', ',', 'J'), ('Java', 'NNP', 'J'), (',', ',', 'J'), ('C++', 'NNP', 'S'), (',', ',', 'J'), ('Scala', 'NNP', 'S'), (',', ',', 'J'), ('etc', 'FW', 'S'), ('.', '.', 'J'), ('File', 'IN', 'S'), ('Formats', 'NNS', 'S'), (':', ':', 'J'), ('JSON', 'NNP', 'S'), (',', ',', 'J'), ('Avro', 'NNP', 'O'), ('&', 'CC', 'J'), ('ParquetExperience', 'NNP', 'O'), ('with', 'IN', 'J'), ('big', 'JJ', 'S'), ('data', 'NNS', 'J'), ('platforms', 'NNS', 'J'), ('&', 'CC', 'J'), ('tools', 'NNS', 'J'), (':', ':', 'J'), ('Hadoop', 'NNP', 'J'), (',', ',', 'J'), ('Spark', 'NNP', 'S'), (',', ',', 'J'), ('Kafka', 'NNP', 'S'), (',', ',', 'J')]\n",
            "[('Title', 'NN', 'O'), (':', ':', 'J'), ('ServiceNow', 'NNP', 'J'), ('Developer', 'NNP', 'J'), ('Duration', 'NNP', 'O'), (':', ':', 'J'), ('12-24', 'JJ', 'O'), ('month', 'NN', 'J'), ('contract', 'NN', 'J'), ('or', 'CC', 'J'), ('CTH', 'NNP', 'O'), ('Location', 'NN', 'J'), (':', ':', 'J'), ('San', 'NNP', 'S'), ('Antonio', 'NNP', 'O'), (',', ',', 'J'), ('TX', 'NNP', 'O'), (',', ',', 'J'), ('Plano', 'NNP', 'O'), (',', ',', 'J'), ('TX', 'NNP', 'O'), ('or', 'CC', 'J'), ('RemoteJob', 'NNP', 'O'), ('description', 'NN', 'S'), ('We', 'PRP', 'S'), ('are', 'VBP', 'J'), ('currently', 'RB', 'J'), ('seeking', 'VBG', 'J'), ('a', 'DT', 'J'), ('talented', 'VBN', 'J'), ('ServiceNow', 'NNP', 'J'), ('Developer-Mid', 'NNP', 'O'), ('Level', 'NNP', 'J'), ('for', 'IN', 'J'), ('our', 'PRP$', 'J'), ('Plano', 'NNP', 'O'), (',', ',', 'J'), ('TX', 'NNP', 'O'), ('or', 'CC', 'J'), ('San', 'NNP', 'S'), ('Antonio', 'NNP', 'O'), (',', ',', 'J'), ('TX', 'NNP', 'O'), ('facility', 'NN', 'S'), ('.', '.', 'J'), ('This', 'DT', 'S'), ('person', 'NN', 'J'), ('may', 'MD', 'J'), ('also', 'RB', 'S'), ('work', 'VB', 'J'), ('remotely', 'RB', 'S'), ('in', 'IN', 'J'), ('a', 'DT', 'J'), ('100', 'CD', 'J'), ('%', 'NN', 'J'), ('Remote', 'NNP', 'J'), ('Work', 'NNP', 'J'), ('Environment', 'NNP', 'J'), ('.', '.', 'J'), ('Our', 'PRP$', 'J'), ('client', 'NN', 'J'), ('values', 'VBZ', 'O'), ('a', 'DT', 'J'), ('culture', 'NN', 'O'), ('that', 'WDT', 'S'), ('is', 'VBZ', 'J'), ('highly', 'RB', 'S'), ('collaborative', 'JJ', 'S'), (',', ',', 'J'), ('and', 'CC', 'J'), ('we', 'PRP', 'S'), ('have', 'VBP', 'J'), ('found', 'VBN', 'O'), ('that', 'IN', 'S'), ('a', 'DT', 'J'), ('hybrid', 'JJ', 'J'), ('work', 'NN', 'J'), ('type', 'NN', 'S'), ('helps', 'VBZ', 'O'), ('employees', 'NNS', 'O'), ('gain', 'VB', 'O'), ('the', 'DT', 'J'), ('best', 'JJS', 'S'), ('of', 'IN', 'J'), ('both', 'DT', 'S'), ('worlds', 'NNS', 'O'), ('-', ':', 'J'), ('collaborating', 'VBG', 'O'), ('in-person', 'NN', 'S'), ('in', 'IN', 'J'), ('the', 'DT', 'J'), ('office', 'NN', 'J'), ('and', 'CC', 'J'), ('working', 'VBG', 'J'), ('from', 'IN', 'J'), ('home', 'NN', 'J'), ('when', 'WRB', 'S'), ('needed', 'VBN', 'J'), ('to', 'TO', 'J'), ('achieve', 'VB', 'O'), ('focused', 'JJ', 'J'), ('deliverables', 'NNS', 'S'), ('.', '.', 'J'), ('The', 'DT', 'J'), ('actual', 'JJ', 'O'), ('days', 'NNS', 'J'), ('onsite', 'RB', 'J'), ('are', 'VBP', 'J'), ('determined', 'VBN', 'O'), ('between', 'IN', 'J'), ('each', 'DT', 'O'), ('employee', 'NN', 'O'), ('and', 'CC', 'J'), ('the', 'DT', 'J'), ('employee', 'NN', 'O'), (\"'s\", 'POS', 'J'), ('manager', 'NN', 'J'), ('.', '.', 'J'), ('Community', 'NNP', 'S'), (':', ':', 'J'), ('Engineering', 'JJ', 'J'), ('Professions', 'NNS', 'O'), ('Jobs', 'VBP', 'S'), ('that', 'DT', 'S'), ('are', 'VBP', 'J'), ('part', 'NN', 'S'), ('of', 'IN', 'J'), ('a', 'DT', 'J')]\n"
          ]
        }
      ]
    },
    {
      "cell_type": "code",
      "source": [
        "dict_={}\n",
        "dict_1={}\n",
        "token=1;token1=0\n",
        "for x in XTr_t:\n",
        "  for a,b,c in x:\n",
        "    if a not in dict_:\n",
        "      dict_[a]=token\n",
        "      token=token+1\n",
        "    if c not in dict_1:\n",
        "      if c=='K':\n",
        "        print(a,b,c)\n",
        "      dict_1[c]=token1\n",
        "      token1=token1+1\n",
        "for x in XVal_t:\n",
        "  for a,b,c in x:\n",
        "    if a not in dict_:\n",
        "      dict_[a]=token\n",
        "      token=token+1\n",
        "    if c not in dict_1:\n",
        "      dict_1[c]=token1\n",
        "      token1=token1+1\n",
        "print('No of tokens words[{}] labels[{}]'.format(token,token1))"
      ],
      "metadata": {
        "colab": {
          "base_uri": "https://localhost:8080/"
        },
        "id": "fkBnDQtzK6tv",
        "outputId": "3300191a-0fad-4765-9d2e-f19b1b00417e"
      },
      "execution_count": 23,
      "outputs": [
        {
          "output_type": "stream",
          "name": "stdout",
          "text": [
            "No of tokens words[38282] labels[5]\n"
          ]
        }
      ]
    },
    {
      "cell_type": "code",
      "source": [
        "def bertCreate(X):\n",
        "  temp=[]\n",
        "  for sentence in X:\n",
        "    s=''\n",
        "    first=True\n",
        "    for element in sentence:\n",
        "      if first:\n",
        "        first=False\n",
        "        s=element[0]\n",
        "      else:\n",
        "        s=s+' '+element[0]\n",
        "    temp.append(s)\n",
        "  return np.array(temp)"
      ],
      "metadata": {
        "id": "9ODxrqiDvAH7"
      },
      "execution_count": 24,
      "outputs": []
    },
    {
      "cell_type": "code",
      "source": [
        "XTr_fin=bertCreate(XTr_t)\n",
        "XVal_fin=bertCreate(XVal_t)\n",
        "\n",
        "yTr=np.array([[dict_1[element[2]] for element in sentence] for sentence in XTr_t])\n",
        "yVal=np.array([[dict_1[element[2]] for element in sentence] for sentence in XVal_t])"
      ],
      "metadata": {
        "id": "P_y_gHDnAhgv"
      },
      "execution_count": 25,
      "outputs": []
    },
    {
      "cell_type": "code",
      "source": [
        "import tensorflow_text as text\n",
        "preprocessor = hub.KerasLayer(\"https://tfhub.dev/tensorflow/bert_en_cased_preprocess/3\")"
      ],
      "metadata": {
        "colab": {
          "base_uri": "https://localhost:8080/"
        },
        "id": "_B_hNyzybO5b",
        "outputId": "02d17823-9e18-40d8-e2e3-dc57eee30966"
      },
      "execution_count": 26,
      "outputs": [
        {
          "output_type": "stream",
          "name": "stderr",
          "text": [
            "WARNING:tensorflow:Please fix your imports. Module tensorflow.python.training.tracking.data_structures has been moved to tensorflow.python.trackable.data_structures. The old module will be deleted in version 2.11.\n"
          ]
        }
      ]
    },
    {
      "cell_type": "code",
      "source": [
        "text_preprocessed = preprocessor(np.array(XTr_fin[:2]))\n",
        "\n",
        "print(f'Keys       : {list(text_preprocessed.keys())}')\n",
        "print(f'Shape      : {text_preprocessed[\"input_word_ids\"].shape}')\n",
        "print(f'Word Ids   : {text_preprocessed[\"input_word_ids\"][0, :12]}')\n",
        "print(f'Input Mask : {text_preprocessed[\"input_mask\"][0, :12]}')\n",
        "print(f'Type Ids   : {text_preprocessed[\"input_type_ids\"][0, :12]}')"
      ],
      "metadata": {
        "colab": {
          "base_uri": "https://localhost:8080/"
        },
        "id": "EjTRD0xJQojC",
        "outputId": "732bbe4a-e8ad-4ca2-d24e-eabad42def46"
      },
      "execution_count": 27,
      "outputs": [
        {
          "output_type": "stream",
          "name": "stdout",
          "text": [
            "Keys       : ['input_mask', 'input_word_ids', 'input_type_ids']\n",
            "Shape      : (2, 128)\n",
            "Word Ids   : [  101   138  2815  1826  7230  1104 17079  1110  1702  1370  2562 27922]\n",
            "Input Mask : [1 1 1 1 1 1 1 1 1 1 1 1]\n",
            "Type Ids   : [0 0 0 0 0 0 0 0 0 0 0 0]\n"
          ]
        }
      ]
    },
    {
      "cell_type": "code",
      "source": [
        "# https://tfhub.dev/tensorflow/bert_en_cased_L-12_H-768_A-12/4\n",
        "# https://tfhub.dev/tensorflow/bert_en_cased_preprocess/3\n",
        "\n",
        "bert_layer = hub.KerasLayer('https://tfhub.dev/tensorflow/bert_en_cased_L-12_H-768_A-12/4', trainable=False)"
      ],
      "metadata": {
        "id": "g2u-j7-WbQuS"
      },
      "execution_count": 28,
      "outputs": []
    },
    {
      "cell_type": "code",
      "source": [
        "input=Input(shape=(), dtype=tf.string)\n",
        "model0=preprocessor(input)\n",
        "seq_op=bert_layer(model0)['sequence_output']\n",
        "model0=Model(input,seq_op)\n",
        "model0.summary()"
      ],
      "metadata": {
        "colab": {
          "base_uri": "https://localhost:8080/"
        },
        "id": "J936HqZHa09s",
        "outputId": "e05f00fd-b1c9-4b2c-d53c-c05d97064617"
      },
      "execution_count": 29,
      "outputs": [
        {
          "output_type": "stream",
          "name": "stderr",
          "text": [
            "WARNING:tensorflow:From /usr/local/lib/python3.8/dist-packages/tensorflow/python/autograph/pyct/static_analysis/liveness.py:83: Analyzer.lamba_check (from tensorflow.python.autograph.pyct.static_analysis.liveness) is deprecated and will be removed after 2023-09-23.\n",
            "Instructions for updating:\n",
            "Lambda fuctions will be no more assumed to be used in the statement where they are used, or at least in the same block. https://github.com/tensorflow/tensorflow/issues/56089\n"
          ]
        },
        {
          "output_type": "stream",
          "name": "stdout",
          "text": [
            "Model: \"model\"\n",
            "__________________________________________________________________________________________________\n",
            " Layer (type)                   Output Shape         Param #     Connected to                     \n",
            "==================================================================================================\n",
            " input_2 (InputLayer)           [(None,)]            0           []                               \n",
            "                                                                                                  \n",
            " keras_layer (KerasLayer)       {'input_mask': (Non  0           ['input_2[0][0]']                \n",
            "                                e, 128),                                                          \n",
            "                                 'input_word_ids':                                                \n",
            "                                (None, 128),                                                      \n",
            "                                 'input_type_ids':                                                \n",
            "                                (None, 128)}                                                      \n",
            "                                                                                                  \n",
            " keras_layer_1 (KerasLayer)     {'encoder_outputs':  108310273   ['keras_layer[0][0]',            \n",
            "                                 [(None, 128, 768),               'keras_layer[0][1]',            \n",
            "                                 (None, 128, 768),                'keras_layer[0][2]']            \n",
            "                                 (None, 128, 768),                                                \n",
            "                                 (None, 128, 768),                                                \n",
            "                                 (None, 128, 768),                                                \n",
            "                                 (None, 128, 768),                                                \n",
            "                                 (None, 128, 768),                                                \n",
            "                                 (None, 128, 768),                                                \n",
            "                                 (None, 128, 768),                                                \n",
            "                                 (None, 128, 768),                                                \n",
            "                                 (None, 128, 768),                                                \n",
            "                                 (None, 128, 768)],                                               \n",
            "                                 'sequence_output':                                               \n",
            "                                 (None, 128, 768),                                                \n",
            "                                 'default': (None,                                                \n",
            "                                768),                                                             \n",
            "                                 'pooled_output': (                                               \n",
            "                                None, 768)}                                                       \n",
            "                                                                                                  \n",
            "==================================================================================================\n",
            "Total params: 108,310,273\n",
            "Trainable params: 0\n",
            "Non-trainable params: 108,310,273\n",
            "__________________________________________________________________________________________________\n"
          ]
        }
      ]
    },
    {
      "cell_type": "code",
      "source": [
        "XTr_fin=model0.predict(XTr_fin)\n",
        "XVal_fin=model0.predict(XVal_fin)"
      ],
      "metadata": {
        "colab": {
          "base_uri": "https://localhost:8080/"
        },
        "id": "xEj0r4mYblFo",
        "outputId": "273936cf-2b52-4fdf-bbe7-0cc354c84cf8"
      },
      "execution_count": 30,
      "outputs": [
        {
          "output_type": "stream",
          "name": "stdout",
          "text": [
            "164/164 [==============================] - 52s 310ms/step\n",
            "55/55 [==============================] - 18s 324ms/step\n"
          ]
        }
      ]
    },
    {
      "cell_type": "code",
      "source": [
        "print(XTr_fin.shape,XVal_fin.shape,type(XTr_fin),type(XVal_fin))"
      ],
      "metadata": {
        "colab": {
          "base_uri": "https://localhost:8080/"
        },
        "id": "Bd8vY1oMbsnX",
        "outputId": "25ac0b51-e2af-480e-954d-71a52436a5a1"
      },
      "execution_count": 31,
      "outputs": [
        {
          "output_type": "stream",
          "name": "stdout",
          "text": [
            "(5228, 128, 768) (1736, 128, 768) <class 'numpy.ndarray'> <class 'numpy.ndarray'>\n"
          ]
        }
      ]
    },
    {
      "cell_type": "code",
      "source": [
        "print(yTr.shape,yVal.shape,type(yTr),type(yVal))"
      ],
      "metadata": {
        "colab": {
          "base_uri": "https://localhost:8080/"
        },
        "id": "Yi0549Vzdzq1",
        "outputId": "5b55a355-70d5-4b25-e276-aa0c53a7f0f7"
      },
      "execution_count": 32,
      "outputs": [
        {
          "output_type": "stream",
          "name": "stdout",
          "text": [
            "(5228, 128) (1736, 128) <class 'numpy.ndarray'> <class 'numpy.ndarray'>\n"
          ]
        }
      ]
    },
    {
      "cell_type": "code",
      "source": [
        "input=Input(shape=(XTr_fin.shape[1],XTr_fin.shape[2]))\n",
        "output=CRF(units=token1)(input)\n",
        "mo=Model(input,output)\n",
        "mo.summary()\n",
        "\n",
        "model1=ModelWithCRFLoss(mo,sparse_target=True)\n",
        "model1.compile(optimizer ='rmsprop')"
      ],
      "metadata": {
        "colab": {
          "base_uri": "https://localhost:8080/"
        },
        "id": "MZoGx_5ScEFq",
        "outputId": "7e32b228-d388-4f08-d228-562b75d31b82"
      },
      "execution_count": 33,
      "outputs": [
        {
          "output_type": "stream",
          "name": "stdout",
          "text": [
            "Model: \"model_1\"\n",
            "_________________________________________________________________\n",
            " Layer (type)                Output Shape              Param #   \n",
            "=================================================================\n",
            " input_3 (InputLayer)        [(None, 128, 768)]        0         \n",
            "                                                                 \n",
            " crf (CRF)                   ((None, 128),             3870      \n",
            "                              (None, 128, 5),                    \n",
            "                              (None,),                           \n",
            "                              (5, 5))                            \n",
            "                                                                 \n",
            "=================================================================\n",
            "Total params: 3,870\n",
            "Trainable params: 3,870\n",
            "Non-trainable params: 0\n",
            "_________________________________________________________________\n"
          ]
        }
      ]
    },
    {
      "cell_type": "code",
      "source": [
        "es = EarlyStopping(monitor = \"val_loss_val\", mode = \"min\", verbose = True, restore_best_weights=True, patience = 1)\n",
        "cp = ModelCheckpoint(filepath,monitor=\"val_loss_val\",mode = \"min\",verbose=True,save_best_only=True)\n",
        "\n",
        "history = model1.fit(XTr_fin,yTr,validation_data=[XVal_fin,yVal],epochs=15,batch_size=100,callbacks=[cp,es])"
      ],
      "metadata": {
        "colab": {
          "base_uri": "https://localhost:8080/"
        },
        "id": "HPQRrIdGdhj7",
        "outputId": "3fd676ad-d57c-4034-bdef-b0d1ee1e2455"
      },
      "execution_count": 43,
      "outputs": [
        {
          "output_type": "stream",
          "name": "stdout",
          "text": [
            "Epoch 1/15\n",
            "53/53 [==============================] - ETA: 0s - loss: 116.9780 - accuracy: 0.5925\n",
            "Epoch 1: val_loss_val improved from inf to 115.52097, saving model to /content/drive/My Drive/Colab Notebooks/MODELS/BERT_CRF.ml\n"
          ]
        },
        {
          "output_type": "stream",
          "name": "stderr",
          "text": [
            "WARNING:absl:Found untraced functions such as dense_layer_call_fn, dense_layer_call_and_return_conditional_losses while saving (showing 2 of 2). These functions will not be directly callable after loading.\n"
          ]
        },
        {
          "output_type": "stream",
          "name": "stdout",
          "text": [
            "\b\b\b\b\b\b\b\b\b\b\b\b\b\b\b\b\b\b\b\b\b\b\b\b\b\b\b\b\b\b\b\b\b\b\b\b\b\b\b\b\b\b\b\b\b\b\b\b\b\b\b\b\b\b\b\b\b\b\b\b\b\b\b\b\b\b\b\b\b\b\b\b\b\b\b\b\b\b\b\b\b\b\b\b\r53/53 [==============================] - 25s 387ms/step - loss: 116.9780 - accuracy: 0.5925 - val_loss_val: 115.5210 - val_val_accuracy: 0.5852\n",
            "Epoch 2/15\n",
            "53/53 [==============================] - ETA: 0s - loss: 116.1730 - accuracy: 0.5918\n",
            "Epoch 2: val_loss_val improved from 115.52097 to 114.59867, saving model to /content/drive/My Drive/Colab Notebooks/MODELS/BERT_CRF.ml\n"
          ]
        },
        {
          "output_type": "stream",
          "name": "stderr",
          "text": [
            "WARNING:absl:Found untraced functions such as dense_layer_call_fn, dense_layer_call_and_return_conditional_losses while saving (showing 2 of 2). These functions will not be directly callable after loading.\n"
          ]
        },
        {
          "output_type": "stream",
          "name": "stdout",
          "text": [
            "\b\b\b\b\b\b\b\b\b\b\b\b\b\b\b\b\b\b\b\b\b\b\b\b\b\b\b\b\b\b\b\b\b\b\b\b\b\b\b\b\b\b\b\b\b\b\b\b\b\b\b\b\b\b\b\b\b\b\b\b\b\b\b\b\b\b\b\b\b\b\b\b\b\b\b\b\b\b\b\b\b\b\b\b\r53/53 [==============================] - 19s 365ms/step - loss: 116.1730 - accuracy: 0.5918 - val_loss_val: 114.5987 - val_val_accuracy: 0.5975\n",
            "Epoch 3/15\n",
            "53/53 [==============================] - ETA: 0s - loss: 115.2790 - accuracy: 0.5926\n",
            "Epoch 3: val_loss_val improved from 114.59867 to 113.92691, saving model to /content/drive/My Drive/Colab Notebooks/MODELS/BERT_CRF.ml\n"
          ]
        },
        {
          "output_type": "stream",
          "name": "stderr",
          "text": [
            "WARNING:absl:Found untraced functions such as dense_layer_call_fn, dense_layer_call_and_return_conditional_losses while saving (showing 2 of 2). These functions will not be directly callable after loading.\n"
          ]
        },
        {
          "output_type": "stream",
          "name": "stdout",
          "text": [
            "\b\b\b\b\b\b\b\b\b\b\b\b\b\b\b\b\b\b\b\b\b\b\b\b\b\b\b\b\b\b\b\b\b\b\b\b\b\b\b\b\b\b\b\b\b\b\b\b\b\b\b\b\b\b\b\b\b\b\b\b\b\b\b\b\b\b\b\b\b\b\b\b\b\b\b\b\b\b\b\b\b\b\b\b\r53/53 [==============================] - 19s 356ms/step - loss: 115.2790 - accuracy: 0.5926 - val_loss_val: 113.9269 - val_val_accuracy: 0.5970\n",
            "Epoch 4/15\n",
            "53/53 [==============================] - ETA: 0s - loss: 114.8014 - accuracy: 0.5930\n",
            "Epoch 4: val_loss_val improved from 113.92691 to 113.44425, saving model to /content/drive/My Drive/Colab Notebooks/MODELS/BERT_CRF.ml\n"
          ]
        },
        {
          "output_type": "stream",
          "name": "stderr",
          "text": [
            "WARNING:absl:Found untraced functions such as dense_layer_call_fn, dense_layer_call_and_return_conditional_losses while saving (showing 2 of 2). These functions will not be directly callable after loading.\n"
          ]
        },
        {
          "output_type": "stream",
          "name": "stdout",
          "text": [
            "\b\b\b\b\b\b\b\b\b\b\b\b\b\b\b\b\b\b\b\b\b\b\b\b\b\b\b\b\b\b\b\b\b\b\b\b\b\b\b\b\b\b\b\b\b\b\b\b\b\b\b\b\b\b\b\b\b\b\b\b\b\b\b\b\b\b\b\b\b\b\b\b\b\b\b\b\b\b\b\b\b\b\b\b\r53/53 [==============================] - 21s 390ms/step - loss: 114.8014 - accuracy: 0.5930 - val_loss_val: 113.4443 - val_val_accuracy: 0.5873\n",
            "Epoch 5/15\n",
            "53/53 [==============================] - ETA: 0s - loss: 114.2078 - accuracy: 0.5938\n",
            "Epoch 5: val_loss_val improved from 113.44425 to 112.99226, saving model to /content/drive/My Drive/Colab Notebooks/MODELS/BERT_CRF.ml\n"
          ]
        },
        {
          "output_type": "stream",
          "name": "stderr",
          "text": [
            "WARNING:absl:Found untraced functions such as dense_layer_call_fn, dense_layer_call_and_return_conditional_losses while saving (showing 2 of 2). These functions will not be directly callable after loading.\n"
          ]
        },
        {
          "output_type": "stream",
          "name": "stdout",
          "text": [
            "\b\b\b\b\b\b\b\b\b\b\b\b\b\b\b\b\b\b\b\b\b\b\b\b\b\b\b\b\b\b\b\b\b\b\b\b\b\b\b\b\b\b\b\b\b\b\b\b\b\b\b\b\b\b\b\b\b\b\b\b\b\b\b\b\b\b\b\b\b\b\b\b\b\b\b\b\b\b\b\b\b\b\b\b\r53/53 [==============================] - 19s 356ms/step - loss: 114.2078 - accuracy: 0.5938 - val_loss_val: 112.9923 - val_val_accuracy: 0.5901\n",
            "Epoch 6/15\n",
            "53/53 [==============================] - ETA: 0s - loss: 113.4127 - accuracy: 0.5934\n",
            "Epoch 6: val_loss_val improved from 112.99226 to 112.13487, saving model to /content/drive/My Drive/Colab Notebooks/MODELS/BERT_CRF.ml\n"
          ]
        },
        {
          "output_type": "stream",
          "name": "stderr",
          "text": [
            "WARNING:absl:Found untraced functions such as dense_layer_call_fn, dense_layer_call_and_return_conditional_losses while saving (showing 2 of 2). These functions will not be directly callable after loading.\n"
          ]
        },
        {
          "output_type": "stream",
          "name": "stdout",
          "text": [
            "\b\b\b\b\b\b\b\b\b\b\b\b\b\b\b\b\b\b\b\b\b\b\b\b\b\b\b\b\b\b\b\b\b\b\b\b\b\b\b\b\b\b\b\b\b\b\b\b\b\b\b\b\b\b\b\b\b\b\b\b\b\b\b\b\b\b\b\b\b\b\b\b\b\b\b\b\b\b\b\b\b\b\b\b\r53/53 [==============================] - 23s 434ms/step - loss: 113.4127 - accuracy: 0.5934 - val_loss_val: 112.1349 - val_val_accuracy: 0.6013\n",
            "Epoch 7/15\n",
            "53/53 [==============================] - ETA: 0s - loss: 112.7864 - accuracy: 0.5938\n",
            "Epoch 7: val_loss_val improved from 112.13487 to 111.76264, saving model to /content/drive/My Drive/Colab Notebooks/MODELS/BERT_CRF.ml\n"
          ]
        },
        {
          "output_type": "stream",
          "name": "stderr",
          "text": [
            "WARNING:absl:Found untraced functions such as dense_layer_call_fn, dense_layer_call_and_return_conditional_losses while saving (showing 2 of 2). These functions will not be directly callable after loading.\n"
          ]
        },
        {
          "output_type": "stream",
          "name": "stdout",
          "text": [
            "\b\b\b\b\b\b\b\b\b\b\b\b\b\b\b\b\b\b\b\b\b\b\b\b\b\b\b\b\b\b\b\b\b\b\b\b\b\b\b\b\b\b\b\b\b\b\b\b\b\b\b\b\b\b\b\b\b\b\b\b\b\b\b\b\b\b\b\b\b\b\b\b\b\b\b\b\b\b\b\b\b\b\b\b\r53/53 [==============================] - 19s 356ms/step - loss: 112.7864 - accuracy: 0.5938 - val_loss_val: 111.7626 - val_val_accuracy: 0.5878\n",
            "Epoch 8/15\n",
            "53/53 [==============================] - ETA: 0s - loss: 112.3079 - accuracy: 0.5949\n",
            "Epoch 8: val_loss_val improved from 111.76264 to 111.25028, saving model to /content/drive/My Drive/Colab Notebooks/MODELS/BERT_CRF.ml\n"
          ]
        },
        {
          "output_type": "stream",
          "name": "stderr",
          "text": [
            "WARNING:absl:Found untraced functions such as dense_layer_call_fn, dense_layer_call_and_return_conditional_losses while saving (showing 2 of 2). These functions will not be directly callable after loading.\n"
          ]
        },
        {
          "output_type": "stream",
          "name": "stdout",
          "text": [
            "\b\b\b\b\b\b\b\b\b\b\b\b\b\b\b\b\b\b\b\b\b\b\b\b\b\b\b\b\b\b\b\b\b\b\b\b\b\b\b\b\b\b\b\b\b\b\b\b\b\b\b\b\b\b\b\b\b\b\b\b\b\b\b\b\b\b\b\b\b\b\b\b\b\b\b\b\b\b\b\b\b\b\b\b\r53/53 [==============================] - 19s 360ms/step - loss: 112.3079 - accuracy: 0.5949 - val_loss_val: 111.2503 - val_val_accuracy: 0.6072\n",
            "Epoch 9/15\n",
            "53/53 [==============================] - ETA: 0s - loss: 111.8453 - accuracy: 0.5951\n",
            "Epoch 9: val_loss_val improved from 111.25028 to 111.23426, saving model to /content/drive/My Drive/Colab Notebooks/MODELS/BERT_CRF.ml\n"
          ]
        },
        {
          "output_type": "stream",
          "name": "stderr",
          "text": [
            "WARNING:absl:Found untraced functions such as dense_layer_call_fn, dense_layer_call_and_return_conditional_losses while saving (showing 2 of 2). These functions will not be directly callable after loading.\n"
          ]
        },
        {
          "output_type": "stream",
          "name": "stdout",
          "text": [
            "\b\b\b\b\b\b\b\b\b\b\b\b\b\b\b\b\b\b\b\b\b\b\b\b\b\b\b\b\b\b\b\b\b\b\b\b\b\b\b\b\b\b\b\b\b\b\b\b\b\b\b\b\b\b\b\b\b\b\b\b\b\b\b\b\b\b\b\b\b\b\b\b\b\b\b\b\b\b\b\b\b\b\b\b\r53/53 [==============================] - 20s 377ms/step - loss: 111.8453 - accuracy: 0.5951 - val_loss_val: 111.2343 - val_val_accuracy: 0.5808\n",
            "Epoch 10/15\n",
            "53/53 [==============================] - ETA: 0s - loss: 111.2215 - accuracy: 0.5950\n",
            "Epoch 10: val_loss_val improved from 111.23426 to 110.54550, saving model to /content/drive/My Drive/Colab Notebooks/MODELS/BERT_CRF.ml\n"
          ]
        },
        {
          "output_type": "stream",
          "name": "stderr",
          "text": [
            "WARNING:absl:Found untraced functions such as dense_layer_call_fn, dense_layer_call_and_return_conditional_losses while saving (showing 2 of 2). These functions will not be directly callable after loading.\n"
          ]
        },
        {
          "output_type": "stream",
          "name": "stdout",
          "text": [
            "\b\b\b\b\b\b\b\b\b\b\b\b\b\b\b\b\b\b\b\b\b\b\b\b\b\b\b\b\b\b\b\b\b\b\b\b\b\b\b\b\b\b\b\b\b\b\b\b\b\b\b\b\b\b\b\b\b\b\b\b\b\b\b\b\b\b\b\b\b\b\b\b\b\b\b\b\b\b\b\b\b\b\b\b\r53/53 [==============================] - 19s 357ms/step - loss: 111.2215 - accuracy: 0.5950 - val_loss_val: 110.5455 - val_val_accuracy: 0.5946\n",
            "Epoch 11/15\n",
            "53/53 [==============================] - ETA: 0s - loss: 111.0387 - accuracy: 0.5946\n",
            "Epoch 11: val_loss_val improved from 110.54550 to 110.08775, saving model to /content/drive/My Drive/Colab Notebooks/MODELS/BERT_CRF.ml\n"
          ]
        },
        {
          "output_type": "stream",
          "name": "stderr",
          "text": [
            "WARNING:absl:Found untraced functions such as dense_layer_call_fn, dense_layer_call_and_return_conditional_losses while saving (showing 2 of 2). These functions will not be directly callable after loading.\n"
          ]
        },
        {
          "output_type": "stream",
          "name": "stdout",
          "text": [
            "\b\b\b\b\b\b\b\b\b\b\b\b\b\b\b\b\b\b\b\b\b\b\b\b\b\b\b\b\b\b\b\b\b\b\b\b\b\b\b\b\b\b\b\b\b\b\b\b\b\b\b\b\b\b\b\b\b\b\b\b\b\b\b\b\b\b\b\b\b\b\b\b\b\b\b\b\b\b\b\b\b\b\b\b\r53/53 [==============================] - 19s 359ms/step - loss: 111.0387 - accuracy: 0.5946 - val_loss_val: 110.0878 - val_val_accuracy: 0.5824\n",
            "Epoch 12/15\n",
            "53/53 [==============================] - ETA: 0s - loss: 110.5122 - accuracy: 0.5948\n",
            "Epoch 12: val_loss_val improved from 110.08775 to 109.52505, saving model to /content/drive/My Drive/Colab Notebooks/MODELS/BERT_CRF.ml\n"
          ]
        },
        {
          "output_type": "stream",
          "name": "stderr",
          "text": [
            "WARNING:absl:Found untraced functions such as dense_layer_call_fn, dense_layer_call_and_return_conditional_losses while saving (showing 2 of 2). These functions will not be directly callable after loading.\n"
          ]
        },
        {
          "output_type": "stream",
          "name": "stdout",
          "text": [
            "\b\b\b\b\b\b\b\b\b\b\b\b\b\b\b\b\b\b\b\b\b\b\b\b\b\b\b\b\b\b\b\b\b\b\b\b\b\b\b\b\b\b\b\b\b\b\b\b\b\b\b\b\b\b\b\b\b\b\b\b\b\b\b\b\b\b\b\b\b\b\b\b\b\b\b\b\b\b\b\b\b\b\b\b\r53/53 [==============================] - 19s 360ms/step - loss: 110.5122 - accuracy: 0.5948 - val_loss_val: 109.5251 - val_val_accuracy: 0.5919\n",
            "Epoch 13/15\n",
            "53/53 [==============================] - ETA: 0s - loss: 110.1684 - accuracy: 0.5946\n",
            "Epoch 13: val_loss_val improved from 109.52505 to 109.10497, saving model to /content/drive/My Drive/Colab Notebooks/MODELS/BERT_CRF.ml\n"
          ]
        },
        {
          "output_type": "stream",
          "name": "stderr",
          "text": [
            "WARNING:absl:Found untraced functions such as dense_layer_call_fn, dense_layer_call_and_return_conditional_losses while saving (showing 2 of 2). These functions will not be directly callable after loading.\n"
          ]
        },
        {
          "output_type": "stream",
          "name": "stdout",
          "text": [
            "\b\b\b\b\b\b\b\b\b\b\b\b\b\b\b\b\b\b\b\b\b\b\b\b\b\b\b\b\b\b\b\b\b\b\b\b\b\b\b\b\b\b\b\b\b\b\b\b\b\b\b\b\b\b\b\b\b\b\b\b\b\b\b\b\b\b\b\b\b\b\b\b\b\b\b\b\b\b\b\b\b\b\b\b\r53/53 [==============================] - 19s 357ms/step - loss: 110.1684 - accuracy: 0.5946 - val_loss_val: 109.1050 - val_val_accuracy: 0.5994\n",
            "Epoch 14/15\n",
            "53/53 [==============================] - ETA: 0s - loss: 109.7811 - accuracy: 0.5935\n",
            "Epoch 14: val_loss_val improved from 109.10497 to 108.96278, saving model to /content/drive/My Drive/Colab Notebooks/MODELS/BERT_CRF.ml\n"
          ]
        },
        {
          "output_type": "stream",
          "name": "stderr",
          "text": [
            "WARNING:absl:Found untraced functions such as dense_layer_call_fn, dense_layer_call_and_return_conditional_losses while saving (showing 2 of 2). These functions will not be directly callable after loading.\n"
          ]
        },
        {
          "output_type": "stream",
          "name": "stdout",
          "text": [
            "\b\b\b\b\b\b\b\b\b\b\b\b\b\b\b\b\b\b\b\b\b\b\b\b\b\b\b\b\b\b\b\b\b\b\b\b\b\b\b\b\b\b\b\b\b\b\b\b\b\b\b\b\b\b\b\b\b\b\b\b\b\b\b\b\b\b\b\b\b\b\b\b\b\b\b\b\b\b\b\b\b\b\b\b\r53/53 [==============================] - 19s 367ms/step - loss: 109.7811 - accuracy: 0.5935 - val_loss_val: 108.9628 - val_val_accuracy: 0.5905\n",
            "Epoch 15/15\n",
            "53/53 [==============================] - ETA: 0s - loss: 109.4867 - accuracy: 0.5928\n",
            "Epoch 15: val_loss_val did not improve from 108.96278\n",
            "Restoring model weights from the end of the best epoch: 14.\n",
            "53/53 [==============================] - 19s 348ms/step - loss: 109.4867 - accuracy: 0.5928 - val_loss_val: 109.0527 - val_val_accuracy: 0.6018\n",
            "Epoch 15: early stopping\n"
          ]
        }
      ]
    },
    {
      "cell_type": "code",
      "source": [
        "model1.load_weights(filepath)"
      ],
      "metadata": {
        "colab": {
          "base_uri": "https://localhost:8080/"
        },
        "id": "ALpjZsE56H4h",
        "outputId": "b4fc0c97-6a95-44ca-c145-2df43723f384"
      },
      "execution_count": 44,
      "outputs": [
        {
          "output_type": "execute_result",
          "data": {
            "text/plain": [
              "<tensorflow.python.checkpoint.checkpoint.CheckpointLoadStatus at 0x7feb69a5dd30>"
            ]
          },
          "metadata": {},
          "execution_count": 44
        }
      ]
    },
    {
      "cell_type": "code",
      "source": [
        "import matplotlib.pyplot as plt\n",
        "\n",
        "plt.rcParams[\"figure.figsize\"] = (16,8)\n",
        "plt.plot(history.history['val_loss_val'])\n",
        "plt.plot(history.history['loss'])\n",
        "plt.xlabel('Epochs ->')\n",
        "plt.ylabel('Losses ->')\n",
        "plt.title('Losses v/s epochs.')\n",
        "plt.legend(['Val Loss','Train Loss'])\n",
        "plt.show()"
      ],
      "metadata": {
        "colab": {
          "base_uri": "https://localhost:8080/",
          "height": 513
        },
        "id": "6F4g0N5hgehe",
        "outputId": "528cf4ab-afa7-4391-8d12-fedd85d1c240"
      },
      "execution_count": 45,
      "outputs": [
        {
          "output_type": "display_data",
          "data": {
            "text/plain": [
              "<Figure size 1152x576 with 1 Axes>"
            ],
            "image/png": "[encoded data removed]"
          },
          "metadata": {
            "needs_background": "light"
          }
        }
      ]
    },
    {
      "cell_type": "code",
      "source": [
        "dict_1R={}\n",
        "for k,v in dict_1.items():\n",
        "  dict_1R[v]=k"
      ],
      "metadata": {
        "id": "bY_MysV-guuT"
      },
      "execution_count": 46,
      "outputs": []
    },
    {
      "cell_type": "code",
      "source": [
        "labels_=model1.predict(XVal_fin)\n",
        "i=0 # i-th example from val dataset.\n",
        "cnt=0\n",
        "print()\n",
        "for x in XVal_[0]:\n",
        "  print('{} {}'.format(x[0],dict_1R[labels_[i][cnt]]))\n",
        "  cnt+=1\n",
        "  if cnt>10:\n",
        "    break"
      ],
      "metadata": {
        "colab": {
          "base_uri": "https://localhost:8080/"
        },
        "id": "Ql-tJynlgwLL",
        "outputId": "46c94b78-dae6-4d73-81ea-b162ccc0bc4e"
      },
      "execution_count": 47,
      "outputs": [
        {
          "output_type": "stream",
          "name": "stdout",
          "text": [
            "55/55 [==============================] - 4s 77ms/step\n",
            "\n",
            "Title J\n",
            ": J\n",
            "ServiceNow J\n",
            "Developer J\n",
            "Duration J\n",
            ": J\n",
            "12-24 J\n",
            "month J\n",
            "contract J\n",
            "or J\n",
            "CTH J\n"
          ]
        }
      ]
    },
    {
      "cell_type": "code",
      "source": [
        "dict_1"
      ],
      "metadata": {
        "colab": {
          "base_uri": "https://localhost:8080/"
        },
        "id": "E9gE22cohHqX",
        "outputId": "fde0fe64-bac6-44c1-af79-564ee318de19"
      },
      "execution_count": 49,
      "outputs": [
        {
          "output_type": "execute_result",
          "data": {
            "text/plain": [
              "{'J': 0, 'O': 1, 'S': 2, 'UNK': 3, 'C': 4}"
            ]
          },
          "metadata": {},
          "execution_count": 49
        }
      ]
    },
    {
      "cell_type": "code",
      "source": [
        "!pip install sklearn-crfsuite"
      ],
      "metadata": {
        "colab": {
          "base_uri": "https://localhost:8080/"
        },
        "id": "hBet4AARhQf5",
        "outputId": "1197baf5-8f45-41ec-b289-6f608baee9be"
      },
      "execution_count": 50,
      "outputs": [
        {
          "output_type": "stream",
          "name": "stdout",
          "text": [
            "Looking in indexes: https://pypi.org/simple, https://us-python.pkg.dev/colab-wheels/public/simple/\n",
            "Requirement already satisfied: sklearn-crfsuite in /usr/local/lib/python3.8/dist-packages (0.3.6)\n",
            "Requirement already satisfied: six in /usr/local/lib/python3.8/dist-packages (from sklearn-crfsuite) (1.15.0)\n",
            "Requirement already satisfied: python-crfsuite>=0.8.3 in /usr/local/lib/python3.8/dist-packages (from sklearn-crfsuite) (0.9.8)\n",
            "Requirement already satisfied: tqdm>=2.0 in /usr/local/lib/python3.8/dist-packages (from sklearn-crfsuite) (4.64.1)\n",
            "Requirement already satisfied: tabulate in /usr/local/lib/python3.8/dist-packages (from sklearn-crfsuite) (0.8.10)\n"
          ]
        }
      ]
    },
    {
      "cell_type": "code",
      "source": [
        "import sklearn_crfsuite\n",
        "from sklearn_crfsuite import scorers\n",
        "from sklearn_crfsuite import metrics\n",
        "\n",
        "def labelIt(yVal):\n",
        "  yVal_lis=[]\n",
        "  for y1 in yVal:\n",
        "    temp=[]\n",
        "    for y2 in y1:\n",
        "      temp.append(dict_1R[y2])\n",
        "    yVal_lis.append(temp)\n",
        "  return yVal_lis \n",
        "\n",
        "yVal_=labelIt(yVal)\n",
        "yPred_=labelIt(labels_)\n",
        "labls=['C','J','S','O','UNK']\n",
        "metrics.flat_f1_score(yVal_,yPred_,average='weighted',labels=labls)"
      ],
      "metadata": {
        "colab": {
          "base_uri": "https://localhost:8080/"
        },
        "id": "SCEkHYsohUfY",
        "outputId": "8fdbfc89-d64d-49fd-fadc-ab1a4e0d1f56"
      },
      "execution_count": 51,
      "outputs": [
        {
          "output_type": "execute_result",
          "data": {
            "text/plain": [
              "0.5012617074997893"
            ]
          },
          "metadata": {},
          "execution_count": 51
        }
      ]
    },
    {
      "cell_type": "code",
      "source": [
        "pip install -U 'scikit-learn<0.24'"
      ],
      "metadata": {
        "colab": {
          "base_uri": "https://localhost:8080/"
        },
        "id": "1NJ6RBduijLA",
        "outputId": "4e99083b-26e0-4bff-cb02-ebfdab70d1fc"
      },
      "execution_count": 52,
      "outputs": [
        {
          "output_type": "stream",
          "name": "stdout",
          "text": [
            "Looking in indexes: https://pypi.org/simple, https://us-python.pkg.dev/colab-wheels/public/simple/\n",
            "Requirement already satisfied: scikit-learn<0.24 in /usr/local/lib/python3.8/dist-packages (0.23.2)\n",
            "Requirement already satisfied: joblib>=0.11 in /usr/local/lib/python3.8/dist-packages (from scikit-learn<0.24) (1.2.0)\n",
            "Requirement already satisfied: numpy>=1.13.3 in /usr/local/lib/python3.8/dist-packages (from scikit-learn<0.24) (1.21.6)\n",
            "Requirement already satisfied: threadpoolctl>=2.0.0 in /usr/local/lib/python3.8/dist-packages (from scikit-learn<0.24) (3.1.0)\n",
            "Requirement already satisfied: scipy>=0.19.1 in /usr/local/lib/python3.8/dist-packages (from scikit-learn<0.24) (1.7.3)\n"
          ]
        }
      ]
    },
    {
      "cell_type": "code",
      "source": [
        "print(metrics.flat_classification_report(yVal_,yPred_,labels=labls,digits=3))"
      ],
      "metadata": {
        "colab": {
          "base_uri": "https://localhost:8080/"
        },
        "id": "2He4FsGYhXea",
        "outputId": "13b2c083-d74d-4e3f-a162-bcd93fccdcf1"
      },
      "execution_count": 53,
      "outputs": [
        {
          "output_type": "stream",
          "name": "stderr",
          "text": [
            "/usr/local/lib/python3.8/dist-packages/sklearn/utils/validation.py:67: FutureWarning: Pass labels=['C', 'J', 'S', 'O', 'UNK'] as keyword args. From version 0.25 passing these as positional arguments will result in an error\n",
            "  warnings.warn(\"Pass {} as keyword args. From version 0.25 \"\n",
            "/usr/local/lib/python3.8/dist-packages/sklearn/metrics/_classification.py:1221: UndefinedMetricWarning: Precision and F-score are ill-defined and being set to 0.0 in labels with no predicted samples. Use `zero_division` parameter to control this behavior.\n",
            "  _warn_prf(average, modifier, msg_start, len(result))\n"
          ]
        },
        {
          "output_type": "stream",
          "name": "stdout",
          "text": [
            "              precision    recall  f1-score   support\n",
            "\n",
            "           C      0.000     0.000     0.000        94\n",
            "           J      0.581     0.870     0.697    109393\n",
            "           S      0.268     0.026     0.048     41666\n",
            "           O      0.341     0.105     0.161     37973\n",
            "         UNK      0.727     0.936     0.818     33082\n",
            "\n",
            "    accuracy                          0.591    222208\n",
            "   macro avg      0.383     0.387     0.345    222208\n",
            "weighted avg      0.503     0.591     0.501    222208\n",
            "\n"
          ]
        }
      ]
    }
  ]
}