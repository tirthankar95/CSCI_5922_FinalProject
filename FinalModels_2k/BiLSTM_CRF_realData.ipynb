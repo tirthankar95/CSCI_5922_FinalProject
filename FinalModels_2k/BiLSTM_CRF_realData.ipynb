{
  "nbformat": 4,
  "nbformat_minor": 0,
  "metadata": {
    "colab": {
      "provenance": []
    },
    "kernelspec": {
      "name": "python3",
      "display_name": "Python 3"
    },
    "language_info": {
      "name": "python"
    }
  },
  "cells": [
    {
      "cell_type": "code",
      "source": [
        "!pip install tf2crf"
      ],
      "metadata": {
        "colab": {
          "base_uri": "https://localhost:8080/"
        },
        "id": "Vw-32IGQ2elc",
        "outputId": "fdd5fcf7-a43b-4568-af39-4554bd2425b5"
      },
      "execution_count": 3,
      "outputs": [
        {
          "output_type": "stream",
          "name": "stdout",
          "text": [
            "Looking in indexes: https://pypi.org/simple, https://us-python.pkg.dev/colab-wheels/public/simple/\n",
            "Requirement already satisfied: tf2crf in /usr/local/lib/python3.8/dist-packages (0.1.33)\n",
            "Requirement already satisfied: tensorflow>=2.1.0 in /usr/local/lib/python3.8/dist-packages (from tf2crf) (2.9.2)\n",
            "Requirement already satisfied: tensorflow-addons>=0.8.2 in /usr/local/lib/python3.8/dist-packages (from tf2crf) (0.18.0)\n",
            "Requirement already satisfied: six>=1.12.0 in /usr/local/lib/python3.8/dist-packages (from tensorflow>=2.1.0->tf2crf) (1.15.0)\n",
            "Requirement already satisfied: typing-extensions>=3.6.6 in /usr/local/lib/python3.8/dist-packages (from tensorflow>=2.1.0->tf2crf) (4.1.1)\n",
            "Requirement already satisfied: tensorflow-estimator<2.10.0,>=2.9.0rc0 in /usr/local/lib/python3.8/dist-packages (from tensorflow>=2.1.0->tf2crf) (2.9.0)\n",
            "Requirement already satisfied: protobuf<3.20,>=3.9.2 in /usr/local/lib/python3.8/dist-packages (from tensorflow>=2.1.0->tf2crf) (3.19.6)\n",
            "Requirement already satisfied: tensorboard<2.10,>=2.9 in /usr/local/lib/python3.8/dist-packages (from tensorflow>=2.1.0->tf2crf) (2.9.1)\n",
            "Requirement already satisfied: wrapt>=1.11.0 in /usr/local/lib/python3.8/dist-packages (from tensorflow>=2.1.0->tf2crf) (1.14.1)\n",
            "Requirement already satisfied: libclang>=13.0.0 in /usr/local/lib/python3.8/dist-packages (from tensorflow>=2.1.0->tf2crf) (14.0.6)\n",
            "Requirement already satisfied: setuptools in /usr/local/lib/python3.8/dist-packages (from tensorflow>=2.1.0->tf2crf) (57.4.0)\n",
            "Requirement already satisfied: packaging in /usr/local/lib/python3.8/dist-packages (from tensorflow>=2.1.0->tf2crf) (21.3)\n",
            "Requirement already satisfied: grpcio<2.0,>=1.24.3 in /usr/local/lib/python3.8/dist-packages (from tensorflow>=2.1.0->tf2crf) (1.50.0)\n",
            "Requirement already satisfied: termcolor>=1.1.0 in /usr/local/lib/python3.8/dist-packages (from tensorflow>=2.1.0->tf2crf) (2.1.1)\n",
            "Requirement already satisfied: absl-py>=1.0.0 in /usr/local/lib/python3.8/dist-packages (from tensorflow>=2.1.0->tf2crf) (1.3.0)\n",
            "Requirement already satisfied: astunparse>=1.6.0 in /usr/local/lib/python3.8/dist-packages (from tensorflow>=2.1.0->tf2crf) (1.6.3)\n",
            "Requirement already satisfied: numpy>=1.20 in /usr/local/lib/python3.8/dist-packages (from tensorflow>=2.1.0->tf2crf) (1.21.6)\n",
            "Requirement already satisfied: opt-einsum>=2.3.2 in /usr/local/lib/python3.8/dist-packages (from tensorflow>=2.1.0->tf2crf) (3.3.0)\n",
            "Requirement already satisfied: keras<2.10.0,>=2.9.0rc0 in /usr/local/lib/python3.8/dist-packages (from tensorflow>=2.1.0->tf2crf) (2.9.0)\n",
            "Requirement already satisfied: h5py>=2.9.0 in /usr/local/lib/python3.8/dist-packages (from tensorflow>=2.1.0->tf2crf) (3.1.0)\n",
            "Requirement already satisfied: keras-preprocessing>=1.1.1 in /usr/local/lib/python3.8/dist-packages (from tensorflow>=2.1.0->tf2crf) (1.1.2)\n",
            "Requirement already satisfied: google-pasta>=0.1.1 in /usr/local/lib/python3.8/dist-packages (from tensorflow>=2.1.0->tf2crf) (0.2.0)\n",
            "Requirement already satisfied: tensorflow-io-gcs-filesystem>=0.23.1 in /usr/local/lib/python3.8/dist-packages (from tensorflow>=2.1.0->tf2crf) (0.28.0)\n",
            "Requirement already satisfied: gast<=0.4.0,>=0.2.1 in /usr/local/lib/python3.8/dist-packages (from tensorflow>=2.1.0->tf2crf) (0.4.0)\n",
            "Requirement already satisfied: flatbuffers<2,>=1.12 in /usr/local/lib/python3.8/dist-packages (from tensorflow>=2.1.0->tf2crf) (1.12)\n",
            "Requirement already satisfied: wheel<1.0,>=0.23.0 in /usr/local/lib/python3.8/dist-packages (from astunparse>=1.6.0->tensorflow>=2.1.0->tf2crf) (0.38.4)\n",
            "Requirement already satisfied: google-auth<3,>=1.6.3 in /usr/local/lib/python3.8/dist-packages (from tensorboard<2.10,>=2.9->tensorflow>=2.1.0->tf2crf) (2.14.1)\n",
            "Requirement already satisfied: werkzeug>=1.0.1 in /usr/local/lib/python3.8/dist-packages (from tensorboard<2.10,>=2.9->tensorflow>=2.1.0->tf2crf) (1.0.1)\n",
            "Requirement already satisfied: tensorboard-plugin-wit>=1.6.0 in /usr/local/lib/python3.8/dist-packages (from tensorboard<2.10,>=2.9->tensorflow>=2.1.0->tf2crf) (1.8.1)\n",
            "Requirement already satisfied: requests<3,>=2.21.0 in /usr/local/lib/python3.8/dist-packages (from tensorboard<2.10,>=2.9->tensorflow>=2.1.0->tf2crf) (2.23.0)\n",
            "Requirement already satisfied: google-auth-oauthlib<0.5,>=0.4.1 in /usr/local/lib/python3.8/dist-packages (from tensorboard<2.10,>=2.9->tensorflow>=2.1.0->tf2crf) (0.4.6)\n",
            "Requirement already satisfied: markdown>=2.6.8 in /usr/local/lib/python3.8/dist-packages (from tensorboard<2.10,>=2.9->tensorflow>=2.1.0->tf2crf) (3.4.1)\n",
            "Requirement already satisfied: tensorboard-data-server<0.7.0,>=0.6.0 in /usr/local/lib/python3.8/dist-packages (from tensorboard<2.10,>=2.9->tensorflow>=2.1.0->tf2crf) (0.6.1)\n",
            "Requirement already satisfied: cachetools<6.0,>=2.0.0 in /usr/local/lib/python3.8/dist-packages (from google-auth<3,>=1.6.3->tensorboard<2.10,>=2.9->tensorflow>=2.1.0->tf2crf) (5.2.0)\n",
            "Requirement already satisfied: rsa<5,>=3.1.4 in /usr/local/lib/python3.8/dist-packages (from google-auth<3,>=1.6.3->tensorboard<2.10,>=2.9->tensorflow>=2.1.0->tf2crf) (4.9)\n",
            "Requirement already satisfied: pyasn1-modules>=0.2.1 in /usr/local/lib/python3.8/dist-packages (from google-auth<3,>=1.6.3->tensorboard<2.10,>=2.9->tensorflow>=2.1.0->tf2crf) (0.2.8)\n",
            "Requirement already satisfied: requests-oauthlib>=0.7.0 in /usr/local/lib/python3.8/dist-packages (from google-auth-oauthlib<0.5,>=0.4.1->tensorboard<2.10,>=2.9->tensorflow>=2.1.0->tf2crf) (1.3.1)\n",
            "Requirement already satisfied: importlib-metadata>=4.4 in /usr/local/lib/python3.8/dist-packages (from markdown>=2.6.8->tensorboard<2.10,>=2.9->tensorflow>=2.1.0->tf2crf) (4.13.0)\n",
            "Requirement already satisfied: zipp>=0.5 in /usr/local/lib/python3.8/dist-packages (from importlib-metadata>=4.4->markdown>=2.6.8->tensorboard<2.10,>=2.9->tensorflow>=2.1.0->tf2crf) (3.10.0)\n",
            "Requirement already satisfied: pyasn1<0.5.0,>=0.4.6 in /usr/local/lib/python3.8/dist-packages (from pyasn1-modules>=0.2.1->google-auth<3,>=1.6.3->tensorboard<2.10,>=2.9->tensorflow>=2.1.0->tf2crf) (0.4.8)\n",
            "Requirement already satisfied: idna<3,>=2.5 in /usr/local/lib/python3.8/dist-packages (from requests<3,>=2.21.0->tensorboard<2.10,>=2.9->tensorflow>=2.1.0->tf2crf) (2.10)\n",
            "Requirement already satisfied: certifi>=2017.4.17 in /usr/local/lib/python3.8/dist-packages (from requests<3,>=2.21.0->tensorboard<2.10,>=2.9->tensorflow>=2.1.0->tf2crf) (2022.9.24)\n",
            "Requirement already satisfied: chardet<4,>=3.0.2 in /usr/local/lib/python3.8/dist-packages (from requests<3,>=2.21.0->tensorboard<2.10,>=2.9->tensorflow>=2.1.0->tf2crf) (3.0.4)\n",
            "Requirement already satisfied: urllib3!=1.25.0,!=1.25.1,<1.26,>=1.21.1 in /usr/local/lib/python3.8/dist-packages (from requests<3,>=2.21.0->tensorboard<2.10,>=2.9->tensorflow>=2.1.0->tf2crf) (1.24.3)\n",
            "Requirement already satisfied: oauthlib>=3.0.0 in /usr/local/lib/python3.8/dist-packages (from requests-oauthlib>=0.7.0->google-auth-oauthlib<0.5,>=0.4.1->tensorboard<2.10,>=2.9->tensorflow>=2.1.0->tf2crf) (3.2.2)\n",
            "Requirement already satisfied: typeguard>=2.7 in /usr/local/lib/python3.8/dist-packages (from tensorflow-addons>=0.8.2->tf2crf) (2.7.1)\n",
            "Requirement already satisfied: pyparsing!=3.0.5,>=2.0.2 in /usr/local/lib/python3.8/dist-packages (from packaging->tensorflow>=2.1.0->tf2crf) (3.0.9)\n"
          ]
        }
      ]
    },
    {
      "cell_type": "code",
      "source": [
        "pip install -U 'scikit-learn<0.24'"
      ],
      "metadata": {
        "colab": {
          "base_uri": "https://localhost:8080/"
        },
        "id": "s9oqdeeI87yH",
        "outputId": "5fe2863a-a627-475f-a9c5-ffaa07abf5d9"
      },
      "execution_count": 4,
      "outputs": [
        {
          "output_type": "stream",
          "name": "stdout",
          "text": [
            "Looking in indexes: https://pypi.org/simple, https://us-python.pkg.dev/colab-wheels/public/simple/\n",
            "Requirement already satisfied: scikit-learn<0.24 in /usr/local/lib/python3.8/dist-packages (0.23.2)\n",
            "Requirement already satisfied: joblib>=0.11 in /usr/local/lib/python3.8/dist-packages (from scikit-learn<0.24) (1.2.0)\n",
            "Requirement already satisfied: threadpoolctl>=2.0.0 in /usr/local/lib/python3.8/dist-packages (from scikit-learn<0.24) (3.1.0)\n",
            "Requirement already satisfied: numpy>=1.13.3 in /usr/local/lib/python3.8/dist-packages (from scikit-learn<0.24) (1.21.6)\n",
            "Requirement already satisfied: scipy>=0.19.1 in /usr/local/lib/python3.8/dist-packages (from scikit-learn<0.24) (1.7.3)\n"
          ]
        }
      ]
    },
    {
      "cell_type": "code",
      "execution_count": 5,
      "metadata": {
        "id": "yaYxWTKuj2Wz"
      },
      "outputs": [],
      "source": [
        "%matplotlib inline\n",
        "import matplotlib.pyplot as plt\n",
        "plt.style.use('ggplot')\n",
        "\n",
        "from itertools import chain\n",
        "import numpy as np\n",
        "\n",
        "import nltk\n",
        "import sklearn\n",
        "import scipy.stats\n",
        "from sklearn.metrics import make_scorer\n",
        "from sklearn.model_selection import cross_val_score\n",
        "from nltk.tokenize import word_tokenize\n",
        "import numpy as np\n",
        "\n",
        "import keras \n",
        "from tf2crf import CRF \n",
        "from tf2crf import ModelWithCRFLoss\n",
        "\n",
        "from keras.models import Sequential,Model\n",
        "from keras.layers import LSTM,Bidirectional,Dense,Input,Embedding,TimeDistributed\n",
        "from keras.callbacks import EarlyStopping, ModelCheckpoint"
      ]
    },
    {
      "cell_type": "code",
      "source": [
        "nltk.download('punkt')\n",
        "nltk.download('averaged_perceptron_tagger')"
      ],
      "metadata": {
        "colab": {
          "base_uri": "https://localhost:8080/"
        },
        "id": "PQn1IoZiUlAL",
        "outputId": "b2dc1761-03f7-479d-cb1b-59e00cc69855"
      },
      "execution_count": 6,
      "outputs": [
        {
          "output_type": "stream",
          "name": "stderr",
          "text": [
            "[nltk_data] Downloading package punkt to /root/nltk_data...\n",
            "[nltk_data]   Package punkt is already up-to-date!\n",
            "[nltk_data] Downloading package averaged_perceptron_tagger to\n",
            "[nltk_data]     /root/nltk_data...\n",
            "[nltk_data]   Package averaged_perceptron_tagger is already up-to-\n",
            "[nltk_data]       date!\n"
          ]
        },
        {
          "output_type": "execute_result",
          "data": {
            "text/plain": [
              "True"
            ]
          },
          "metadata": {},
          "execution_count": 6
        }
      ]
    },
    {
      "cell_type": "code",
      "source": [
        "from google.colab import drive,files\n",
        "drive.mount(\"/content/drive\")\n",
        "dataM='/content/drive/My Drive/Colab Notebooks/MODELS/'\n",
        "filepath = dataM+'BiLSTM_CRF.ml'"
      ],
      "metadata": {
        "colab": {
          "base_uri": "https://localhost:8080/"
        },
        "id": "oU7jepWEbPWF",
        "outputId": "a838108d-be91-41ed-9f4f-11f2ce33d896"
      },
      "execution_count": 7,
      "outputs": [
        {
          "output_type": "stream",
          "name": "stdout",
          "text": [
            "Drive already mounted at /content/drive; to attempt to forcibly remount, call drive.mount(\"/content/drive\", force_remount=True).\n"
          ]
        }
      ]
    },
    {
      "cell_type": "code",
      "source": [
        "!cp -rf drive/MyDrive/job_20k.json /content/"
      ],
      "metadata": {
        "id": "3NGa75QdQojA"
      },
      "execution_count": 8,
      "outputs": []
    },
    {
      "cell_type": "code",
      "source": [
        "import pandas as pd\n",
        "import json\n",
        "path_to_json = 'job_20k.json'\n",
        "df  = pd.read_json(path_to_json,lines=True)\n",
        "df.head().T"
      ],
      "metadata": {
        "colab": {
          "base_uri": "https://localhost:8080/",
          "height": 253
        },
        "id": "VFxEpbm-Qnkf",
        "outputId": "f136f36b-c56d-4747-90ab-f4e1a601fec6"
      },
      "execution_count": 9,
      "outputs": [
        {
          "output_type": "execute_result",
          "data": {
            "text/plain": [
              "                                                                   0  \\\n",
              "clean_descrition   A technology services client of ours is lookin...   \n",
              "organization_list                 [Swift, Strategic, Solutions, Inc]   \n",
              "skill_list         [NoSQL, Teradata, Netezza, Cosmos, DB, JSON, A...   \n",
              "job_title_list                                   [Bigdata, Engineer]   \n",
              "\n",
              "                                                                   1  \\\n",
              "clean_descrition   Job Title :Java Sr developerLocation: RemoteLo...   \n",
              "organization_list                [AQUA, Information, Systems,, Inc.]   \n",
              "skill_list                                         [Java, JEE, J2EE]   \n",
              "job_title_list                                     [Java, developer]   \n",
              "\n",
              "                                                                   2  \\\n",
              "clean_descrition   Mandatory Skills: Strong in Oracle database 19...   \n",
              "organization_list                         [Softnet, Consulting, Inc]   \n",
              "skill_list         [Oracle, database, 19c, Advanced, PL/SQL, prog...   \n",
              "job_title_list                     [Oracle, PL/SQL, Lead, Architect]   \n",
              "\n",
              "                                                                   3  \\\n",
              "clean_descrition   Associate Scientist Thousand Oaks, CADescripti...   \n",
              "organization_list                                    [Apex, Systems]   \n",
              "skill_list              [Biochemistry, Biology, Analytical, Systems]   \n",
              "job_title_list                                [Associate, Scientist]   \n",
              "\n",
              "                                                                   4  \n",
              "clean_descrition   Growing fintech company looking for Mid Level,...  \n",
              "organization_list                                            [Jobot]  \n",
              "skill_list         [Developer, JavaScript, SQL, ASP, HTML, Archit...  \n",
              "job_title_list                                  [Software, Engineer]  "
            ],
            "text/html": [
              "\n",
              "  <div id=\"df-515cf246-1860-4cb4-aad5-b2dc74b42c57\">\n",
              "    <div class=\"colab-df-container\">\n",
              "      <div>\n",
              "<style scoped>\n",
              "    .dataframe tbody tr th:only-of-type {\n",
              "        vertical-align: middle;\n",
              "    }\n",
              "\n",
              "    .dataframe tbody tr th {\n",
              "        vertical-align: top;\n",
              "    }\n",
              "\n",
              "    .dataframe thead th {\n",
              "        text-align: right;\n",
              "    }\n",
              "</style>\n",
              "<table border=\"1\" class=\"dataframe\">\n",
              "  <thead>\n",
              "    <tr style=\"text-align: right;\">\n",
              "      <th></th>\n",
              "      <th>0</th>\n",
              "      <th>1</th>\n",
              "      <th>2</th>\n",
              "      <th>3</th>\n",
              "      <th>4</th>\n",
              "    </tr>\n",
              "  </thead>\n",
              "  <tbody>\n",
              "    <tr>\n",
              "      <th>clean_descrition</th>\n",
              "      <td>A technology services client of ours is lookin...</td>\n",
              "      <td>Job Title :Java Sr developerLocation: RemoteLo...</td>\n",
              "      <td>Mandatory Skills: Strong in Oracle database 19...</td>\n",
              "      <td>Associate Scientist Thousand Oaks, CADescripti...</td>\n",
              "      <td>Growing fintech company looking for Mid Level,...</td>\n",
              "    </tr>\n",
              "    <tr>\n",
              "      <th>organization_list</th>\n",
              "      <td>[Swift, Strategic, Solutions, Inc]</td>\n",
              "      <td>[AQUA, Information, Systems,, Inc.]</td>\n",
              "      <td>[Softnet, Consulting, Inc]</td>\n",
              "      <td>[Apex, Systems]</td>\n",
              "      <td>[Jobot]</td>\n",
              "    </tr>\n",
              "    <tr>\n",
              "      <th>skill_list</th>\n",
              "      <td>[NoSQL, Teradata, Netezza, Cosmos, DB, JSON, A...</td>\n",
              "      <td>[Java, JEE, J2EE]</td>\n",
              "      <td>[Oracle, database, 19c, Advanced, PL/SQL, prog...</td>\n",
              "      <td>[Biochemistry, Biology, Analytical, Systems]</td>\n",
              "      <td>[Developer, JavaScript, SQL, ASP, HTML, Archit...</td>\n",
              "    </tr>\n",
              "    <tr>\n",
              "      <th>job_title_list</th>\n",
              "      <td>[Bigdata, Engineer]</td>\n",
              "      <td>[Java, developer]</td>\n",
              "      <td>[Oracle, PL/SQL, Lead, Architect]</td>\n",
              "      <td>[Associate, Scientist]</td>\n",
              "      <td>[Software, Engineer]</td>\n",
              "    </tr>\n",
              "  </tbody>\n",
              "</table>\n",
              "</div>\n",
              "      <button class=\"colab-df-convert\" onclick=\"convertToInteractive('df-515cf246-1860-4cb4-aad5-b2dc74b42c57')\"\n",
              "              title=\"Convert this dataframe to an interactive table.\"\n",
              "              style=\"display:none;\">\n",
              "        \n",
              "  <svg xmlns=\"http://www.w3.org/2000/svg\" height=\"24px\"viewBox=\"0 0 24 24\"\n",
              "       width=\"24px\">\n",
              "    <path d=\"M0 0h24v24H0V0z\" fill=\"none\"/>\n",
              "    <path d=\"M18.56 5.44l.94 2.06.94-2.06 2.06-.94-2.06-.94-.94-2.06-.94 2.06-2.06.94zm-11 1L8.5 8.5l.94-2.06 2.06-.94-2.06-.94L8.5 2.5l-.94 2.06-2.06.94zm10 10l.94 2.06.94-2.06 2.06-.94-2.06-.94-.94-2.06-.94 2.06-2.06.94z\"/><path d=\"M17.41 7.96l-1.37-1.37c-.4-.4-.92-.59-1.43-.59-.52 0-1.04.2-1.43.59L10.3 9.45l-7.72 7.72c-.78.78-.78 2.05 0 2.83L4 21.41c.39.39.9.59 1.41.59.51 0 1.02-.2 1.41-.59l7.78-7.78 2.81-2.81c.8-.78.8-2.07 0-2.86zM5.41 20L4 18.59l7.72-7.72 1.47 1.35L5.41 20z\"/>\n",
              "  </svg>\n",
              "      </button>\n",
              "      \n",
              "  <style>\n",
              "    .colab-df-container {\n",
              "      display:flex;\n",
              "      flex-wrap:wrap;\n",
              "      gap: 12px;\n",
              "    }\n",
              "\n",
              "    .colab-df-convert {\n",
              "      background-color: #E8F0FE;\n",
              "      border: none;\n",
              "      border-radius: 50%;\n",
              "      cursor: pointer;\n",
              "      display: none;\n",
              "      fill: #1967D2;\n",
              "      height: 32px;\n",
              "      padding: 0 0 0 0;\n",
              "      width: 32px;\n",
              "    }\n",
              "\n",
              "    .colab-df-convert:hover {\n",
              "      background-color: #E2EBFA;\n",
              "      box-shadow: 0px 1px 2px rgba(60, 64, 67, 0.3), 0px 1px 3px 1px rgba(60, 64, 67, 0.15);\n",
              "      fill: #174EA6;\n",
              "    }\n",
              "\n",
              "    [theme=dark] .colab-df-convert {\n",
              "      background-color: #3B4455;\n",
              "      fill: #D2E3FC;\n",
              "    }\n",
              "\n",
              "    [theme=dark] .colab-df-convert:hover {\n",
              "      background-color: #434B5C;\n",
              "      box-shadow: 0px 1px 3px 1px rgba(0, 0, 0, 0.15);\n",
              "      filter: drop-shadow(0px 1px 2px rgba(0, 0, 0, 0.3));\n",
              "      fill: #FFFFFF;\n",
              "    }\n",
              "  </style>\n",
              "\n",
              "      <script>\n",
              "        const buttonEl =\n",
              "          document.querySelector('#df-515cf246-1860-4cb4-aad5-b2dc74b42c57 button.colab-df-convert');\n",
              "        buttonEl.style.display =\n",
              "          google.colab.kernel.accessAllowed ? 'block' : 'none';\n",
              "\n",
              "        async function convertToInteractive(key) {\n",
              "          const element = document.querySelector('#df-515cf246-1860-4cb4-aad5-b2dc74b42c57');\n",
              "          const dataTable =\n",
              "            await google.colab.kernel.invokeFunction('convertToInteractive',\n",
              "                                                     [key], {});\n",
              "          if (!dataTable) return;\n",
              "\n",
              "          const docLinkHtml = 'Like what you see? Visit the ' +\n",
              "            '<a target=\"_blank\" href=https://colab.research.google.com/notebooks/data_table.ipynb>data table notebook</a>'\n",
              "            + ' to learn more about interactive tables.';\n",
              "          element.innerHTML = '';\n",
              "          dataTable['output_type'] = 'display_data';\n",
              "          await google.colab.output.renderOutput(dataTable, element);\n",
              "          const docLink = document.createElement('div');\n",
              "          docLink.innerHTML = docLinkHtml;\n",
              "          element.appendChild(docLink);\n",
              "        }\n",
              "      </script>\n",
              "    </div>\n",
              "  </div>\n",
              "  "
            ]
          },
          "metadata": {},
          "execution_count": 9
        }
      ]
    },
    {
      "cell_type": "code",
      "source": [
        "df['clean_descrition'] = df['clean_descrition'].str.replace(r'[^\\w\\s]+', ' ')\n",
        "df['clean_descrition'] = df['clean_descrition'].apply(lambda x: ' '.join(x.split()[:128]))\n",
        "df['clean_descrition'][1]"
      ],
      "metadata": {
        "colab": {
          "base_uri": "https://localhost:8080/",
          "height": 140
        },
        "id": "Ck0-U2LLRMHR",
        "outputId": "3ce0f868-b097-4da8-c43c-77a8cfa61264"
      },
      "execution_count": 10,
      "outputs": [
        {
          "output_type": "stream",
          "name": "stderr",
          "text": [
            "<ipython-input-10-42c4f31900d0>:1: FutureWarning: The default value of regex will change from True to False in a future version.\n",
            "  df['clean_descrition'] = df['clean_descrition'].str.replace(r'[^\\w\\s]+', ' ')\n"
          ]
        },
        {
          "output_type": "execute_result",
          "data": {
            "text/plain": [
              "'Job Title Java Sr developerLocation RemoteLong TermSkills java jeShould have good understanding on the change management role and had depth knowledge on the change advisory board process CAB Good knowledge on the incident management Problem management Change Management Should have involved in the 3L level of activities i e root cause analysis environment analysis understanding the application architecture infrastructure architecture The resource should have very good understanding on the SDLC process Very good knowledge on the Java J2EE and have hands on experience in understanding the architecture of heterogeneous application Good communication skills and team handling abilities Should have worked on the onshore offshore model Should be flexible and having good attitude'"
            ],
            "application/vnd.google.colaboratory.intrinsic+json": {
              "type": "string"
            }
          },
          "metadata": {},
          "execution_count": 10
        }
      ]
    },
    {
      "cell_type": "code",
      "source": [
        "jobs = list(df.clean_descrition)\n",
        "def convert_to_list_then_dict(df_column= None, key_value=str):\n",
        "    value_list = list(df_column)\n",
        "    _ = list(set([item for value_list in value_list for item in value_list]))\n",
        "    return dict.fromkeys(_, key_value)\n",
        "\n",
        "org = convert_to_list_then_dict(df_column=df.organization_list, key_value='C')\n",
        "skill = convert_to_list_then_dict(df_column=df.skill_list, key_value='S')\n",
        "job = convert_to_list_then_dict(df_column=df.job_title_list, key_value='J')    "
      ],
      "metadata": {
        "id": "NB4d5_5GRh3F"
      },
      "execution_count": 11,
      "outputs": []
    },
    {
      "cell_type": "code",
      "source": [
        "XTr= jobs[:1500]\n",
        "XVal= jobs[1500:2000]\n",
        "org_b = org\n",
        "skills_b = skill\n",
        "jobs_b = job"
      ],
      "metadata": {
        "id": "NSuQeWUXSeLZ"
      },
      "execution_count": 12,
      "outputs": []
    },
    {
      "cell_type": "code",
      "source": [
        "def make(X,org_b,skills_b,jobs_b):\n",
        "  big=[]\n",
        "  for sentence in X:\n",
        "    token=word_tokenize(sentence)\n",
        "    small=[]\n",
        "    token_t=nltk.pos_tag(token)\n",
        "    for f,s in token_t:\n",
        "      tag='O'\n",
        "      if f.lower() in org_b:\n",
        "        tag=org_b[f.lower()]\n",
        "      if f.lower() in skills_b:\n",
        "        tag=skills_b[f.lower()]\n",
        "      if f.lower() in jobs_b:\n",
        "        tag=jobs_b[f.lower()]\n",
        "      small.append((f,s,tag))\n",
        "    big.append(small)\n",
        "  return big\n",
        "XTr_=make(XTr,org_b,skills_b,jobs_b)\n",
        "XVal_=make(XVal,org_b,skills_b,jobs_b)"
      ],
      "metadata": {
        "id": "zPBgJgpB0_5u"
      },
      "execution_count": 13,
      "outputs": []
    },
    {
      "cell_type": "code",
      "source": [
        "msgLen=128\n",
        "\n",
        "def fixMsg(X):\n",
        "  global msgLen\n",
        "  Xc=[]\n",
        "  for i in range(len(X)):\n",
        "    if len(X[i])<msgLen:\n",
        "      Xc.append(X[i].copy())\n",
        "      while len(Xc[-1])<msgLen:\n",
        "        Xc[-1].append(('UNK','UNK','UNK'))\n",
        "    elif len(X[i])>msgLen:\n",
        "      Xc.append(X[i].copy())\n",
        "      temp=Xc[-1].copy()\n",
        "      del Xc[-1]\n",
        "      lb=0;chunk=msgLen\n",
        "      while lb<len(temp):\n",
        "        split=[]\n",
        "        for j in range(lb,lb+chunk):\n",
        "          if j<len(temp):\n",
        "            split.append(temp[j])\n",
        "          else:\n",
        "            split.append(('UNK','UNK','UNK'))\n",
        "        Xc.append(split)\n",
        "        assert(len(split)==msgLen)\n",
        "        lb+=chunk\n",
        "  return Xc\n",
        "\n",
        "XTr_t=fixMsg(XTr_)\n",
        "XVal_t=fixMsg(XVal_)"
      ],
      "metadata": {
        "id": "uAxs6umsS_VQ"
      },
      "execution_count": 14,
      "outputs": []
    },
    {
      "cell_type": "code",
      "source": [
        "for x in XTr_t:\n",
        "  assert(len(x)==msgLen)\n",
        "print(XTr_t[0])\n",
        "for x in XVal_t:\n",
        "  assert(len(x)==msgLen)\n",
        "print(XVal_t[0])"
      ],
      "metadata": {
        "colab": {
          "base_uri": "https://localhost:8080/"
        },
        "id": "VTeTGZ1TVQGD",
        "outputId": "858332b9-96a7-4c10-cfb9-47c05c064f50"
      },
      "execution_count": 15,
      "outputs": [
        {
          "output_type": "stream",
          "name": "stdout",
          "text": [
            "[('Job', 'NNP', 'J'), ('Title', 'NNP', 'O'), ('Java', 'NNP', 'J'), ('Sr', 'NNP', 'J'), ('developerLocation', 'NN', 'O'), ('RemoteLong', 'NNP', 'O'), ('TermSkills', 'NNP', 'O'), ('java', 'NN', 'J'), ('jeShould', 'NN', 'O'), ('have', 'VBP', 'J'), ('good', 'JJ', 'J'), ('understanding', 'NN', 'J'), ('on', 'IN', 'J'), ('the', 'DT', 'J'), ('change', 'NN', 'S'), ('management', 'NN', 'J'), ('role', 'NN', 'J'), ('and', 'CC', 'J'), ('had', 'VBD', 'O'), ('depth', 'VBN', 'J'), ('knowledge', 'NN', 'J'), ('on', 'IN', 'J'), ('the', 'DT', 'J'), ('change', 'NN', 'S'), ('advisory', 'JJ', 'O'), ('board', 'NN', 'S'), ('process', 'NN', 'J'), ('CAB', 'NNP', 'O'), ('Good', 'NNP', 'J'), ('knowledge', 'NN', 'J'), ('on', 'IN', 'J'), ('the', 'DT', 'J'), ('incident', 'JJ', 'S'), ('management', 'NN', 'J'), ('Problem', 'NNP', 'S'), ('management', 'NN', 'J'), ('Change', 'NNP', 'S'), ('Management', 'NNP', 'J'), ('Should', 'NNP', 'S'), ('have', 'VBP', 'J'), ('involved', 'VBN', 'S'), ('in', 'IN', 'J'), ('the', 'DT', 'J'), ('3L', 'CD', 'O'), ('level', 'NN', 'J'), ('of', 'IN', 'J'), ('activities', 'NNS', 'J'), ('i', 'VBP', 'S'), ('e', 'VBP', 'O'), ('root', 'NN', 'S'), ('cause', 'NN', 'S'), ('analysis', 'NN', 'J'), ('environment', 'NN', 'J'), ('analysis', 'NN', 'J'), ('understanding', 'VBG', 'J'), ('the', 'DT', 'J'), ('application', 'NN', 'S'), ('architecture', 'NN', 'S'), ('infrastructure', 'NN', 'J'), ('architecture', 'VBP', 'S'), ('The', 'DT', 'J'), ('resource', 'NN', 'J'), ('should', 'MD', 'S'), ('have', 'VB', 'J'), ('very', 'RB', 'S'), ('good', 'JJ', 'J'), ('understanding', 'NN', 'J'), ('on', 'IN', 'J'), ('the', 'DT', 'J'), ('SDLC', 'NNP', 'S'), ('process', 'NN', 'J'), ('Very', 'RB', 'S'), ('good', 'JJ', 'J'), ('knowledge', 'NN', 'J'), ('on', 'IN', 'J'), ('the', 'DT', 'J'), ('Java', 'NNP', 'J'), ('J2EE', 'NNP', 'S'), ('and', 'CC', 'J'), ('have', 'VBP', 'J'), ('hands', 'NNS', 'S'), ('on', 'IN', 'J'), ('experience', 'NN', 'J'), ('in', 'IN', 'J'), ('understanding', 'VBG', 'J'), ('the', 'DT', 'J'), ('architecture', 'NN', 'S'), ('of', 'IN', 'J'), ('heterogeneous', 'JJ', 'O'), ('application', 'NN', 'S'), ('Good', 'NNP', 'J'), ('communication', 'NN', 'S'), ('skills', 'NNS', 'J'), ('and', 'CC', 'J'), ('team', 'NN', 'J'), ('handling', 'NN', 'S'), ('abilities', 'NNS', 'O'), ('Should', 'MD', 'S'), ('have', 'VB', 'J'), ('worked', 'VBN', 'S'), ('on', 'IN', 'J'), ('the', 'DT', 'J'), ('onshore', 'NN', 'O'), ('offshore', 'IN', 'S'), ('model', 'NN', 'S'), ('Should', 'MD', 'S'), ('be', 'VB', 'J'), ('flexible', 'JJ', 'J'), ('and', 'CC', 'J'), ('having', 'VBG', 'O'), ('good', 'JJ', 'J'), ('attitude', 'NN', 'S'), ('UNK', 'UNK', 'UNK'), ('UNK', 'UNK', 'UNK'), ('UNK', 'UNK', 'UNK'), ('UNK', 'UNK', 'UNK'), ('UNK', 'UNK', 'UNK'), ('UNK', 'UNK', 'UNK'), ('UNK', 'UNK', 'UNK'), ('UNK', 'UNK', 'UNK'), ('UNK', 'UNK', 'UNK'), ('UNK', 'UNK', 'UNK'), ('UNK', 'UNK', 'UNK'), ('UNK', 'UNK', 'UNK'), ('UNK', 'UNK', 'UNK'), ('UNK', 'UNK', 'UNK'), ('UNK', 'UNK', 'UNK'), ('UNK', 'UNK', 'UNK')]\n",
            "[('Senior', 'JJ', 'J'), ('Network', 'NNP', 'J'), ('Security', 'NNP', 'J'), ('EngineerTerm', 'NNP', 'O'), ('ContractorDuration', 'NNP', 'O'), ('6', 'CD', 'J'), ('months', 'NNS', 'J'), ('possibly', 'RB', 'O'), ('longerLocation', 'VBP', 'O'), ('100', 'CD', 'J'), ('RemoteClient', 'NNP', 'O'), ('Ernst', 'NNP', 'O'), ('YoungJob', 'NNP', 'O'), ('Summary', 'NNP', 'S'), ('We', 'PRP', 'S'), ('are', 'VBP', 'J'), ('looking', 'VBG', 'J'), ('for', 'IN', 'J'), ('a', 'DT', 'J'), ('L3', 'NNP', 'S'), ('4', 'CD', 'J'), ('resource', 'NN', 'J'), ('skilled', 'VBN', 'O'), ('in', 'IN', 'J'), ('the', 'DT', 'J'), ('following', 'JJ', 'S'), ('technologies', 'NNS', 'S'), ('Checkpoint', 'NNP', 'S'), ('firewalls', 'NNS', 'S'), ('current', 'JJ', 'S'), ('v', 'RB', 'S'), ('8', 'CD', 'J'), ('1', 'CD', 'J'), ('Checkpoint', 'NNP', 'S'), ('Multi', 'NNP', 'S'), ('Domain', 'NNP', 'J'), ('ManagerZscaler', 'NNP', 'O'), ('UNK', 'UNK', 'UNK'), ('UNK', 'UNK', 'UNK'), ('UNK', 'UNK', 'UNK'), ('UNK', 'UNK', 'UNK'), ('UNK', 'UNK', 'UNK'), ('UNK', 'UNK', 'UNK'), ('UNK', 'UNK', 'UNK'), ('UNK', 'UNK', 'UNK'), ('UNK', 'UNK', 'UNK'), ('UNK', 'UNK', 'UNK'), ('UNK', 'UNK', 'UNK'), ('UNK', 'UNK', 'UNK'), ('UNK', 'UNK', 'UNK'), ('UNK', 'UNK', 'UNK'), ('UNK', 'UNK', 'UNK'), ('UNK', 'UNK', 'UNK'), ('UNK', 'UNK', 'UNK'), ('UNK', 'UNK', 'UNK'), ('UNK', 'UNK', 'UNK'), ('UNK', 'UNK', 'UNK'), ('UNK', 'UNK', 'UNK'), ('UNK', 'UNK', 'UNK'), ('UNK', 'UNK', 'UNK'), ('UNK', 'UNK', 'UNK'), ('UNK', 'UNK', 'UNK'), ('UNK', 'UNK', 'UNK'), ('UNK', 'UNK', 'UNK'), ('UNK', 'UNK', 'UNK'), ('UNK', 'UNK', 'UNK'), ('UNK', 'UNK', 'UNK'), ('UNK', 'UNK', 'UNK'), ('UNK', 'UNK', 'UNK'), ('UNK', 'UNK', 'UNK'), ('UNK', 'UNK', 'UNK'), ('UNK', 'UNK', 'UNK'), ('UNK', 'UNK', 'UNK'), ('UNK', 'UNK', 'UNK'), ('UNK', 'UNK', 'UNK'), ('UNK', 'UNK', 'UNK'), ('UNK', 'UNK', 'UNK'), ('UNK', 'UNK', 'UNK'), ('UNK', 'UNK', 'UNK'), ('UNK', 'UNK', 'UNK'), ('UNK', 'UNK', 'UNK'), ('UNK', 'UNK', 'UNK'), ('UNK', 'UNK', 'UNK'), ('UNK', 'UNK', 'UNK'), ('UNK', 'UNK', 'UNK'), ('UNK', 'UNK', 'UNK'), ('UNK', 'UNK', 'UNK'), ('UNK', 'UNK', 'UNK'), ('UNK', 'UNK', 'UNK'), ('UNK', 'UNK', 'UNK'), ('UNK', 'UNK', 'UNK'), ('UNK', 'UNK', 'UNK'), ('UNK', 'UNK', 'UNK'), ('UNK', 'UNK', 'UNK'), ('UNK', 'UNK', 'UNK'), ('UNK', 'UNK', 'UNK'), ('UNK', 'UNK', 'UNK'), ('UNK', 'UNK', 'UNK'), ('UNK', 'UNK', 'UNK'), ('UNK', 'UNK', 'UNK'), ('UNK', 'UNK', 'UNK'), ('UNK', 'UNK', 'UNK'), ('UNK', 'UNK', 'UNK'), ('UNK', 'UNK', 'UNK'), ('UNK', 'UNK', 'UNK'), ('UNK', 'UNK', 'UNK'), ('UNK', 'UNK', 'UNK'), ('UNK', 'UNK', 'UNK'), ('UNK', 'UNK', 'UNK'), ('UNK', 'UNK', 'UNK'), ('UNK', 'UNK', 'UNK'), ('UNK', 'UNK', 'UNK'), ('UNK', 'UNK', 'UNK'), ('UNK', 'UNK', 'UNK'), ('UNK', 'UNK', 'UNK'), ('UNK', 'UNK', 'UNK'), ('UNK', 'UNK', 'UNK'), ('UNK', 'UNK', 'UNK'), ('UNK', 'UNK', 'UNK'), ('UNK', 'UNK', 'UNK'), ('UNK', 'UNK', 'UNK'), ('UNK', 'UNK', 'UNK'), ('UNK', 'UNK', 'UNK'), ('UNK', 'UNK', 'UNK'), ('UNK', 'UNK', 'UNK'), ('UNK', 'UNK', 'UNK'), ('UNK', 'UNK', 'UNK'), ('UNK', 'UNK', 'UNK')]\n"
          ]
        }
      ]
    },
    {
      "cell_type": "code",
      "source": [
        "dict_={}\n",
        "dict_1={}\n",
        "token=1;token1=0\n",
        "for x in XTr_t:\n",
        "  for a,b,c in x:\n",
        "    if a not in dict_:\n",
        "      dict_[a]=token\n",
        "      token=token+1\n",
        "    if c not in dict_1:\n",
        "      if c=='K':\n",
        "        print(a,b,c)\n",
        "      dict_1[c]=token1\n",
        "      token1=token1+1\n",
        "for x in XVal_t:\n",
        "  for a,b,c in x:\n",
        "    if a not in dict_:\n",
        "      dict_[a]=token\n",
        "      token=token+1\n",
        "    if c not in dict_1:\n",
        "      dict_1[c]=token1\n",
        "      token1=token1+1\n",
        "print('No of tokens words[{}] labels[{}]'.format(token,token1))"
      ],
      "metadata": {
        "colab": {
          "base_uri": "https://localhost:8080/"
        },
        "id": "7lbuTy0bY-R1",
        "outputId": "7a7e883e-1ff2-48f0-a42d-067ad6c5652d"
      },
      "execution_count": 16,
      "outputs": [
        {
          "output_type": "stream",
          "name": "stdout",
          "text": [
            "No of tokens words[6014] labels[5]\n"
          ]
        }
      ]
    },
    {
      "cell_type": "code",
      "source": [
        "XTr_fin=np.array([[dict_[element[0]] for element in sentence] for sentence in XTr_t])\n",
        "XVal_fin=np.array([[dict_[element[0]] for element in sentence] for sentence in XVal_t])\n",
        "\n",
        "yTr=np.array([[dict_1[element[2]] for element in sentence] for sentence in XTr_t])\n",
        "yVal=np.array([[dict_1[element[2]] for element in sentence] for sentence in XVal_t])"
      ],
      "metadata": {
        "id": "-8JNNsTWTyB-"
      },
      "execution_count": 17,
      "outputs": []
    },
    {
      "cell_type": "code",
      "source": [
        "embedding_dim = 100\n",
        "input=Input(shape=(msgLen,))\n",
        "mo=Embedding(input_dim=token,output_dim=embedding_dim)(input)\n",
        "frwd=LSTM(64,return_sequences=True)\n",
        "back=LSTM(64,return_sequences=True,go_backwards=True)\n",
        "mo=Bidirectional(frwd,backward_layer=back)(mo)\n",
        "mo=TimeDistributed(Dense(32,activation='relu'))(mo)\n",
        "output=CRF(units=token1)(mo)\n",
        "mo=Model(input,output)\n",
        "mo.summary()\n",
        "\n",
        "model=ModelWithCRFLoss(mo, sparse_target=True)\n",
        "model.compile(optimizer ='rmsprop')"
      ],
      "metadata": {
        "colab": {
          "base_uri": "https://localhost:8080/"
        },
        "id": "oEeIy0iBq8a0",
        "outputId": "ee44f783-e231-4f97-8bfa-88230408ca9e"
      },
      "execution_count": 18,
      "outputs": [
        {
          "output_type": "stream",
          "name": "stdout",
          "text": [
            "Model: \"model\"\n",
            "_________________________________________________________________\n",
            " Layer (type)                Output Shape              Param #   \n",
            "=================================================================\n",
            " input_1 (InputLayer)        [(None, 128)]             0         \n",
            "                                                                 \n",
            " embedding (Embedding)       (None, 128, 100)          601400    \n",
            "                                                                 \n",
            " bidirectional (Bidirectiona  (None, 128, 128)         84480     \n",
            " l)                                                              \n",
            "                                                                 \n",
            " time_distributed (TimeDistr  (None, 128, 32)          4128      \n",
            " ibuted)                                                         \n",
            "                                                                 \n",
            " crf (CRF)                   ((None, 128),             190       \n",
            "                              (None, 128, 5),                    \n",
            "                              (None,),                           \n",
            "                              (5, 5))                            \n",
            "                                                                 \n",
            "=================================================================\n",
            "Total params: 690,198\n",
            "Trainable params: 690,198\n",
            "Non-trainable params: 0\n",
            "_________________________________________________________________\n"
          ]
        }
      ]
    },
    {
      "cell_type": "code",
      "source": [
        "es = EarlyStopping(monitor = \"val_loss_val\", mode = \"min\", verbose = True, restore_best_weights=True, patience = 1)\n",
        "cp = ModelCheckpoint(filepath,monitor=\"val_loss_val\",mode = \"min\",verbose=True,save_best_only=True)\n",
        "\n",
        "history = model.fit(XTr_fin,yTr,validation_data=[XVal_fin,yVal],epochs=10,batch_size=100,callbacks=[cp,es])"
      ],
      "metadata": {
        "colab": {
          "base_uri": "https://localhost:8080/"
        },
        "id": "-brG5azg00_K",
        "outputId": "0c6506ea-9253-43a3-8aa6-ade9b1a3abf0"
      },
      "execution_count": 19,
      "outputs": [
        {
          "output_type": "stream",
          "name": "stdout",
          "text": [
            "Epoch 1/10\n",
            "3/3 [==============================] - ETA: 0s - loss: 206.2295 - accuracy: 0.1424\n",
            "Epoch 1: val_loss_val improved from inf to 192.72813, saving model to /content/drive/My Drive/Colab Notebooks/MODELS/BiLSTM_CRF.ml\n"
          ]
        },
        {
          "output_type": "stream",
          "name": "stderr",
          "text": [
            "WARNING:absl:Found untraced functions such as dense_1_layer_call_fn, dense_1_layer_call_and_return_conditional_losses, lstm_cell_2_layer_call_fn, lstm_cell_2_layer_call_and_return_conditional_losses, lstm_cell_1_layer_call_fn while saving (showing 5 of 6). These functions will not be directly callable after loading.\n"
          ]
        },
        {
          "output_type": "stream",
          "name": "stdout",
          "text": [
            "\b\b\b\b\b\b\b\b\b\b\b\b\b\b\b\b\b\b\b\b\b\b\b\b\b\b\b\b\b\b\b\b\b\b\b\b\b\b\b\b\b\b\b\b\b\b\b\b\b\b\b\b\b\b\b\b\b\b\b\b\b\b\b\b\b\b\b\b\b\b\b\b\b\b\b\b\b\b\b\b\b\b\r3/3 [==============================] - 41s 16s/step - loss: 206.2295 - accuracy: 0.1424 - val_loss_val: 192.7281 - val_val_accuracy: 0.3096\n",
            "Epoch 2/10\n",
            "3/3 [==============================] - ETA: 0s - loss: 176.6676 - accuracy: 0.4321\n",
            "Epoch 2: val_loss_val improved from 192.72813 to 142.97426, saving model to /content/drive/My Drive/Colab Notebooks/MODELS/BiLSTM_CRF.ml\n"
          ]
        },
        {
          "output_type": "stream",
          "name": "stderr",
          "text": [
            "WARNING:absl:Found untraced functions such as dense_1_layer_call_fn, dense_1_layer_call_and_return_conditional_losses, lstm_cell_2_layer_call_fn, lstm_cell_2_layer_call_and_return_conditional_losses, lstm_cell_1_layer_call_fn while saving (showing 5 of 6). These functions will not be directly callable after loading.\n"
          ]
        },
        {
          "output_type": "stream",
          "name": "stdout",
          "text": [
            "\b\b\b\b\b\b\b\b\b\b\b\b\b\b\b\b\b\b\b\b\b\b\b\b\b\b\b\b\b\b\b\b\b\b\b\b\b\b\b\b\b\b\b\b\b\b\b\b\b\b\b\b\b\b\b\b\b\b\b\b\b\b\b\b\b\b\b\b\b\b\b\b\b\b\b\b\b\b\b\b\b\b\r3/3 [==============================] - 29s 14s/step - loss: 176.6676 - accuracy: 0.4321 - val_loss_val: 142.9743 - val_val_accuracy: 0.6169\n",
            "Epoch 3/10\n",
            "3/3 [==============================] - ETA: 0s - loss: 126.6244 - accuracy: 0.6746\n",
            "Epoch 3: val_loss_val improved from 142.97426 to 124.51594, saving model to /content/drive/My Drive/Colab Notebooks/MODELS/BiLSTM_CRF.ml\n"
          ]
        },
        {
          "output_type": "stream",
          "name": "stderr",
          "text": [
            "WARNING:absl:Found untraced functions such as dense_1_layer_call_fn, dense_1_layer_call_and_return_conditional_losses, lstm_cell_2_layer_call_fn, lstm_cell_2_layer_call_and_return_conditional_losses, lstm_cell_1_layer_call_fn while saving (showing 5 of 6). These functions will not be directly callable after loading.\n"
          ]
        },
        {
          "output_type": "stream",
          "name": "stdout",
          "text": [
            "\b\b\b\b\b\b\b\b\b\b\b\b\b\b\b\b\b\b\b\b\b\b\b\b\b\b\b\b\b\b\b\b\b\b\b\b\b\b\b\b\b\b\b\b\b\b\b\b\b\b\b\b\b\b\b\b\b\b\b\b\b\b\b\b\b\b\b\b\b\b\b\b\b\b\b\b\b\b\b\b\b\b\r3/3 [==============================] - 30s 15s/step - loss: 126.6244 - accuracy: 0.6746 - val_loss_val: 124.5159 - val_val_accuracy: 0.6459\n",
            "Epoch 4/10\n",
            "3/3 [==============================] - ETA: 0s - loss: 110.3599 - accuracy: 0.6945\n",
            "Epoch 4: val_loss_val improved from 124.51594 to 108.89038, saving model to /content/drive/My Drive/Colab Notebooks/MODELS/BiLSTM_CRF.ml\n"
          ]
        },
        {
          "output_type": "stream",
          "name": "stderr",
          "text": [
            "WARNING:absl:Found untraced functions such as dense_1_layer_call_fn, dense_1_layer_call_and_return_conditional_losses, lstm_cell_2_layer_call_fn, lstm_cell_2_layer_call_and_return_conditional_losses, lstm_cell_1_layer_call_fn while saving (showing 5 of 6). These functions will not be directly callable after loading.\n"
          ]
        },
        {
          "output_type": "stream",
          "name": "stdout",
          "text": [
            "\b\b\b\b\b\b\b\b\b\b\b\b\b\b\b\b\b\b\b\b\b\b\b\b\b\b\b\b\b\b\b\b\b\b\b\b\b\b\b\b\b\b\b\b\b\b\b\b\b\b\b\b\b\b\b\b\b\b\b\b\b\b\b\b\b\b\b\b\b\b\b\b\b\b\b\b\b\b\b\b\b\b\r3/3 [==============================] - 31s 15s/step - loss: 110.3599 - accuracy: 0.6945 - val_loss_val: 108.8904 - val_val_accuracy: 0.6981\n",
            "Epoch 5/10\n",
            "3/3 [==============================] - ETA: 0s - loss: 100.3731 - accuracy: 0.7244\n",
            "Epoch 5: val_loss_val improved from 108.89038 to 103.63460, saving model to /content/drive/My Drive/Colab Notebooks/MODELS/BiLSTM_CRF.ml\n"
          ]
        },
        {
          "output_type": "stream",
          "name": "stderr",
          "text": [
            "WARNING:absl:Found untraced functions such as dense_1_layer_call_fn, dense_1_layer_call_and_return_conditional_losses, lstm_cell_2_layer_call_fn, lstm_cell_2_layer_call_and_return_conditional_losses, lstm_cell_1_layer_call_fn while saving (showing 5 of 6). These functions will not be directly callable after loading.\n"
          ]
        },
        {
          "output_type": "stream",
          "name": "stdout",
          "text": [
            "\b\b\b\b\b\b\b\b\b\b\b\b\b\b\b\b\b\b\b\b\b\b\b\b\b\b\b\b\b\b\b\b\b\b\b\b\b\b\b\b\b\b\b\b\b\b\b\b\b\b\b\b\b\b\b\b\b\b\b\b\b\b\b\b\b\b\b\b\b\b\b\b\b\b\b\b\b\b\b\b\b\b\r3/3 [==============================] - 28s 14s/step - loss: 100.3731 - accuracy: 0.7244 - val_loss_val: 103.6346 - val_val_accuracy: 0.6997\n",
            "Epoch 6/10\n",
            "3/3 [==============================] - ETA: 0s - loss: 96.4014 - accuracy: 0.7214\n",
            "Epoch 6: val_loss_val improved from 103.63460 to 100.35658, saving model to /content/drive/My Drive/Colab Notebooks/MODELS/BiLSTM_CRF.ml\n"
          ]
        },
        {
          "output_type": "stream",
          "name": "stderr",
          "text": [
            "WARNING:absl:Found untraced functions such as dense_1_layer_call_fn, dense_1_layer_call_and_return_conditional_losses, lstm_cell_2_layer_call_fn, lstm_cell_2_layer_call_and_return_conditional_losses, lstm_cell_1_layer_call_fn while saving (showing 5 of 6). These functions will not be directly callable after loading.\n"
          ]
        },
        {
          "output_type": "stream",
          "name": "stdout",
          "text": [
            "\b\b\b\b\b\b\b\b\b\b\b\b\b\b\b\b\b\b\b\b\b\b\b\b\b\b\b\b\b\b\b\b\b\b\b\b\b\b\b\b\b\b\b\b\b\b\b\b\b\b\b\b\b\b\b\b\b\b\b\b\b\b\b\b\b\b\b\b\b\b\b\b\b\b\b\b\b\b\b\b\b\r3/3 [==============================] - 29s 14s/step - loss: 96.4014 - accuracy: 0.7214 - val_loss_val: 100.3566 - val_val_accuracy: 0.7025\n",
            "Epoch 7/10\n",
            "3/3 [==============================] - ETA: 0s - loss: 92.2213 - accuracy: 0.7255\n",
            "Epoch 7: val_loss_val improved from 100.35658 to 95.93298, saving model to /content/drive/My Drive/Colab Notebooks/MODELS/BiLSTM_CRF.ml\n"
          ]
        },
        {
          "output_type": "stream",
          "name": "stderr",
          "text": [
            "WARNING:absl:Found untraced functions such as dense_1_layer_call_fn, dense_1_layer_call_and_return_conditional_losses, lstm_cell_2_layer_call_fn, lstm_cell_2_layer_call_and_return_conditional_losses, lstm_cell_1_layer_call_fn while saving (showing 5 of 6). These functions will not be directly callable after loading.\n"
          ]
        },
        {
          "output_type": "stream",
          "name": "stdout",
          "text": [
            "\b\b\b\b\b\b\b\b\b\b\b\b\b\b\b\b\b\b\b\b\b\b\b\b\b\b\b\b\b\b\b\b\b\b\b\b\b\b\b\b\b\b\b\b\b\b\b\b\b\b\b\b\b\b\b\b\b\b\b\b\b\b\b\b\b\b\b\b\b\b\b\b\b\b\b\b\b\b\b\b\b\r3/3 [==============================] - 29s 14s/step - loss: 92.2213 - accuracy: 0.7255 - val_loss_val: 95.9330 - val_val_accuracy: 0.7032\n",
            "Epoch 8/10\n",
            "3/3 [==============================] - ETA: 0s - loss: 88.4202 - accuracy: 0.7279\n",
            "Epoch 8: val_loss_val improved from 95.93298 to 93.14385, saving model to /content/drive/My Drive/Colab Notebooks/MODELS/BiLSTM_CRF.ml\n"
          ]
        },
        {
          "output_type": "stream",
          "name": "stderr",
          "text": [
            "WARNING:absl:Found untraced functions such as dense_1_layer_call_fn, dense_1_layer_call_and_return_conditional_losses, lstm_cell_2_layer_call_fn, lstm_cell_2_layer_call_and_return_conditional_losses, lstm_cell_1_layer_call_fn while saving (showing 5 of 6). These functions will not be directly callable after loading.\n"
          ]
        },
        {
          "output_type": "stream",
          "name": "stdout",
          "text": [
            "\b\b\b\b\b\b\b\b\b\b\b\b\b\b\b\b\b\b\b\b\b\b\b\b\b\b\b\b\b\b\b\b\b\b\b\b\b\b\b\b\b\b\b\b\b\b\b\b\b\b\b\b\b\b\b\b\b\b\b\b\b\b\b\b\b\b\b\b\b\b\b\b\b\b\b\b\b\b\b\b\b\r3/3 [==============================] - 29s 14s/step - loss: 88.4202 - accuracy: 0.7279 - val_loss_val: 93.1439 - val_val_accuracy: 0.7056\n",
            "Epoch 9/10\n",
            "3/3 [==============================] - ETA: 0s - loss: 86.3605 - accuracy: 0.7253\n",
            "Epoch 9: val_loss_val did not improve from 93.14385\n",
            "Restoring model weights from the end of the best epoch: 8.\n",
            "3/3 [==============================] - 2s 562ms/step - loss: 86.3605 - accuracy: 0.7253 - val_loss_val: 95.9767 - val_val_accuracy: 0.6899\n",
            "Epoch 9: early stopping\n"
          ]
        }
      ]
    },
    {
      "cell_type": "code",
      "source": [
        "import matplotlib.pyplot as plt\n",
        "\n",
        "plt.rcParams[\"figure.figsize\"] = (16,8)\n",
        "plt.plot(history.history['val_loss_val'])\n",
        "plt.plot(history.history['loss'])\n",
        "plt.xlabel('Epochs ->')\n",
        "plt.ylabel('Losses ->')\n",
        "plt.title('Losses v/s epochs.')\n",
        "plt.legend(['Val Loss','Train Loss'])\n",
        "plt.show()"
      ],
      "metadata": {
        "colab": {
          "base_uri": "https://localhost:8080/",
          "height": 517
        },
        "id": "BE9s4e54hbFd",
        "outputId": "65af2737-9ba8-4ce2-a03f-aa7198f328ee"
      },
      "execution_count": 20,
      "outputs": [
        {
          "output_type": "display_data",
          "data": {
            "text/plain": [
              "<Figure size 1152x576 with 1 Axes>"
            ],
            "image/png": "[encoded data removed]"
          },
          "metadata": {}
        }
      ]
    },
    {
      "cell_type": "code",
      "source": [
        "dict_1R={}\n",
        "for k,v in dict_1.items():\n",
        "  dict_1R[v]=k"
      ],
      "metadata": {
        "id": "rEHr_ZFFyAdN"
      },
      "execution_count": 21,
      "outputs": []
    },
    {
      "cell_type": "code",
      "source": [
        "labels_=model.predict(XVal_fin)\n",
        "i=0 # i-th example from val dataset.\n",
        "cnt=0\n",
        "print()\n",
        "for x in XVal_[0]:\n",
        "  print('{} {}'.format(x[0],dict_1R[labels_[i][cnt]]))\n",
        "  cnt+=1"
      ],
      "metadata": {
        "colab": {
          "base_uri": "https://localhost:8080/"
        },
        "id": "mIukgUGAt1ya",
        "outputId": "39912f92-e037-4a2a-b348-c37c824a1d0f"
      },
      "execution_count": 22,
      "outputs": [
        {
          "output_type": "stream",
          "name": "stdout",
          "text": [
            "3/3 [==============================] - 2s 60ms/step\n",
            "\n",
            "Title J\n",
            "ServiceNow J\n",
            "Developer J\n",
            "Duration J\n",
            "12 J\n",
            "24 J\n",
            "month J\n",
            "contract J\n",
            "or J\n",
            "CTH J\n",
            "Location J\n",
            "San J\n",
            "Antonio J\n",
            "TX J\n",
            "Plano J\n",
            "TX J\n",
            "or J\n",
            "RemoteJob J\n",
            "description J\n",
            "We J\n",
            "are J\n",
            "currently J\n",
            "seeking J\n",
            "a J\n",
            "talented J\n",
            "ServiceNow J\n",
            "Developer J\n",
            "Mid J\n",
            "Level J\n",
            "for J\n",
            "our J\n",
            "Plano J\n",
            "TX J\n",
            "or J\n",
            "San J\n",
            "Antonio J\n",
            "TX J\n",
            "facility UNK\n",
            "This UNK\n",
            "person UNK\n",
            "may UNK\n",
            "also UNK\n",
            "work UNK\n",
            "remotely UNK\n",
            "in UNK\n",
            "a UNK\n",
            "100 UNK\n",
            "Remote UNK\n",
            "Work UNK\n",
            "Environment UNK\n",
            "Our UNK\n",
            "client UNK\n",
            "values UNK\n",
            "a UNK\n",
            "culture UNK\n",
            "that UNK\n",
            "is UNK\n",
            "highly UNK\n",
            "collaborative UNK\n",
            "and UNK\n",
            "we UNK\n",
            "have UNK\n",
            "found UNK\n",
            "that UNK\n",
            "a UNK\n",
            "hybrid UNK\n",
            "work UNK\n",
            "type UNK\n",
            "helps UNK\n",
            "employees UNK\n",
            "gain UNK\n",
            "the UNK\n",
            "best UNK\n",
            "of UNK\n",
            "both UNK\n",
            "worlds UNK\n",
            "collaborating UNK\n",
            "in UNK\n",
            "person UNK\n",
            "in UNK\n",
            "the UNK\n",
            "office UNK\n",
            "and UNK\n",
            "working UNK\n",
            "from UNK\n",
            "home UNK\n",
            "when UNK\n",
            "needed UNK\n",
            "to UNK\n",
            "achieve UNK\n",
            "focused UNK\n",
            "deliverables UNK\n",
            "The UNK\n",
            "actual UNK\n",
            "days UNK\n",
            "onsite UNK\n",
            "are UNK\n",
            "determined UNK\n",
            "between UNK\n",
            "each UNK\n",
            "employee UNK\n",
            "and UNK\n",
            "the UNK\n",
            "employee UNK\n",
            "s UNK\n",
            "manager UNK\n",
            "Community UNK\n",
            "Engineering UNK\n",
            "Professions UNK\n",
            "Jobs UNK\n",
            "that UNK\n",
            "are UNK\n",
            "part UNK\n",
            "of UNK\n",
            "a UNK\n",
            "community UNK\n",
            "have UNK\n",
            "unique UNK\n",
            "requirements UNK\n",
            "established UNK\n",
            "to UNK\n",
            "maintain UNK\n",
            "consistent UNK\n",
            "application UNK\n",
            "usage UNK\n",
            "and UNK\n",
            "reporting UNK\n",
            "structure UNK\n"
          ]
        }
      ]
    },
    {
      "cell_type": "code",
      "source": [
        "dict_1"
      ],
      "metadata": {
        "colab": {
          "base_uri": "https://localhost:8080/"
        },
        "id": "oneJmZ-CyiQY",
        "outputId": "f1b90dbd-4ce8-462c-b457-949b02e8efde"
      },
      "execution_count": 23,
      "outputs": [
        {
          "output_type": "execute_result",
          "data": {
            "text/plain": [
              "{'J': 0, 'O': 1, 'S': 2, 'UNK': 3, 'C': 4}"
            ]
          },
          "metadata": {},
          "execution_count": 23
        }
      ]
    },
    {
      "cell_type": "code",
      "source": [
        "!pip install sklearn-crfsuite"
      ],
      "metadata": {
        "colab": {
          "base_uri": "https://localhost:8080/"
        },
        "id": "iKr9ym2D3eyS",
        "outputId": "5a1263e4-493d-4d81-b789-7b2f812c9a44"
      },
      "execution_count": 24,
      "outputs": [
        {
          "output_type": "stream",
          "name": "stdout",
          "text": [
            "Looking in indexes: https://pypi.org/simple, https://us-python.pkg.dev/colab-wheels/public/simple/\n",
            "Requirement already satisfied: sklearn-crfsuite in /usr/local/lib/python3.8/dist-packages (0.3.6)\n",
            "Requirement already satisfied: six in /usr/local/lib/python3.8/dist-packages (from sklearn-crfsuite) (1.15.0)\n",
            "Requirement already satisfied: python-crfsuite>=0.8.3 in /usr/local/lib/python3.8/dist-packages (from sklearn-crfsuite) (0.9.8)\n",
            "Requirement already satisfied: tqdm>=2.0 in /usr/local/lib/python3.8/dist-packages (from sklearn-crfsuite) (4.64.1)\n",
            "Requirement already satisfied: tabulate in /usr/local/lib/python3.8/dist-packages (from sklearn-crfsuite) (0.8.10)\n"
          ]
        }
      ]
    },
    {
      "cell_type": "code",
      "source": [
        "import sklearn_crfsuite\n",
        "from sklearn_crfsuite import scorers\n",
        "from sklearn_crfsuite import metrics\n",
        "\n",
        "def labelIt(yVal):\n",
        "  yVal_lis=[]\n",
        "  for y1 in yVal:\n",
        "    temp=[]\n",
        "    for y2 in y1:\n",
        "      temp.append(dict_1R[y2])\n",
        "    yVal_lis.append(temp)\n",
        "  return yVal_lis \n",
        "\n",
        "yVal_=labelIt(yVal)\n",
        "yPred_=labelIt(labels_)\n",
        "labls=['C','J','S','O','UNK']\n",
        "metrics.flat_f1_score(yVal_,yPred_,average='weighted',labels=labls)"
      ],
      "metadata": {
        "colab": {
          "base_uri": "https://localhost:8080/"
        },
        "id": "lx1-vL2MyzBX",
        "outputId": "32c95342-86f2-41e8-cd58-da3b1e03a2e1"
      },
      "execution_count": 25,
      "outputs": [
        {
          "output_type": "execute_result",
          "data": {
            "text/plain": [
              "0.6026296386145195"
            ]
          },
          "metadata": {},
          "execution_count": 25
        }
      ]
    },
    {
      "cell_type": "code",
      "source": [
        "print(metrics.flat_classification_report(yVal_,yPred_,labels=labls,digits=3))"
      ],
      "metadata": {
        "colab": {
          "base_uri": "https://localhost:8080/"
        },
        "id": "JflAu2op4AQZ",
        "outputId": "dfe647fc-b7a5-4c06-d109-807a66ddcc41"
      },
      "execution_count": 26,
      "outputs": [
        {
          "output_type": "stream",
          "name": "stdout",
          "text": [
            "              precision    recall  f1-score   support\n",
            "\n",
            "           C      0.000     0.000     0.000        10\n",
            "           J      0.545     0.992     0.704      4119\n",
            "           S      0.000     0.000     0.000      1889\n",
            "           O      0.000     0.000     0.000      1563\n",
            "         UNK      0.980     0.998     0.989      4323\n",
            "\n",
            "    accuracy                          0.706     11904\n",
            "   macro avg      0.305     0.398     0.339     11904\n",
            "weighted avg      0.545     0.706     0.603     11904\n",
            "\n"
          ]
        },
        {
          "output_type": "stream",
          "name": "stderr",
          "text": [
            "/usr/local/lib/python3.8/dist-packages/sklearn/utils/validation.py:67: FutureWarning: Pass labels=['C', 'J', 'S', 'O', 'UNK'] as keyword args. From version 0.25 passing these as positional arguments will result in an error\n",
            "  warnings.warn(\"Pass {} as keyword args. From version 0.25 \"\n",
            "/usr/local/lib/python3.8/dist-packages/sklearn/metrics/_classification.py:1221: UndefinedMetricWarning: Precision and F-score are ill-defined and being set to 0.0 in labels with no predicted samples. Use `zero_division` parameter to control this behavior.\n",
            "  _warn_prf(average, modifier, msg_start, len(result))\n"
          ]
        }
      ]
    }
  ]
}