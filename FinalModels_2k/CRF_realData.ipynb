{
  "nbformat": 4,
  "nbformat_minor": 0,
  "metadata": {
    "colab": {
      "provenance": []
    },
    "kernelspec": {
      "name": "python3",
      "display_name": "Python 3"
    },
    "language_info": {
      "name": "python"
    }
  },
  "cells": [
    {
      "cell_type": "code",
      "execution_count": 1,
      "metadata": {
        "id": "jYjjz0EnvJx0"
      },
      "outputs": [],
      "source": [
        "%matplotlib inline\n",
        "import matplotlib.pyplot as plt\n",
        "plt.style.use('ggplot')"
      ]
    },
    {
      "cell_type": "code",
      "source": [
        "pip install -U 'scikit-learn<0.24'"
      ],
      "metadata": {
        "colab": {
          "base_uri": "https://localhost:8080/"
        },
        "id": "oyosdHZtzU3r",
        "outputId": "066a27ee-9d83-42b3-8d66-06666a5702be"
      },
      "execution_count": 2,
      "outputs": [
        {
          "output_type": "stream",
          "name": "stdout",
          "text": [
            "Looking in indexes: https://pypi.org/simple, https://us-python.pkg.dev/colab-wheels/public/simple/\n",
            "Collecting scikit-learn<0.24\n",
            "  Downloading scikit_learn-0.23.2-cp38-cp38-manylinux1_x86_64.whl (6.8 MB)\n",
            "\u001b[K     |████████████████████████████████| 6.8 MB 4.6 MB/s \n",
            "\u001b[?25hRequirement already satisfied: threadpoolctl>=2.0.0 in /usr/local/lib/python3.8/dist-packages (from scikit-learn<0.24) (3.1.0)\n",
            "Requirement already satisfied: numpy>=1.13.3 in /usr/local/lib/python3.8/dist-packages (from scikit-learn<0.24) (1.21.6)\n",
            "Requirement already satisfied: joblib>=0.11 in /usr/local/lib/python3.8/dist-packages (from scikit-learn<0.24) (1.2.0)\n",
            "Requirement already satisfied: scipy>=0.19.1 in /usr/local/lib/python3.8/dist-packages (from scikit-learn<0.24) (1.7.3)\n",
            "Installing collected packages: scikit-learn\n",
            "  Attempting uninstall: scikit-learn\n",
            "    Found existing installation: scikit-learn 1.0.2\n",
            "    Uninstalling scikit-learn-1.0.2:\n",
            "      Successfully uninstalled scikit-learn-1.0.2\n",
            "\u001b[31mERROR: pip's dependency resolver does not currently take into account all the packages that are installed. This behaviour is the source of the following dependency conflicts.\n",
            "yellowbrick 1.5 requires scikit-learn>=1.0.0, but you have scikit-learn 0.23.2 which is incompatible.\n",
            "imbalanced-learn 0.8.1 requires scikit-learn>=0.24, but you have scikit-learn 0.23.2 which is incompatible.\u001b[0m\n",
            "Successfully installed scikit-learn-0.23.2\n"
          ]
        }
      ]
    },
    {
      "cell_type": "code",
      "source": [
        "!pip install sklearn-crfsuite"
      ],
      "metadata": {
        "id": "Wemq019sT3Pe",
        "outputId": "ebe407d1-8d8a-4286-dcbe-c9f24de282c5",
        "colab": {
          "base_uri": "https://localhost:8080/"
        }
      },
      "execution_count": 3,
      "outputs": [
        {
          "output_type": "stream",
          "name": "stdout",
          "text": [
            "Looking in indexes: https://pypi.org/simple, https://us-python.pkg.dev/colab-wheels/public/simple/\n",
            "Collecting sklearn-crfsuite\n",
            "  Downloading sklearn_crfsuite-0.3.6-py2.py3-none-any.whl (12 kB)\n",
            "Collecting python-crfsuite>=0.8.3\n",
            "  Downloading python_crfsuite-0.9.8-cp38-cp38-manylinux_2_17_x86_64.manylinux2014_x86_64.whl (1.0 MB)\n",
            "\u001b[K     |████████████████████████████████| 1.0 MB 4.6 MB/s \n",
            "\u001b[?25hRequirement already satisfied: tqdm>=2.0 in /usr/local/lib/python3.8/dist-packages (from sklearn-crfsuite) (4.64.1)\n",
            "Requirement already satisfied: six in /usr/local/lib/python3.8/dist-packages (from sklearn-crfsuite) (1.15.0)\n",
            "Requirement already satisfied: tabulate in /usr/local/lib/python3.8/dist-packages (from sklearn-crfsuite) (0.8.10)\n",
            "Installing collected packages: python-crfsuite, sklearn-crfsuite\n",
            "Successfully installed python-crfsuite-0.9.8 sklearn-crfsuite-0.3.6\n"
          ]
        }
      ]
    },
    {
      "cell_type": "code",
      "source": [
        "from itertools import chain\n",
        "\n",
        "import nltk\n",
        "import sklearn\n",
        "import scipy.stats\n",
        "from sklearn.metrics import make_scorer\n",
        "from sklearn.model_selection import cross_val_score\n",
        "from nltk.tokenize import word_tokenize\n",
        "\n",
        "import sklearn_crfsuite\n",
        "from sklearn_crfsuite import scorers\n",
        "from sklearn_crfsuite import metrics"
      ],
      "metadata": {
        "id": "bicdDftfvYHA"
      },
      "execution_count": 4,
      "outputs": []
    },
    {
      "cell_type": "code",
      "source": [
        "nltk.download('punkt')\n",
        "nltk.download('averaged_perceptron_tagger')"
      ],
      "metadata": {
        "colab": {
          "base_uri": "https://localhost:8080/"
        },
        "id": "VtcYIL2N7cgb",
        "outputId": "725479bb-6c01-4d4c-876c-45d581c755fe"
      },
      "execution_count": 5,
      "outputs": [
        {
          "output_type": "stream",
          "name": "stderr",
          "text": [
            "[nltk_data] Downloading package punkt to /root/nltk_data...\n",
            "[nltk_data]   Unzipping tokenizers/punkt.zip.\n",
            "[nltk_data] Downloading package averaged_perceptron_tagger to\n",
            "[nltk_data]     /root/nltk_data...\n",
            "[nltk_data]   Unzipping taggers/averaged_perceptron_tagger.zip.\n"
          ]
        },
        {
          "output_type": "execute_result",
          "data": {
            "text/plain": [
              "True"
            ]
          },
          "metadata": {},
          "execution_count": 5
        }
      ]
    },
    {
      "cell_type": "code",
      "source": [
        "from google.colab import drive,files\n",
        "drive.mount(\"/content/drive\")\n",
        "dataM='/content/drive/My Drive/Colab Notebooks/MODELS/'\n",
        "filepath = dataM+'CRF.ml'"
      ],
      "metadata": {
        "colab": {
          "base_uri": "https://localhost:8080/"
        },
        "id": "BJ6MvllFsBzd",
        "outputId": "906f52a8-1054-41fb-e9e7-7e6dd28af73b"
      },
      "execution_count": 6,
      "outputs": [
        {
          "output_type": "stream",
          "name": "stdout",
          "text": [
            "Mounted at /content/drive\n"
          ]
        }
      ]
    },
    {
      "cell_type": "code",
      "source": [
        "!cp -rf drive/MyDrive/job_20k.json /content/"
      ],
      "metadata": {
        "id": "lo-G8-XSr0hV"
      },
      "execution_count": 7,
      "outputs": []
    },
    {
      "cell_type": "code",
      "source": [
        "import pandas as pd\n",
        "import json\n",
        "path_to_json = 'job_20k.json'\n",
        "df  = pd.read_json(path_to_json,lines=True)\n",
        "df.head().T"
      ],
      "metadata": {
        "colab": {
          "base_uri": "https://localhost:8080/",
          "height": 253
        },
        "id": "3af23ckFsKh3",
        "outputId": "9c2ca6a9-0e06-4cd6-ae0f-d37f95f1d82b"
      },
      "execution_count": 8,
      "outputs": [
        {
          "output_type": "execute_result",
          "data": {
            "text/plain": [
              "                                                                   0  \\\n",
              "clean_descrition   A technology services client of ours is lookin...   \n",
              "organization_list                 [Swift, Strategic, Solutions, Inc]   \n",
              "skill_list         [NoSQL, Teradata, Netezza, Cosmos, DB, JSON, A...   \n",
              "job_title_list                                   [Bigdata, Engineer]   \n",
              "\n",
              "                                                                   1  \\\n",
              "clean_descrition   Job Title :Java Sr developerLocation: RemoteLo...   \n",
              "organization_list                [AQUA, Information, Systems,, Inc.]   \n",
              "skill_list                                         [Java, JEE, J2EE]   \n",
              "job_title_list                                     [Java, developer]   \n",
              "\n",
              "                                                                   2  \\\n",
              "clean_descrition   Mandatory Skills: Strong in Oracle database 19...   \n",
              "organization_list                         [Softnet, Consulting, Inc]   \n",
              "skill_list         [Oracle, database, 19c, Advanced, PL/SQL, prog...   \n",
              "job_title_list                     [Oracle, PL/SQL, Lead, Architect]   \n",
              "\n",
              "                                                                   3  \\\n",
              "clean_descrition   Associate Scientist Thousand Oaks, CADescripti...   \n",
              "organization_list                                    [Apex, Systems]   \n",
              "skill_list              [Biochemistry, Biology, Analytical, Systems]   \n",
              "job_title_list                                [Associate, Scientist]   \n",
              "\n",
              "                                                                   4  \n",
              "clean_descrition   Growing fintech company looking for Mid Level,...  \n",
              "organization_list                                            [Jobot]  \n",
              "skill_list         [Developer, JavaScript, SQL, ASP, HTML, Archit...  \n",
              "job_title_list                                  [Software, Engineer]  "
            ],
            "text/html": [
              "\n",
              "  <div id=\"df-f60c0104-3ed5-481c-83ae-bf58bbe0ee8b\">\n",
              "    <div class=\"colab-df-container\">\n",
              "      <div>\n",
              "<style scoped>\n",
              "    .dataframe tbody tr th:only-of-type {\n",
              "        vertical-align: middle;\n",
              "    }\n",
              "\n",
              "    .dataframe tbody tr th {\n",
              "        vertical-align: top;\n",
              "    }\n",
              "\n",
              "    .dataframe thead th {\n",
              "        text-align: right;\n",
              "    }\n",
              "</style>\n",
              "<table border=\"1\" class=\"dataframe\">\n",
              "  <thead>\n",
              "    <tr style=\"text-align: right;\">\n",
              "      <th></th>\n",
              "      <th>0</th>\n",
              "      <th>1</th>\n",
              "      <th>2</th>\n",
              "      <th>3</th>\n",
              "      <th>4</th>\n",
              "    </tr>\n",
              "  </thead>\n",
              "  <tbody>\n",
              "    <tr>\n",
              "      <th>clean_descrition</th>\n",
              "      <td>A technology services client of ours is lookin...</td>\n",
              "      <td>Job Title :Java Sr developerLocation: RemoteLo...</td>\n",
              "      <td>Mandatory Skills: Strong in Oracle database 19...</td>\n",
              "      <td>Associate Scientist Thousand Oaks, CADescripti...</td>\n",
              "      <td>Growing fintech company looking for Mid Level,...</td>\n",
              "    </tr>\n",
              "    <tr>\n",
              "      <th>organization_list</th>\n",
              "      <td>[Swift, Strategic, Solutions, Inc]</td>\n",
              "      <td>[AQUA, Information, Systems,, Inc.]</td>\n",
              "      <td>[Softnet, Consulting, Inc]</td>\n",
              "      <td>[Apex, Systems]</td>\n",
              "      <td>[Jobot]</td>\n",
              "    </tr>\n",
              "    <tr>\n",
              "      <th>skill_list</th>\n",
              "      <td>[NoSQL, Teradata, Netezza, Cosmos, DB, JSON, A...</td>\n",
              "      <td>[Java, JEE, J2EE]</td>\n",
              "      <td>[Oracle, database, 19c, Advanced, PL/SQL, prog...</td>\n",
              "      <td>[Biochemistry, Biology, Analytical, Systems]</td>\n",
              "      <td>[Developer, JavaScript, SQL, ASP, HTML, Archit...</td>\n",
              "    </tr>\n",
              "    <tr>\n",
              "      <th>job_title_list</th>\n",
              "      <td>[Bigdata, Engineer]</td>\n",
              "      <td>[Java, developer]</td>\n",
              "      <td>[Oracle, PL/SQL, Lead, Architect]</td>\n",
              "      <td>[Associate, Scientist]</td>\n",
              "      <td>[Software, Engineer]</td>\n",
              "    </tr>\n",
              "  </tbody>\n",
              "</table>\n",
              "</div>\n",
              "      <button class=\"colab-df-convert\" onclick=\"convertToInteractive('df-f60c0104-3ed5-481c-83ae-bf58bbe0ee8b')\"\n",
              "              title=\"Convert this dataframe to an interactive table.\"\n",
              "              style=\"display:none;\">\n",
              "        \n",
              "  <svg xmlns=\"http://www.w3.org/2000/svg\" height=\"24px\"viewBox=\"0 0 24 24\"\n",
              "       width=\"24px\">\n",
              "    <path d=\"M0 0h24v24H0V0z\" fill=\"none\"/>\n",
              "    <path d=\"M18.56 5.44l.94 2.06.94-2.06 2.06-.94-2.06-.94-.94-2.06-.94 2.06-2.06.94zm-11 1L8.5 8.5l.94-2.06 2.06-.94-2.06-.94L8.5 2.5l-.94 2.06-2.06.94zm10 10l.94 2.06.94-2.06 2.06-.94-2.06-.94-.94-2.06-.94 2.06-2.06.94z\"/><path d=\"M17.41 7.96l-1.37-1.37c-.4-.4-.92-.59-1.43-.59-.52 0-1.04.2-1.43.59L10.3 9.45l-7.72 7.72c-.78.78-.78 2.05 0 2.83L4 21.41c.39.39.9.59 1.41.59.51 0 1.02-.2 1.41-.59l7.78-7.78 2.81-2.81c.8-.78.8-2.07 0-2.86zM5.41 20L4 18.59l7.72-7.72 1.47 1.35L5.41 20z\"/>\n",
              "  </svg>\n",
              "      </button>\n",
              "      \n",
              "  <style>\n",
              "    .colab-df-container {\n",
              "      display:flex;\n",
              "      flex-wrap:wrap;\n",
              "      gap: 12px;\n",
              "    }\n",
              "\n",
              "    .colab-df-convert {\n",
              "      background-color: #E8F0FE;\n",
              "      border: none;\n",
              "      border-radius: 50%;\n",
              "      cursor: pointer;\n",
              "      display: none;\n",
              "      fill: #1967D2;\n",
              "      height: 32px;\n",
              "      padding: 0 0 0 0;\n",
              "      width: 32px;\n",
              "    }\n",
              "\n",
              "    .colab-df-convert:hover {\n",
              "      background-color: #E2EBFA;\n",
              "      box-shadow: 0px 1px 2px rgba(60, 64, 67, 0.3), 0px 1px 3px 1px rgba(60, 64, 67, 0.15);\n",
              "      fill: #174EA6;\n",
              "    }\n",
              "\n",
              "    [theme=dark] .colab-df-convert {\n",
              "      background-color: #3B4455;\n",
              "      fill: #D2E3FC;\n",
              "    }\n",
              "\n",
              "    [theme=dark] .colab-df-convert:hover {\n",
              "      background-color: #434B5C;\n",
              "      box-shadow: 0px 1px 3px 1px rgba(0, 0, 0, 0.15);\n",
              "      filter: drop-shadow(0px 1px 2px rgba(0, 0, 0, 0.3));\n",
              "      fill: #FFFFFF;\n",
              "    }\n",
              "  </style>\n",
              "\n",
              "      <script>\n",
              "        const buttonEl =\n",
              "          document.querySelector('#df-f60c0104-3ed5-481c-83ae-bf58bbe0ee8b button.colab-df-convert');\n",
              "        buttonEl.style.display =\n",
              "          google.colab.kernel.accessAllowed ? 'block' : 'none';\n",
              "\n",
              "        async function convertToInteractive(key) {\n",
              "          const element = document.querySelector('#df-f60c0104-3ed5-481c-83ae-bf58bbe0ee8b');\n",
              "          const dataTable =\n",
              "            await google.colab.kernel.invokeFunction('convertToInteractive',\n",
              "                                                     [key], {});\n",
              "          if (!dataTable) return;\n",
              "\n",
              "          const docLinkHtml = 'Like what you see? Visit the ' +\n",
              "            '<a target=\"_blank\" href=https://colab.research.google.com/notebooks/data_table.ipynb>data table notebook</a>'\n",
              "            + ' to learn more about interactive tables.';\n",
              "          element.innerHTML = '';\n",
              "          dataTable['output_type'] = 'display_data';\n",
              "          await google.colab.output.renderOutput(dataTable, element);\n",
              "          const docLink = document.createElement('div');\n",
              "          docLink.innerHTML = docLinkHtml;\n",
              "          element.appendChild(docLink);\n",
              "        }\n",
              "      </script>\n",
              "    </div>\n",
              "  </div>\n",
              "  "
            ]
          },
          "metadata": {},
          "execution_count": 8
        }
      ]
    },
    {
      "cell_type": "code",
      "source": [
        "df['clean_descrition'] = df['clean_descrition'].str.replace(r'[^\\w\\s]+', ' ')\n",
        "df['clean_descrition'] = df['clean_descrition'].apply(lambda x: ' '.join(x.split()[:128]))\n",
        "df['clean_descrition'][1]"
      ],
      "metadata": {
        "colab": {
          "base_uri": "https://localhost:8080/",
          "height": 140
        },
        "id": "pPrUPHpNsUeg",
        "outputId": "71ae0d05-99b8-4353-8517-b09f98d00dd7"
      },
      "execution_count": 9,
      "outputs": [
        {
          "output_type": "stream",
          "name": "stderr",
          "text": [
            "<ipython-input-9-42c4f31900d0>:1: FutureWarning: The default value of regex will change from True to False in a future version.\n",
            "  df['clean_descrition'] = df['clean_descrition'].str.replace(r'[^\\w\\s]+', ' ')\n"
          ]
        },
        {
          "output_type": "execute_result",
          "data": {
            "text/plain": [
              "'Job Title Java Sr developerLocation RemoteLong TermSkills java jeShould have good understanding on the change management role and had depth knowledge on the change advisory board process CAB Good knowledge on the incident management Problem management Change Management Should have involved in the 3L level of activities i e root cause analysis environment analysis understanding the application architecture infrastructure architecture The resource should have very good understanding on the SDLC process Very good knowledge on the Java J2EE and have hands on experience in understanding the architecture of heterogeneous application Good communication skills and team handling abilities Should have worked on the onshore offshore model Should be flexible and having good attitude'"
            ],
            "application/vnd.google.colaboratory.intrinsic+json": {
              "type": "string"
            }
          },
          "metadata": {},
          "execution_count": 9
        }
      ]
    },
    {
      "cell_type": "code",
      "source": [
        "jobs = list(df.clean_descrition)\n",
        "def convert_to_list_then_dict(df_column= None, key_value=str):\n",
        "    value_list = list(df_column)\n",
        "    _ = list(set([item for value_list in value_list for item in value_list]))\n",
        "    return dict.fromkeys(_, key_value)\n",
        "\n",
        "org = convert_to_list_then_dict(df_column=df.organization_list, key_value='C')\n",
        "skill = convert_to_list_then_dict(df_column=df.skill_list, key_value='S')\n",
        "job = convert_to_list_then_dict(df_column=df.job_title_list, key_value='J')    "
      ],
      "metadata": {
        "id": "q1b-FzDfsZeK"
      },
      "execution_count": 10,
      "outputs": []
    },
    {
      "cell_type": "code",
      "source": [
        "XTr= jobs[:1500]\n",
        "XVal= jobs[1500:2000]\n",
        "org_b = org\n",
        "skills_b = skill\n",
        "jobs_b = job"
      ],
      "metadata": {
        "id": "MZs-5Vcrsdc-"
      },
      "execution_count": 11,
      "outputs": []
    },
    {
      "cell_type": "code",
      "source": [
        "def make(X,org_b,skills_b,jobs_b):\n",
        "  big=[]\n",
        "  for sentence in X:\n",
        "    token=word_tokenize(sentence)\n",
        "    small=[]\n",
        "    token_t=nltk.pos_tag(token)\n",
        "    for f,s in token_t:\n",
        "      tag='O'\n",
        "      if f.lower() in org_b:\n",
        "        tag=org_b[f.lower()]\n",
        "      if f.lower() in skills_b:\n",
        "        tag=skills_b[f.lower()]\n",
        "      if f.lower() in jobs_b:\n",
        "        tag=jobs_b[f.lower()]\n",
        "      small.append((f,s,tag))\n",
        "    big.append(small)\n",
        "  return big\n",
        "XTr_=make(XTr,org_b,skills_b,jobs_b)\n",
        "XVal_=make(XVal,org_b,skills_b,jobs_b)"
      ],
      "metadata": {
        "id": "zPBgJgpB0_5u"
      },
      "execution_count": 12,
      "outputs": []
    },
    {
      "cell_type": "code",
      "source": [
        "def getfeatures(dat,i):\n",
        "  word=dat[i][0]\n",
        "  postag=dat[i][1]\n",
        "  features = {\n",
        "        'bias': 1.0,\n",
        "        'word.lower()': word.lower(),\n",
        "        'word[-3:]': word[-3:],\n",
        "        'word[-2:]': word[-2:],\n",
        "        'word.isupper()': word.isupper(),\n",
        "        'word.istitle()': word.istitle(),\n",
        "        'word.isdigit()': word.isdigit(),\n",
        "        'postag': postag,\n",
        "        'postag[:2]': postag[:2],\n",
        "  }\n",
        "  if i>0:\n",
        "    word=dat[i-1][0]\n",
        "    postag=dat[i-1][1]\n",
        "    features.update({\n",
        "        '-1:word.lower()': word.lower(),    \n",
        "        '-1:word.isupper()': word.isupper(),\n",
        "        '-1:word.istitle()': word.istitle(),\n",
        "        '-1:postag': postag,\n",
        "        '-1:postag[:2]': postag[:2]\n",
        "    })\n",
        "  else:\n",
        "    features['BOS']=True\n",
        "  if i+1<len(dat):\n",
        "    word=dat[i+1][0]\n",
        "    postag=dat[i+1][1]\n",
        "    features.update({\n",
        "        '+1:word.lower()': word.lower(),    \n",
        "        '+1:word.isupper()': word.isupper(),\n",
        "        '+1:word.istitle()': word.istitle(),\n",
        "        '+1:postag': postag,\n",
        "        '+1:postag[:2]': postag[:2]\n",
        "    })\n",
        "  else:\n",
        "    features['EOS']=True\n",
        "  return features"
      ],
      "metadata": {
        "id": "6K4y12u61GL9"
      },
      "execution_count": 13,
      "outputs": []
    },
    {
      "cell_type": "code",
      "source": [
        "def f2features(dat):\n",
        "    return [getfeatures(dat, i) for i in range(len(dat))]\n",
        "\n",
        "def f2labels(dat):\n",
        "    return [label for token, postag, label in dat]\n",
        "\n",
        "def f2tokens(dat):\n",
        "    return [token for token, postag, label in dat]"
      ],
      "metadata": {
        "id": "tLAwsHrSJGsr"
      },
      "execution_count": 14,
      "outputs": []
    },
    {
      "cell_type": "code",
      "source": [
        "XTr__=[f2features(x) for x in XTr_]\n",
        "YTr__=[f2labels(x) for x in XTr_]\n",
        "\n",
        "XVal__=[f2features(x) for x in XVal_]\n",
        "YVal__=[f2labels(x) for x in XVal_]"
      ],
      "metadata": {
        "id": "gelVnCDhaBOH"
      },
      "execution_count": 15,
      "outputs": []
    },
    {
      "cell_type": "code",
      "source": [
        "crf = sklearn_crfsuite.CRF(\n",
        "    algorithm='lbfgs',\n",
        "    c1=0.1,\n",
        "    c2=0.1,\n",
        "    max_iterations=100,\n",
        "    all_possible_transitions=True\n",
        ")"
      ],
      "metadata": {
        "id": "DWCD0bB9bMh5"
      },
      "execution_count": 16,
      "outputs": []
    },
    {
      "cell_type": "code",
      "source": [
        "crf.fit(XTr__, YTr__)"
      ],
      "metadata": {
        "colab": {
          "base_uri": "https://localhost:8080/"
        },
        "id": "_8VzhF27dbZA",
        "outputId": "1edcb57c-b56c-406f-c0e1-ef457291773f"
      },
      "execution_count": 17,
      "outputs": [
        {
          "output_type": "stream",
          "name": "stderr",
          "text": [
            "/usr/local/lib/python3.8/dist-packages/sklearn/base.py:209: FutureWarning: From version 0.24, get_params will raise an AttributeError if a parameter cannot be retrieved as an instance attribute. Previously it would return None.\n",
            "  warnings.warn('From version 0.24, get_params will raise an '\n"
          ]
        },
        {
          "output_type": "execute_result",
          "data": {
            "text/plain": [
              "CRF(algorithm='lbfgs', all_possible_transitions=True, c1=0.1, c2=0.1,\n",
              "    keep_tempfiles=None, max_iterations=100)"
            ]
          },
          "metadata": {},
          "execution_count": 17
        }
      ]
    },
    {
      "cell_type": "code",
      "source": [
        "labls=crf.classes_"
      ],
      "metadata": {
        "id": "4DiSfVAffcpy"
      },
      "execution_count": 22,
      "outputs": []
    },
    {
      "cell_type": "code",
      "source": [
        "y_pred = crf.predict(XVal__)\n",
        "metrics.flat_f1_score(YVal__, y_pred,average='weighted', labels=labls)"
      ],
      "metadata": {
        "colab": {
          "base_uri": "https://localhost:8080/"
        },
        "id": "QMwVW9q0d7kF",
        "outputId": "21406803-5904-4a39-9e91-7486493750d7"
      },
      "execution_count": 23,
      "outputs": [
        {
          "output_type": "execute_result",
          "data": {
            "text/plain": [
              "0.9937340122500872"
            ]
          },
          "metadata": {},
          "execution_count": 23
        }
      ]
    },
    {
      "cell_type": "code",
      "source": [
        "print(metrics.flat_classification_report(YVal__, y_pred,digits=3))"
      ],
      "metadata": {
        "colab": {
          "base_uri": "https://localhost:8080/"
        },
        "id": "ltHoopW9fqjS",
        "outputId": "6bec0c71-9b73-409b-81f5-fccd138714ca"
      },
      "execution_count": 24,
      "outputs": [
        {
          "output_type": "stream",
          "name": "stdout",
          "text": [
            "              precision    recall  f1-score   support\n",
            "\n",
            "           C      1.000     0.953     0.976        43\n",
            "           J      0.999     0.999     0.999     32559\n",
            "           O      0.983     0.986     0.985     11927\n",
            "           S      0.991     0.988     0.990     15148\n",
            "\n",
            "    accuracy                          0.994     59677\n",
            "   macro avg      0.993     0.982     0.987     59677\n",
            "weighted avg      0.994     0.994     0.994     59677\n",
            "\n"
          ]
        }
      ]
    },
    {
      "cell_type": "code",
      "source": [
        "print(y_pred[:10])"
      ],
      "metadata": {
        "colab": {
          "base_uri": "https://localhost:8080/"
        },
        "id": "7_H0d0929tC0",
        "outputId": "47016ac1-1635-426a-b66c-7ba8a9ac2e78"
      },
      "execution_count": 26,
      "outputs": [
        {
          "output_type": "stream",
          "name": "stdout",
          "text": [
            "[['O', 'J', 'J', 'O', 'J', 'O', 'J', 'J', 'J', 'O', 'J', 'S', 'O', 'O', 'O', 'O', 'J', 'O', 'S', 'S', 'J', 'J', 'J', 'J', 'J', 'J', 'J', 'O', 'J', 'J', 'J', 'O', 'O', 'J', 'S', 'O', 'O', 'S', 'S', 'J', 'J', 'S', 'J', 'S', 'J', 'J', 'J', 'J', 'J', 'J', 'J', 'J', 'O', 'J', 'O', 'S', 'J', 'S', 'S', 'J', 'S', 'J', 'O', 'S', 'J', 'J', 'J', 'S', 'O', 'O', 'O', 'J', 'S', 'J', 'S', 'O', 'O', 'J', 'J', 'J', 'J', 'J', 'J', 'J', 'J', 'J', 'S', 'J', 'J', 'O', 'J', 'S', 'J', 'O', 'J', 'J', 'J', 'O', 'J', 'O', 'O', 'J', 'J', 'O', 'S', 'J', 'S', 'J', 'O', 'S', 'S', 'J', 'S', 'J', 'J', 'S', 'J', 'O', 'J', 'O', 'J', 'S', 'S', 'S', 'O', 'J', 'J', 'S'], ['J', 'O', 'J', 'J', 'J', 'J', 'O', 'S', 'J', 'J', 'S', 'S', 'J', 'J', 'J', 'J', 'J', 'J', 'J', 'J', 'S', 'J', 'J', 'S', 'O', 'J', 'J', 'O', 'J', 'S', 'J', 'O', 'J', 'S', 'S', 'O', 'J', 'J', 'J', 'O', 'J', 'J', 'J', 'O', 'J', 'J', 'J', 'O', 'J', 'O', 'J', 'S', 'J', 'J', 'S', 'S', 'S', 'J', 'J', 'J', 'J', 'S', 'J', 'J', 'J', 'J', 'J', 'O', 'J', 'J', 'J', 'O', 'S', 'O', 'J', 'O', 'O', 'O', 'J', 'S', 'J', 'J', 'O', 'J', 'O', 'J', 'S', 'J', 'J', 'J', 'J', 'O', 'J', 'O', 'J', 'S', 'S', 'J', 'S', 'S', 'S', 'S', 'J', 'S', 'O', 'S', 'J', 'S', 'J', 'J', 'J', 'J', 'J', 'S', 'J', 'J', 'J', 'S', 'J', 'S', 'S', 'J', 'O', 'J', 'J', 'J', 'O', 'J'], ['J', 'J', 'J', 'J', 'O', 'J', 'J', 'O', 'O', 'J', 'O', 'O', 'O', 'S', 'S', 'J', 'J', 'J', 'J', 'S', 'J', 'J', 'O', 'J', 'J', 'S', 'S', 'O', 'S', 'S', 'S', 'J', 'J', 'O', 'S', 'J', 'O'], ['J', 'J', 'J', 'J', 'J', 'J', 'S', 'O', 'O', 'J', 'O', 'J', 'J', 'O', 'O', 'J', 'S', 'J', 'J', 'S', 'J', 'J', 'J', 'J', 'J', 'O', 'J', 'J', 'J', 'J', 'S', 'S', 'S', 'J', 'S', 'J', 'S', 'J', 'S', 'O', 'J', 'S', 'J', 'J', 'S', 'J', 'J', 'O', 'J', 'J', 'J', 'J', 'O', 'S', 'O', 'O', 'J', 'S', 'O', 'S', 'J', 'J', 'S', 'J', 'J', 'O', 'J', 'S', 'J', 'J', 'J', 'J', 'J', 'J', 'O', 'J', 'O', 'J', 'J', 'J', 'S', 'J', 'O', 'J', 'O', 'O', 'O', 'O', 'O', 'J', 'J', 'S', 'J', 'J', 'O', 'S', 'S', 'S', 'J', 'S', 'S', 'O', 'O', 'J', 'J', 'J', 'S', 'S', 'J', 'J', 'S'], ['J', 'J', 'J', 'J', 'J', 'J', 'J', 'J', 'J', 'J', 'O', 'S', 'J', 'J', 'J', 'O', 'S', 'S', 'O', 'O', 'O', 'O', 'O', 'O', 'O', 'O', 'O', 'O', 'J', 'J', 'J', 'O', 'O', 'O', 'S', 'J', 'O', 'J', 'J', 'O', 'O', 'S', 'S', 'J', 'S', 'J', 'S', 'S', 'J', 'J', 'O', 'S', 'S', 'J', 'J', 'J', 'J', 'J', 'S', 'J', 'S', 'J', 'S', 'O', 'J', 'S', 'J', 'J', 'J', 'O', 'O', 'O', 'S', 'S', 'J', 'S', 'J', 'S', 'S', 'J', 'S', 'S', 'J', 'J', 'J', 'J', 'J', 'J', 'S', 'J', 'S', 'O', 'S', 'J', 'S', 'S', 'S', 'O', 'S', 'J', 'S', 'J', 'J', 'J', 'J', 'J', 'J', 'O', 'O', 'S', 'S', 'J', 'J', 'O', 'J', 'J', 'O', 'J', 'O', 'O', 'O', 'O', 'S', 'J', 'J'], ['S', 'J', 'S', 'J', 'J', 'J', 'O', 'O', 'O', 'J', 'S', 'J', 'J', 'S', 'S', 'J', 'J', 'O', 'S', 'J', 'J', 'J', 'J', 'J', 'J', 'J', 'J', 'S', 'J', 'J', 'O', 'J', 'O', 'J', 'J', 'J', 'J', 'J', 'O', 'O', 'J', 'O', 'S', 'O', 'S', 'J', 'J', 'S', 'J', 'J', 'J', 'S', 'J', 'J', 'J', 'S', 'S', 'O', 'S', 'J', 'S', 'O', 'J', 'J', 'S', 'S', 'O', 'S', 'O', 'O', 'S', 'S', 'S', 'S', 'J', 'J', 'J', 'J', 'O', 'J', 'J', 'O', 'J', 'J', 'S', 'J', 'S', 'J', 'O', 'J', 'S', 'J', 'O', 'S', 'S', 'S', 'O', 'J', 'S', 'S', 'O', 'O', 'S', 'J', 'O', 'J', 'O', 'S', 'J', 'J', 'S', 'J', 'S', 'J', 'S', 'J', 'O', 'J', 'O', 'J', 'S', 'S', 'J', 'O', 'J', 'J', 'O', 'O'], ['J', 'J', 'J', 'J', 'S', 'O', 'O', 'S', 'J', 'J', 'O', 'S', 'J', 'O', 'J', 'S', 'J', 'J', 'J', 'J', 'J', 'J', 'S', 'S', 'J', 'S', 'J', 'J', 'O', 'J', 'J', 'J', 'J', 'S', 'O', 'J', 'J', 'O', 'O', 'J', 'O', 'O', 'S', 'O', 'O', 'J', 'J', 'S', 'O', 'S', 'J', 'S', 'J', 'J', 'J', 'J', 'S', 'J', 'J', 'O', 'S', 'J', 'S', 'J', 'S', 'S', 'O', 'O', 'S', 'J', 'J', 'S', 'J', 'O', 'S', 'J', 'S', 'S', 'O', 'O', 'O', 'O', 'J', 'J', 'O', 'S', 'J', 'S', 'J', 'J', 'S', 'J', 'J', 'S', 'S', 'J', 'J', 'S', 'J', 'J', 'O', 'J', 'J', 'O', 'J', 'J', 'J', 'J', 'O', 'S', 'J', 'O', 'J', 'J', 'J', 'S', 'O', 'J', 'J', 'O', 'O', 'O', 'J', 'S', 'S', 'O', 'J', 'J'], ['J', 'O', 'O', 'J', 'O', 'O', 'O', 'O', 'O', 'J', 'O', 'O', 'J', 'O', 'J', 'O', 'J', 'O', 'J', 'O', 'O', 'J', 'J', 'O', 'O', 'J', 'O', 'J', 'J', 'J', 'S', 'J', 'J', 'O', 'O', 'J', 'O', 'J', 'J', 'J', 'O', 'O', 'J', 'J', 'O', 'J', 'J', 'J', 'S', 'O', 'S', 'J', 'J', 'J', 'J', 'J', 'J', 'S', 'S', 'J', 'J', 'S', 'J', 'O', 'O', 'J', 'O', 'S', 'O', 'O', 'J', 'S', 'S', 'O', 'O', 'S', 'J', 'S', 'J', 'O', 'O', 'J', 'J', 'J', 'O', 'J', 'S', 'O', 'J', 'O', 'O', 'O', 'J', 'J', 'S', 'S', 'O', 'J', 'O', 'J', 'J', 'S', 'J', 'J', 'S', 'O', 'J', 'J', 'S', 'J', 'O', 'J', 'S', 'J', 'S', 'J', 'J', 'J', 'O', 'J', 'J', 'S', 'J', 'S', 'J', 'J', 'J', 'O'], ['J', 'S', 'S', 'S', 'S', 'J', 'J', 'O', 'J', 'J', 'J', 'J', 'O', 'J', 'J', 'J', 'O', 'S', 'S', 'J', 'J', 'J', 'J', 'J', 'J', 'J', 'J', 'J', 'J', 'O', 'J', 'S', 'O', 'S', 'J', 'O', 'J', 'J', 'J', 'O', 'O', 'S', 'O', 'O', 'S', 'O', 'S', 'J', 'O', 'S', 'O', 'J', 'O', 'J', 'S', 'O', 'S', 'J', 'J', 'O', 'J', 'S', 'J', 'J', 'J', 'S', 'O', 'J', 'O', 'O', 'J', 'O', 'S', 'S', 'J', 'O', 'J', 'J', 'J', 'J', 'S', 'S', 'O', 'S', 'S', 'O', 'O', 'S', 'J', 'J', 'O', 'J', 'O', 'O', 'O', 'S', 'J', 'J', 'J', 'J', 'S', 'S', 'J', 'J', 'J', 'J', 'S', 'S', 'J', 'J', 'S', 'J', 'S', 'J', 'O', 'S', 'S', 'O', 'J', 'O', 'O', 'J', 'O', 'J', 'J', 'O', 'J', 'J'], ['O', 'J', 'O', 'O', 'J', 'S', 'J', 'J', 'S', 'S', 'J', 'J', 'J', 'S', 'O', 'J', 'J', 'S', 'J', 'O', 'O', 'S', 'J', 'O', 'O', 'O', 'J', 'J', 'O', 'J', 'O', 'J', 'O', 'J', 'O', 'O', 'S', 'O', 'J', 'J', 'S', 'O', 'S', 'J', 'O', 'O', 'O', 'O', 'J', 'J', 'J', 'J', 'J', 'J', 'J', 'J', 'J', 'J', 'J', 'J', 'O', 'J', 'J', 'J', 'J', 'J', 'J', 'O', 'J', 'J', 'O', 'J', 'O', 'S', 'J', 'J', 'J', 'S', 'J', 'J', 'S', 'J', 'J', 'J', 'J', 'O', 'J', 'O', 'J', 'S', 'O', 'J', 'S', 'J', 'S', 'J', 'S', 'J', 'S', 'J', 'J', 'J', 'J', 'O', 'S', 'J', 'J', 'S', 'J', 'J', 'J', 'J', 'O', 'S', 'S', 'O', 'J', 'O', 'O', 'J', 'O', 'O', 'J', 'S', 'J', 'J', 'S', 'S']]\n"
          ]
        }
      ]
    },
    {
      "cell_type": "code",
      "source": [],
      "metadata": {
        "id": "xLC9WaCf9ux6"
      },
      "execution_count": null,
      "outputs": []
    }
  ]
}