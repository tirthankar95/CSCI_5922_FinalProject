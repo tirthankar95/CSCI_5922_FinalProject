{
  "nbformat": 4,
  "nbformat_minor": 0,
  "metadata": {
    "colab": {
      "provenance": []
    },
    "kernelspec": {
      "name": "python3",
      "display_name": "Python 3"
    },
    "language_info": {
      "name": "python"
    }
  },
  "cells": [
    {
      "cell_type": "code",
      "source": [
        "!pip install tf2crf"
      ],
      "metadata": {
        "colab": {
          "base_uri": "https://localhost:8080/"
        },
        "id": "Vw-32IGQ2elc",
        "outputId": "5f31de2e-2e47-4d35-ac3e-61299ace8d04"
      },
      "execution_count": 1,
      "outputs": [
        {
          "output_type": "stream",
          "name": "stdout",
          "text": [
            "Looking in indexes: https://pypi.org/simple, https://us-python.pkg.dev/colab-wheels/public/simple/\n",
            "Collecting tf2crf\n",
            "  Downloading tf2crf-0.1.33-py2.py3-none-any.whl (7.3 kB)\n",
            "Requirement already satisfied: tensorflow>=2.1.0 in /usr/local/lib/python3.8/dist-packages (from tf2crf) (2.9.2)\n",
            "Collecting tensorflow-addons>=0.8.2\n",
            "  Downloading tensorflow_addons-0.18.0-cp38-cp38-manylinux_2_17_x86_64.manylinux2014_x86_64.whl (1.1 MB)\n",
            "\u001b[K     |████████████████████████████████| 1.1 MB 4.8 MB/s \n",
            "\u001b[?25hRequirement already satisfied: keras<2.10.0,>=2.9.0rc0 in /usr/local/lib/python3.8/dist-packages (from tensorflow>=2.1.0->tf2crf) (2.9.0)\n",
            "Requirement already satisfied: tensorflow-io-gcs-filesystem>=0.23.1 in /usr/local/lib/python3.8/dist-packages (from tensorflow>=2.1.0->tf2crf) (0.28.0)\n",
            "Requirement already satisfied: flatbuffers<2,>=1.12 in /usr/local/lib/python3.8/dist-packages (from tensorflow>=2.1.0->tf2crf) (1.12)\n",
            "Requirement already satisfied: astunparse>=1.6.0 in /usr/local/lib/python3.8/dist-packages (from tensorflow>=2.1.0->tf2crf) (1.6.3)\n",
            "Requirement already satisfied: six>=1.12.0 in /usr/local/lib/python3.8/dist-packages (from tensorflow>=2.1.0->tf2crf) (1.15.0)\n",
            "Requirement already satisfied: h5py>=2.9.0 in /usr/local/lib/python3.8/dist-packages (from tensorflow>=2.1.0->tf2crf) (3.1.0)\n",
            "Requirement already satisfied: grpcio<2.0,>=1.24.3 in /usr/local/lib/python3.8/dist-packages (from tensorflow>=2.1.0->tf2crf) (1.50.0)\n",
            "Requirement already satisfied: keras-preprocessing>=1.1.1 in /usr/local/lib/python3.8/dist-packages (from tensorflow>=2.1.0->tf2crf) (1.1.2)\n",
            "Requirement already satisfied: termcolor>=1.1.0 in /usr/local/lib/python3.8/dist-packages (from tensorflow>=2.1.0->tf2crf) (2.1.1)\n",
            "Requirement already satisfied: setuptools in /usr/local/lib/python3.8/dist-packages (from tensorflow>=2.1.0->tf2crf) (57.4.0)\n",
            "Requirement already satisfied: tensorflow-estimator<2.10.0,>=2.9.0rc0 in /usr/local/lib/python3.8/dist-packages (from tensorflow>=2.1.0->tf2crf) (2.9.0)\n",
            "Requirement already satisfied: gast<=0.4.0,>=0.2.1 in /usr/local/lib/python3.8/dist-packages (from tensorflow>=2.1.0->tf2crf) (0.4.0)\n",
            "Requirement already satisfied: tensorboard<2.10,>=2.9 in /usr/local/lib/python3.8/dist-packages (from tensorflow>=2.1.0->tf2crf) (2.9.1)\n",
            "Requirement already satisfied: typing-extensions>=3.6.6 in /usr/local/lib/python3.8/dist-packages (from tensorflow>=2.1.0->tf2crf) (4.1.1)\n",
            "Requirement already satisfied: numpy>=1.20 in /usr/local/lib/python3.8/dist-packages (from tensorflow>=2.1.0->tf2crf) (1.21.6)\n",
            "Requirement already satisfied: opt-einsum>=2.3.2 in /usr/local/lib/python3.8/dist-packages (from tensorflow>=2.1.0->tf2crf) (3.3.0)\n",
            "Requirement already satisfied: protobuf<3.20,>=3.9.2 in /usr/local/lib/python3.8/dist-packages (from tensorflow>=2.1.0->tf2crf) (3.19.6)\n",
            "Requirement already satisfied: libclang>=13.0.0 in /usr/local/lib/python3.8/dist-packages (from tensorflow>=2.1.0->tf2crf) (14.0.6)\n",
            "Requirement already satisfied: wrapt>=1.11.0 in /usr/local/lib/python3.8/dist-packages (from tensorflow>=2.1.0->tf2crf) (1.14.1)\n",
            "Requirement already satisfied: packaging in /usr/local/lib/python3.8/dist-packages (from tensorflow>=2.1.0->tf2crf) (21.3)\n",
            "Requirement already satisfied: absl-py>=1.0.0 in /usr/local/lib/python3.8/dist-packages (from tensorflow>=2.1.0->tf2crf) (1.3.0)\n",
            "Requirement already satisfied: google-pasta>=0.1.1 in /usr/local/lib/python3.8/dist-packages (from tensorflow>=2.1.0->tf2crf) (0.2.0)\n",
            "Requirement already satisfied: wheel<1.0,>=0.23.0 in /usr/local/lib/python3.8/dist-packages (from astunparse>=1.6.0->tensorflow>=2.1.0->tf2crf) (0.38.4)\n",
            "Requirement already satisfied: markdown>=2.6.8 in /usr/local/lib/python3.8/dist-packages (from tensorboard<2.10,>=2.9->tensorflow>=2.1.0->tf2crf) (3.4.1)\n",
            "Requirement already satisfied: google-auth-oauthlib<0.5,>=0.4.1 in /usr/local/lib/python3.8/dist-packages (from tensorboard<2.10,>=2.9->tensorflow>=2.1.0->tf2crf) (0.4.6)\n",
            "Requirement already satisfied: tensorboard-data-server<0.7.0,>=0.6.0 in /usr/local/lib/python3.8/dist-packages (from tensorboard<2.10,>=2.9->tensorflow>=2.1.0->tf2crf) (0.6.1)\n",
            "Requirement already satisfied: werkzeug>=1.0.1 in /usr/local/lib/python3.8/dist-packages (from tensorboard<2.10,>=2.9->tensorflow>=2.1.0->tf2crf) (1.0.1)\n",
            "Requirement already satisfied: requests<3,>=2.21.0 in /usr/local/lib/python3.8/dist-packages (from tensorboard<2.10,>=2.9->tensorflow>=2.1.0->tf2crf) (2.23.0)\n",
            "Requirement already satisfied: google-auth<3,>=1.6.3 in /usr/local/lib/python3.8/dist-packages (from tensorboard<2.10,>=2.9->tensorflow>=2.1.0->tf2crf) (2.14.1)\n",
            "Requirement already satisfied: tensorboard-plugin-wit>=1.6.0 in /usr/local/lib/python3.8/dist-packages (from tensorboard<2.10,>=2.9->tensorflow>=2.1.0->tf2crf) (1.8.1)\n",
            "Requirement already satisfied: cachetools<6.0,>=2.0.0 in /usr/local/lib/python3.8/dist-packages (from google-auth<3,>=1.6.3->tensorboard<2.10,>=2.9->tensorflow>=2.1.0->tf2crf) (5.2.0)\n",
            "Requirement already satisfied: pyasn1-modules>=0.2.1 in /usr/local/lib/python3.8/dist-packages (from google-auth<3,>=1.6.3->tensorboard<2.10,>=2.9->tensorflow>=2.1.0->tf2crf) (0.2.8)\n",
            "Requirement already satisfied: rsa<5,>=3.1.4 in /usr/local/lib/python3.8/dist-packages (from google-auth<3,>=1.6.3->tensorboard<2.10,>=2.9->tensorflow>=2.1.0->tf2crf) (4.9)\n",
            "Requirement already satisfied: requests-oauthlib>=0.7.0 in /usr/local/lib/python3.8/dist-packages (from google-auth-oauthlib<0.5,>=0.4.1->tensorboard<2.10,>=2.9->tensorflow>=2.1.0->tf2crf) (1.3.1)\n",
            "Requirement already satisfied: importlib-metadata>=4.4 in /usr/local/lib/python3.8/dist-packages (from markdown>=2.6.8->tensorboard<2.10,>=2.9->tensorflow>=2.1.0->tf2crf) (4.13.0)\n",
            "Requirement already satisfied: zipp>=0.5 in /usr/local/lib/python3.8/dist-packages (from importlib-metadata>=4.4->markdown>=2.6.8->tensorboard<2.10,>=2.9->tensorflow>=2.1.0->tf2crf) (3.10.0)\n",
            "Requirement already satisfied: pyasn1<0.5.0,>=0.4.6 in /usr/local/lib/python3.8/dist-packages (from pyasn1-modules>=0.2.1->google-auth<3,>=1.6.3->tensorboard<2.10,>=2.9->tensorflow>=2.1.0->tf2crf) (0.4.8)\n",
            "Requirement already satisfied: chardet<4,>=3.0.2 in /usr/local/lib/python3.8/dist-packages (from requests<3,>=2.21.0->tensorboard<2.10,>=2.9->tensorflow>=2.1.0->tf2crf) (3.0.4)\n",
            "Requirement already satisfied: urllib3!=1.25.0,!=1.25.1,<1.26,>=1.21.1 in /usr/local/lib/python3.8/dist-packages (from requests<3,>=2.21.0->tensorboard<2.10,>=2.9->tensorflow>=2.1.0->tf2crf) (1.24.3)\n",
            "Requirement already satisfied: idna<3,>=2.5 in /usr/local/lib/python3.8/dist-packages (from requests<3,>=2.21.0->tensorboard<2.10,>=2.9->tensorflow>=2.1.0->tf2crf) (2.10)\n",
            "Requirement already satisfied: certifi>=2017.4.17 in /usr/local/lib/python3.8/dist-packages (from requests<3,>=2.21.0->tensorboard<2.10,>=2.9->tensorflow>=2.1.0->tf2crf) (2022.9.24)\n",
            "Requirement already satisfied: oauthlib>=3.0.0 in /usr/local/lib/python3.8/dist-packages (from requests-oauthlib>=0.7.0->google-auth-oauthlib<0.5,>=0.4.1->tensorboard<2.10,>=2.9->tensorflow>=2.1.0->tf2crf) (3.2.2)\n",
            "Requirement already satisfied: typeguard>=2.7 in /usr/local/lib/python3.8/dist-packages (from tensorflow-addons>=0.8.2->tf2crf) (2.7.1)\n",
            "Requirement already satisfied: pyparsing!=3.0.5,>=2.0.2 in /usr/local/lib/python3.8/dist-packages (from packaging->tensorflow>=2.1.0->tf2crf) (3.0.9)\n",
            "Installing collected packages: tensorflow-addons, tf2crf\n",
            "Successfully installed tensorflow-addons-0.18.0 tf2crf-0.1.33\n"
          ]
        }
      ]
    },
    {
      "cell_type": "code",
      "source": [
        "pip install -U 'scikit-learn<0.24'"
      ],
      "metadata": {
        "colab": {
          "base_uri": "https://localhost:8080/"
        },
        "id": "s9oqdeeI87yH",
        "outputId": "b86b7fed-9a39-4513-d142-3a88a5bff4d9"
      },
      "execution_count": 2,
      "outputs": [
        {
          "output_type": "stream",
          "name": "stdout",
          "text": [
            "Looking in indexes: https://pypi.org/simple, https://us-python.pkg.dev/colab-wheels/public/simple/\n",
            "Collecting scikit-learn<0.24\n",
            "  Downloading scikit_learn-0.23.2-cp38-cp38-manylinux1_x86_64.whl (6.8 MB)\n",
            "\u001b[K     |████████████████████████████████| 6.8 MB 5.1 MB/s \n",
            "\u001b[?25hRequirement already satisfied: scipy>=0.19.1 in /usr/local/lib/python3.8/dist-packages (from scikit-learn<0.24) (1.7.3)\n",
            "Requirement already satisfied: numpy>=1.13.3 in /usr/local/lib/python3.8/dist-packages (from scikit-learn<0.24) (1.21.6)\n",
            "Requirement already satisfied: joblib>=0.11 in /usr/local/lib/python3.8/dist-packages (from scikit-learn<0.24) (1.2.0)\n",
            "Requirement already satisfied: threadpoolctl>=2.0.0 in /usr/local/lib/python3.8/dist-packages (from scikit-learn<0.24) (3.1.0)\n",
            "Installing collected packages: scikit-learn\n",
            "  Attempting uninstall: scikit-learn\n",
            "    Found existing installation: scikit-learn 1.0.2\n",
            "    Uninstalling scikit-learn-1.0.2:\n",
            "      Successfully uninstalled scikit-learn-1.0.2\n",
            "\u001b[31mERROR: pip's dependency resolver does not currently take into account all the packages that are installed. This behaviour is the source of the following dependency conflicts.\n",
            "yellowbrick 1.5 requires scikit-learn>=1.0.0, but you have scikit-learn 0.23.2 which is incompatible.\n",
            "imbalanced-learn 0.8.1 requires scikit-learn>=0.24, but you have scikit-learn 0.23.2 which is incompatible.\u001b[0m\n",
            "Successfully installed scikit-learn-0.23.2\n"
          ]
        }
      ]
    },
    {
      "cell_type": "code",
      "execution_count": 3,
      "metadata": {
        "id": "yaYxWTKuj2Wz"
      },
      "outputs": [],
      "source": [
        "%matplotlib inline\n",
        "import matplotlib.pyplot as plt\n",
        "plt.style.use('ggplot')\n",
        "\n",
        "from itertools import chain\n",
        "import numpy as np\n",
        "\n",
        "import nltk\n",
        "import sklearn\n",
        "import scipy.stats\n",
        "from sklearn.metrics import make_scorer\n",
        "from sklearn.model_selection import cross_val_score\n",
        "from nltk.tokenize import word_tokenize\n",
        "import numpy as np\n",
        "\n",
        "import keras \n",
        "from tf2crf import CRF \n",
        "from tf2crf import ModelWithCRFLoss\n",
        "\n",
        "from keras.models import Sequential,Model\n",
        "from keras.layers import LSTM,Bidirectional,Dense,Input,Embedding,TimeDistributed\n",
        "from keras.callbacks import EarlyStopping, ModelCheckpoint"
      ]
    },
    {
      "cell_type": "code",
      "source": [
        "nltk.download('punkt')\n",
        "nltk.download('averaged_perceptron_tagger')"
      ],
      "metadata": {
        "colab": {
          "base_uri": "https://localhost:8080/"
        },
        "id": "PQn1IoZiUlAL",
        "outputId": "37cb27bd-ceed-4d5c-febb-93b78ceeac24"
      },
      "execution_count": 4,
      "outputs": [
        {
          "output_type": "stream",
          "name": "stderr",
          "text": [
            "[nltk_data] Downloading package punkt to /root/nltk_data...\n",
            "[nltk_data]   Unzipping tokenizers/punkt.zip.\n",
            "[nltk_data] Downloading package averaged_perceptron_tagger to\n",
            "[nltk_data]     /root/nltk_data...\n",
            "[nltk_data]   Unzipping taggers/averaged_perceptron_tagger.zip.\n"
          ]
        },
        {
          "output_type": "execute_result",
          "data": {
            "text/plain": [
              "True"
            ]
          },
          "metadata": {},
          "execution_count": 4
        }
      ]
    },
    {
      "cell_type": "code",
      "source": [
        "from google.colab import drive,files\n",
        "drive.mount(\"/content/drive\")\n",
        "dataM='/content/drive/My Drive/Colab Notebooks/MODELS/'\n",
        "filepath = dataM+'BiLSTM_CRF.ml'"
      ],
      "metadata": {
        "colab": {
          "base_uri": "https://localhost:8080/"
        },
        "id": "oU7jepWEbPWF",
        "outputId": "2ec79296-6e61-4d53-83e4-b88dd5f40ddc"
      },
      "execution_count": 6,
      "outputs": [
        {
          "output_type": "stream",
          "name": "stdout",
          "text": [
            "Mounted at /content/drive\n"
          ]
        }
      ]
    },
    {
      "cell_type": "code",
      "source": [
        "!cp -rf drive/MyDrive/job_20k.json /content/"
      ],
      "metadata": {
        "id": "3NGa75QdQojA"
      },
      "execution_count": 24,
      "outputs": []
    },
    {
      "cell_type": "code",
      "source": [
        "import pandas as pd\n",
        "import json\n",
        "path_to_json = 'job_20k.json'\n",
        "df  = pd.read_json(path_to_json,lines=True)\n",
        "df.head().T"
      ],
      "metadata": {
        "colab": {
          "base_uri": "https://localhost:8080/",
          "height": 288
        },
        "id": "VFxEpbm-Qnkf",
        "outputId": "2e0f1d46-4d74-4d7f-80b0-338bcff44ee8"
      },
      "execution_count": 27,
      "outputs": [
        {
          "output_type": "execute_result",
          "data": {
            "text/plain": [
              "                                                                   0  \\\n",
              "clean_descrition   A technology services client of ours is lookin...   \n",
              "organization_list                 [Swift, Strategic, Solutions, Inc]   \n",
              "skill_list         [NoSQL, Teradata, Netezza, Cosmos, DB, JSON, A...   \n",
              "job_title_list                                   [Bigdata, Engineer]   \n",
              "\n",
              "                                                                   1  \\\n",
              "clean_descrition   Job Title :Java Sr developerLocation: RemoteLo...   \n",
              "organization_list                [AQUA, Information, Systems,, Inc.]   \n",
              "skill_list                                         [Java, JEE, J2EE]   \n",
              "job_title_list                                     [Java, developer]   \n",
              "\n",
              "                                                                   2  \\\n",
              "clean_descrition   Mandatory Skills: Strong in Oracle database 19...   \n",
              "organization_list                         [Softnet, Consulting, Inc]   \n",
              "skill_list         [Oracle, database, 19c, Advanced, PL/SQL, prog...   \n",
              "job_title_list                     [Oracle, PL/SQL, Lead, Architect]   \n",
              "\n",
              "                                                                   3  \\\n",
              "clean_descrition   Associate Scientist Thousand Oaks, CADescripti...   \n",
              "organization_list                                    [Apex, Systems]   \n",
              "skill_list              [Biochemistry, Biology, Analytical, Systems]   \n",
              "job_title_list                                [Associate, Scientist]   \n",
              "\n",
              "                                                                   4  \n",
              "clean_descrition   Growing fintech company looking for Mid Level,...  \n",
              "organization_list                                            [Jobot]  \n",
              "skill_list         [Developer, JavaScript, SQL, ASP, HTML, Archit...  \n",
              "job_title_list                                  [Software, Engineer]  "
            ],
            "text/html": [
              "\n",
              "  <div id=\"df-2c584813-e3c4-4fde-8fba-a18a880b5c5c\">\n",
              "    <div class=\"colab-df-container\">\n",
              "      <div>\n",
              "<style scoped>\n",
              "    .dataframe tbody tr th:only-of-type {\n",
              "        vertical-align: middle;\n",
              "    }\n",
              "\n",
              "    .dataframe tbody tr th {\n",
              "        vertical-align: top;\n",
              "    }\n",
              "\n",
              "    .dataframe thead th {\n",
              "        text-align: right;\n",
              "    }\n",
              "</style>\n",
              "<table border=\"1\" class=\"dataframe\">\n",
              "  <thead>\n",
              "    <tr style=\"text-align: right;\">\n",
              "      <th></th>\n",
              "      <th>0</th>\n",
              "      <th>1</th>\n",
              "      <th>2</th>\n",
              "      <th>3</th>\n",
              "      <th>4</th>\n",
              "    </tr>\n",
              "  </thead>\n",
              "  <tbody>\n",
              "    <tr>\n",
              "      <th>clean_descrition</th>\n",
              "      <td>A technology services client of ours is lookin...</td>\n",
              "      <td>Job Title :Java Sr developerLocation: RemoteLo...</td>\n",
              "      <td>Mandatory Skills: Strong in Oracle database 19...</td>\n",
              "      <td>Associate Scientist Thousand Oaks, CADescripti...</td>\n",
              "      <td>Growing fintech company looking for Mid Level,...</td>\n",
              "    </tr>\n",
              "    <tr>\n",
              "      <th>organization_list</th>\n",
              "      <td>[Swift, Strategic, Solutions, Inc]</td>\n",
              "      <td>[AQUA, Information, Systems,, Inc.]</td>\n",
              "      <td>[Softnet, Consulting, Inc]</td>\n",
              "      <td>[Apex, Systems]</td>\n",
              "      <td>[Jobot]</td>\n",
              "    </tr>\n",
              "    <tr>\n",
              "      <th>skill_list</th>\n",
              "      <td>[NoSQL, Teradata, Netezza, Cosmos, DB, JSON, A...</td>\n",
              "      <td>[Java, JEE, J2EE]</td>\n",
              "      <td>[Oracle, database, 19c, Advanced, PL/SQL, prog...</td>\n",
              "      <td>[Biochemistry, Biology, Analytical, Systems]</td>\n",
              "      <td>[Developer, JavaScript, SQL, ASP, HTML, Archit...</td>\n",
              "    </tr>\n",
              "    <tr>\n",
              "      <th>job_title_list</th>\n",
              "      <td>[Bigdata, Engineer]</td>\n",
              "      <td>[Java, developer]</td>\n",
              "      <td>[Oracle, PL/SQL, Lead, Architect]</td>\n",
              "      <td>[Associate, Scientist]</td>\n",
              "      <td>[Software, Engineer]</td>\n",
              "    </tr>\n",
              "  </tbody>\n",
              "</table>\n",
              "</div>\n",
              "      <button class=\"colab-df-convert\" onclick=\"convertToInteractive('df-2c584813-e3c4-4fde-8fba-a18a880b5c5c')\"\n",
              "              title=\"Convert this dataframe to an interactive table.\"\n",
              "              style=\"display:none;\">\n",
              "        \n",
              "  <svg xmlns=\"http://www.w3.org/2000/svg\" height=\"24px\"viewBox=\"0 0 24 24\"\n",
              "       width=\"24px\">\n",
              "    <path d=\"M0 0h24v24H0V0z\" fill=\"none\"/>\n",
              "    <path d=\"M18.56 5.44l.94 2.06.94-2.06 2.06-.94-2.06-.94-.94-2.06-.94 2.06-2.06.94zm-11 1L8.5 8.5l.94-2.06 2.06-.94-2.06-.94L8.5 2.5l-.94 2.06-2.06.94zm10 10l.94 2.06.94-2.06 2.06-.94-2.06-.94-.94-2.06-.94 2.06-2.06.94z\"/><path d=\"M17.41 7.96l-1.37-1.37c-.4-.4-.92-.59-1.43-.59-.52 0-1.04.2-1.43.59L10.3 9.45l-7.72 7.72c-.78.78-.78 2.05 0 2.83L4 21.41c.39.39.9.59 1.41.59.51 0 1.02-.2 1.41-.59l7.78-7.78 2.81-2.81c.8-.78.8-2.07 0-2.86zM5.41 20L4 18.59l7.72-7.72 1.47 1.35L5.41 20z\"/>\n",
              "  </svg>\n",
              "      </button>\n",
              "      \n",
              "  <style>\n",
              "    .colab-df-container {\n",
              "      display:flex;\n",
              "      flex-wrap:wrap;\n",
              "      gap: 12px;\n",
              "    }\n",
              "\n",
              "    .colab-df-convert {\n",
              "      background-color: #E8F0FE;\n",
              "      border: none;\n",
              "      border-radius: 50%;\n",
              "      cursor: pointer;\n",
              "      display: none;\n",
              "      fill: #1967D2;\n",
              "      height: 32px;\n",
              "      padding: 0 0 0 0;\n",
              "      width: 32px;\n",
              "    }\n",
              "\n",
              "    .colab-df-convert:hover {\n",
              "      background-color: #E2EBFA;\n",
              "      box-shadow: 0px 1px 2px rgba(60, 64, 67, 0.3), 0px 1px 3px 1px rgba(60, 64, 67, 0.15);\n",
              "      fill: #174EA6;\n",
              "    }\n",
              "\n",
              "    [theme=dark] .colab-df-convert {\n",
              "      background-color: #3B4455;\n",
              "      fill: #D2E3FC;\n",
              "    }\n",
              "\n",
              "    [theme=dark] .colab-df-convert:hover {\n",
              "      background-color: #434B5C;\n",
              "      box-shadow: 0px 1px 3px 1px rgba(0, 0, 0, 0.15);\n",
              "      filter: drop-shadow(0px 1px 2px rgba(0, 0, 0, 0.3));\n",
              "      fill: #FFFFFF;\n",
              "    }\n",
              "  </style>\n",
              "\n",
              "      <script>\n",
              "        const buttonEl =\n",
              "          document.querySelector('#df-2c584813-e3c4-4fde-8fba-a18a880b5c5c button.colab-df-convert');\n",
              "        buttonEl.style.display =\n",
              "          google.colab.kernel.accessAllowed ? 'block' : 'none';\n",
              "\n",
              "        async function convertToInteractive(key) {\n",
              "          const element = document.querySelector('#df-2c584813-e3c4-4fde-8fba-a18a880b5c5c');\n",
              "          const dataTable =\n",
              "            await google.colab.kernel.invokeFunction('convertToInteractive',\n",
              "                                                     [key], {});\n",
              "          if (!dataTable) return;\n",
              "\n",
              "          const docLinkHtml = 'Like what you see? Visit the ' +\n",
              "            '<a target=\"_blank\" href=https://colab.research.google.com/notebooks/data_table.ipynb>data table notebook</a>'\n",
              "            + ' to learn more about interactive tables.';\n",
              "          element.innerHTML = '';\n",
              "          dataTable['output_type'] = 'display_data';\n",
              "          await google.colab.output.renderOutput(dataTable, element);\n",
              "          const docLink = document.createElement('div');\n",
              "          docLink.innerHTML = docLinkHtml;\n",
              "          element.appendChild(docLink);\n",
              "        }\n",
              "      </script>\n",
              "    </div>\n",
              "  </div>\n",
              "  "
            ]
          },
          "metadata": {},
          "execution_count": 27
        }
      ]
    },
    {
      "cell_type": "code",
      "source": [
        "df['clean_descrition'] = df['clean_descrition'].str.replace(r'[^\\w\\s]+', ' ')\n",
        "df['clean_descrition'] = df['clean_descrition'].apply(lambda x: ' '.join(x.split()[:128]))\n",
        "df['clean_descrition'][1]"
      ],
      "metadata": {
        "colab": {
          "base_uri": "https://localhost:8080/",
          "height": 157
        },
        "id": "Ck0-U2LLRMHR",
        "outputId": "a4b1d934-4a34-444f-c11e-2b89b65a57bd"
      },
      "execution_count": 29,
      "outputs": [
        {
          "output_type": "stream",
          "name": "stderr",
          "text": [
            "<ipython-input-29-42c4f31900d0>:1: FutureWarning: The default value of regex will change from True to False in a future version.\n",
            "  df['clean_descrition'] = df['clean_descrition'].str.replace(r'[^\\w\\s]+', ' ')\n"
          ]
        },
        {
          "output_type": "execute_result",
          "data": {
            "text/plain": [
              "'Job Title Java Sr developerLocation RemoteLong TermSkills java jeShould have good understanding on the change management role and had depth knowledge on the change advisory board process CAB Good knowledge on the incident management Problem management Change Management Should have involved in the 3L level of activities i e root cause analysis environment analysis understanding the application architecture infrastructure architecture The resource should have very good understanding on the SDLC process Very good knowledge on the Java J2EE and have hands on experience in understanding the architecture of heterogeneous application Good communication skills and team handling abilities Should have worked on the onshore offshore model Should be flexible and having good attitude'"
            ],
            "application/vnd.google.colaboratory.intrinsic+json": {
              "type": "string"
            }
          },
          "metadata": {},
          "execution_count": 29
        }
      ]
    },
    {
      "cell_type": "code",
      "source": [
        "jobs = list(df.clean_descrition)\n",
        "def convert_to_list_then_dict(df_column= None, key_value=str):\n",
        "    value_list = list(df_column)\n",
        "    _ = list(set([item for value_list in value_list for item in value_list]))\n",
        "    return dict.fromkeys(_, key_value)\n",
        "\n",
        "org = convert_to_list_then_dict(df_column=df.organization_list, key_value='C')\n",
        "skill = convert_to_list_then_dict(df_column=df.skill_list, key_value='S')\n",
        "job = convert_to_list_then_dict(df_column=df.job_title_list, key_value='J')    "
      ],
      "metadata": {
        "id": "NB4d5_5GRh3F"
      },
      "execution_count": 30,
      "outputs": []
    },
    {
      "cell_type": "code",
      "source": [
        "XTr= jobs[:15000]\n",
        "XVal= jobs[15000:20000]\n",
        "org_b = org\n",
        "skills_b = skill\n",
        "jobs_b = job"
      ],
      "metadata": {
        "id": "NSuQeWUXSeLZ"
      },
      "execution_count": 41,
      "outputs": []
    },
    {
      "cell_type": "code",
      "source": [
        "def make(X,org_b,skills_b,jobs_b):\n",
        "  big=[]\n",
        "  for sentence in X:\n",
        "    token=word_tokenize(sentence)\n",
        "    small=[]\n",
        "    token_t=nltk.pos_tag(token)\n",
        "    for f,s in token_t:\n",
        "      tag='O'\n",
        "      if f.lower() in org_b:\n",
        "        tag=org_b[f.lower()]\n",
        "      if f.lower() in skills_b:\n",
        "        tag=skills_b[f.lower()]\n",
        "      if f.lower() in jobs_b:\n",
        "        tag=jobs_b[f.lower()]\n",
        "      small.append((f,s,tag))\n",
        "    big.append(small)\n",
        "  return big\n",
        "XTr_=make(XTr,org_b,skills_b,jobs_b)\n",
        "XVal_=make(XVal,org_b,skills_b,jobs_b)"
      ],
      "metadata": {
        "id": "zPBgJgpB0_5u"
      },
      "execution_count": 42,
      "outputs": []
    },
    {
      "cell_type": "code",
      "source": [
        "msgLen=128\n",
        "\n",
        "def fixMsg(X):\n",
        "  global msgLen\n",
        "  Xc=[]\n",
        "  for i in range(len(X)):\n",
        "    if len(X[i])<msgLen:\n",
        "      while len(X[i])<msgLen:\n",
        "        X[i].append(('UNK','UNK','UNK'))\n",
        "    elif len(X[i])>msgLen:\n",
        "      temp=X[i]\n",
        "      del X[i]\n",
        "      lb=0;chunk=msgLen\n",
        "      while lb<len(temp):\n",
        "        split=[]\n",
        "        for j in range(lb,lb+chunk):\n",
        "          if j<len(temp):\n",
        "            split.append(temp[j])\n",
        "          else:\n",
        "            split.append(('UNK','UNK','UNK'))\n",
        "        X.append(split)\n",
        "        #print(X)\n",
        "        lb+=chunk\n",
        "  return X \n",
        "\n",
        "XTr_t=fixMsg(XTr_)\n",
        "XVal_t=fixMsg(XVal_)"
      ],
      "metadata": {
        "id": "uAxs6umsS_VQ"
      },
      "execution_count": 46,
      "outputs": []
    },
    {
      "cell_type": "code",
      "source": [
        "for x in XTr_t:\n",
        "  assert(len(x)==msgLen)\n",
        "print(XTr_t[0])\n",
        "for x in XVal_t:\n",
        "  assert(len(x)==msgLen)\n",
        "print(XVal_t[0])"
      ],
      "metadata": {
        "colab": {
          "base_uri": "https://localhost:8080/"
        },
        "id": "VTeTGZ1TVQGD",
        "outputId": "0eb3adc4-1542-4680-b816-f0b72ab23fd8"
      },
      "execution_count": 47,
      "outputs": [
        {
          "output_type": "stream",
          "name": "stdout",
          "text": [
            "[('A', 'DT', 'J'), ('technology', 'NN', 'J'), ('services', 'NNS', 'J'), ('client', 'NN', 'J'), ('of', 'IN', 'J'), ('ours', 'NN', 'O'), ('is', 'VBZ', 'J'), ('looking', 'VBG', 'J'), ('For', 'IN', 'J'), ('Bigdata', 'NNP', 'S'), ('Engineer', 'NNP', 'J'), ('on', 'IN', 'J'), ('their', 'PRP$', 'S'), ('ongoing', 'JJ', 'O'), ('projects', 'NNS', 'J'), ('This', 'DT', 'S'), ('is', 'VBZ', 'J'), ('going', 'VBG', 'O'), ('to', 'TO', 'J'), ('be', 'VB', 'J'), ('an', 'DT', 'J'), ('Onsite', 'NNP', 'J'), ('position', 'NN', 'J'), ('Below', 'NNP', 'J'), ('are', 'VBP', 'J'), ('the', 'DT', 'J'), ('required', 'JJ', 'J'), ('skills', 'NNS', 'J'), ('for', 'IN', 'J'), ('this', 'DT', 'S'), ('role', 'NN', 'J'), ('Required', 'NNP', 'J'), ('Skills', 'NNP', 'J'), ('Strong', 'NNP', 'J'), ('experience', 'NN', 'J'), ('building', 'NN', 'J'), ('and', 'CC', 'J'), ('optimizing', 'VBG', 'O'), ('big', 'JJ', 'S'), ('data', 'NNS', 'J'), ('pipelines', 'NNS', 'S'), ('architectures', 'NNS', 'S'), ('and', 'CC', 'J'), ('data', 'NNS', 'J'), ('sets', 'NNS', 'S'), ('need', 'VBP', 'J'), ('at', 'IN', 'J'), ('least', 'JJS', 'S'), ('10', 'CD', 'J'), ('years', 'NNS', 'J'), ('experience', 'RB', 'J'), ('excellent', 'JJ', 'J'), ('communication', 'NN', 'S'), ('Skills', 'NNP', 'J'), ('Strong', 'NNP', 'J'), ('experience', 'NN', 'J'), ('with', 'IN', 'J'), ('relational', 'JJ', 'J'), ('SQL', 'NNP', 'S'), ('and', 'CC', 'J'), ('NoSQL', 'NNP', 'S'), ('like', 'IN', 'J'), ('Postgres', 'NNP', 'S'), ('Teradata', 'NNP', 'S'), ('Netezza', 'NNP', 'O'), ('and', 'CC', 'J'), ('the', 'DT', 'J'), ('likes', 'NNS', 'O'), ('of', 'IN', 'J'), ('Cosmos', 'NNP', 'O'), ('DB', 'NNP', 'S'), ('Strong', 'NNP', 'J'), ('experience', 'NN', 'J'), ('with', 'IN', 'J'), ('programming', 'VBG', 'S'), ('background', 'NN', 'J'), ('object', 'NN', 'S'), ('oriented', 'VBD', 'S'), ('object', 'JJ', 'S'), ('function', 'NN', 'S'), ('scripting', 'VBG', 'S'), ('languages', 'NNS', 'S'), ('Python', 'NNP', 'J'), ('Java', 'NNP', 'J'), ('C', 'NNP', 'S'), ('Scala', 'NNP', 'S'), ('etc', 'FW', 'S'), ('File', 'NNP', 'S'), ('Formats', 'NNP', 'S'), ('JSON', 'NNP', 'S'), ('Avro', 'NNP', 'O'), ('ParquetExperience', 'NNP', 'O'), ('with', 'IN', 'J'), ('big', 'JJ', 'S'), ('data', 'NNS', 'J'), ('platforms', 'NNS', 'J'), ('tools', 'NNS', 'J'), ('Hadoop', 'NNP', 'J'), ('Spark', 'NNP', 'S'), ('Kafka', 'NNP', 'S'), ('etc', 'FW', 'S'), ('Good', 'NNP', 'J'), ('working', 'VBG', 'J'), ('knowledge', 'NN', 'J'), ('of', 'IN', 'J'), ('message', 'NN', 'S'), ('queuing', 'VBG', 'O'), ('and', 'CC', 'J'), ('highly', 'RB', 'S'), ('scalable', 'JJ', 'S'), ('big', 'JJ', 'S'), ('data', 'NNS', 'J'), ('data', 'NNS', 'J'), ('stores', 'NNS', 'S'), ('Experience', 'NNP', 'J'), ('with', 'IN', 'J'), ('data', 'NNS', 'J'), ('pipeline', 'NN', 'J'), ('and', 'CC', 'J'), ('workflow', 'JJ', 'S'), ('management', 'NN', 'J'), ('tools', 'NNS', 'J'), ('like', 'IN', 'J'), ('Airflow', 'NNP', 'S'), ('Secondary', 'NNP', 'J'), ('Familiarity', 'NNP', 'S'), ('with', 'IN', 'J'), ('data', 'NNS', 'J')]\n",
            "[('The', 'DT', 'J'), ('selected', 'VBN', 'O'), ('candidate', 'NN', 'J'), ('will', 'MD', 'J'), ('have', 'VB', 'J'), ('occasional', 'JJ', 'S'), ('support', 'NN', 'J'), ('onsite', 'NN', 'J'), ('at', 'IN', 'J'), ('either', 'DT', 'J'), ('of', 'IN', 'J'), ('the', 'DT', 'J'), ('two', 'CD', 'J'), ('work', 'NN', 'J'), ('locations', 'NNS', 'J'), ('Sacramento', 'NNP', 'O'), ('off', 'RP', 'S'), ('Bradshaw', 'NNP', 'O'), ('on', 'IN', 'J'), ('Goethe', 'NNP', 'O'), ('Road', 'NNP', 'S'), ('and', 'CC', 'J'), ('Elk', 'NNP', 'O'), ('Grove', 'NNP', 'O'), ('Laguna', 'NNP', 'O'), ('Blvd', 'NNP', 'O'), ('The', 'DT', 'J'), ('selected', 'VBN', 'O'), ('individual', 'NN', 'O'), ('will', 'MD', 'J'), ('be', 'VB', 'J'), ('part', 'NN', 'S'), ('of', 'IN', 'J'), ('the', 'DT', 'J'), ('IT', 'NNP', 'J'), ('Customer', 'NNP', 'S'), ('Services', 'NNP', 'J'), ('Team', 'NNP', 'J'), ('which', 'WDT', 'S'), ('supports', 'VBZ', 'S'), ('internal', 'JJ', 'S'), ('staff', 'NN', 'S'), ('The', 'DT', 'J'), ('IT', 'NNP', 'J'), ('PC', 'NNP', 'S'), ('Technician', 'NNP', 'J'), ('will', 'MD', 'J'), ('assist', 'VB', 'O'), ('with', 'IN', 'J'), ('Help', 'NNP', 'J'), ('Desk', 'NNP', 'J'), ('hardware', 'NN', 'S'), ('software', 'NN', 'J'), ('installations', 'NNS', 'S'), ('interact', 'VBP', 'S'), ('with', 'IN', 'J'), ('customers', 'NNS', 'S'), ('understand', 'VBP', 'S'), ('diagnose', 'JJ', 'O'), ('and', 'CC', 'J'), ('troubleshoot', 'VB', 'S'), ('their', 'PRP$', 'S'), ('technical', 'JJ', 'J'), ('problems', 'NNS', 'J'), ('and', 'CC', 'J'), ('various', 'JJ', 'S'), ('other', 'JJ', 'S'), ('technical', 'JJ', 'J'), ('special', 'JJ', 'O'), ('projects', 'NNS', 'J'), ('as', 'IN', 'J'), ('assigned', 'JJ', 'S'), ('Excellent', 'NNP', 'J'), ('troubleshooting', 'NN', 'S'), ('skills', 'NNS', 'J'), ('both', 'DT', 'S'), ('remotely', 'RB', 'S'), ('and', 'CC', 'J'), ('in', 'IN', 'J'), ('personExcellent', 'JJ', 'O'), ('oral', 'JJ', 'S'), ('communication', 'NN', 'S'), ('skillsExcellent', 'NN', 'O'), ('customer', 'NN', 'S'), ('service', 'NN', 'J'), ('skillsDemonstrated', 'VBD', 'O'), ('ability', 'NN', 'S'), ('to', 'TO', 'J'), ('work', 'VB', 'J'), ('collaboratively', 'RB', 'O'), ('in', 'IN', 'J'), ('a', 'DT', 'J'), ('team', 'NN', 'J'), ('environmentDemonstrated', 'VBN', 'O'), ('ability', 'NN', 'S'), ('to', 'TO', 'J'), ('work', 'VB', 'J'), ('well', 'RB', 'J'), ('with', 'IN', 'J'), ('technical', 'JJ', 'J'), ('and', 'CC', 'J'), ('non', 'JJ', 'S'), ('technical', 'JJ', 'J'), ('usersDemonstrated', 'JJ', 'O'), ('ability', 'NN', 'S'), ('to', 'TO', 'J'), ('perform', 'VB', 'O'), ('hardware', 'NN', 'S'), ('and', 'CC', 'J'), ('software', 'NN', 'J'), ('installationsSuccessful', 'JJ', 'O'), ('development', 'NN', 'J'), ('of', 'IN', 'J'), ('PC', 'NN', 'S'), ('imagesExperience', 'NN', 'O'), ('in', 'IN', 'J'), ('Windows', 'NNP', 'J'), ('Administration', 'NNP', 'S'), ('and', 'CC', 'J'), ('SupportExperience', 'NNP', 'O'), ('in', 'IN', 'J'), ('conducting', 'VBG', 'S'), ('Helpdesk', 'NNP', 'S'), ('phone', 'NN', 'S'), ('supportExperience', 'NN', 'O'), ('in', 'IN', 'J'), ('Microsoft', 'NNP', 'S'), ('Office', 'NNP', 'J')]\n"
          ]
        }
      ]
    },
    {
      "cell_type": "code",
      "source": [
        "dict_={}\n",
        "dict_1={}\n",
        "token=1;token1=0\n",
        "for x in XTr_t:\n",
        "  for a,b,c in x:\n",
        "    if a not in dict_:\n",
        "      dict_[a]=token\n",
        "      token=token+1\n",
        "    if c not in dict_1:\n",
        "      if c=='K':\n",
        "        print(a,b,c)\n",
        "      dict_1[c]=token1\n",
        "      token1=token1+1\n",
        "for x in XVal_t:\n",
        "  for a,b,c in x:\n",
        "    if a not in dict_:\n",
        "      dict_[a]=token\n",
        "      token=token+1\n",
        "    if c not in dict_1:\n",
        "      dict_1[c]=token1\n",
        "      token1=token1+1\n",
        "print('No of tokens words[{}] labels[{}]'.format(token,token1))"
      ],
      "metadata": {
        "colab": {
          "base_uri": "https://localhost:8080/"
        },
        "id": "7lbuTy0bY-R1",
        "outputId": "8f624426-7bca-4de4-a7bb-a5168c528184"
      },
      "execution_count": 10,
      "outputs": [
        {
          "output_type": "stream",
          "name": "stdout",
          "text": [
            "No of tokens words[26] labels[5]\n"
          ]
        }
      ]
    },
    {
      "cell_type": "code",
      "source": [
        "XTr_fin=np.array([[dict_[element[0]] for element in sentence] for sentence in XTr_t])\n",
        "XVal_fin=np.array([[dict_[element[0]] for element in sentence] for sentence in XVal_t])\n",
        "\n",
        "yTr=np.array([[dict_1[element[2]] for element in sentence] for sentence in XTr_t])\n",
        "yVal=np.array([[dict_1[element[2]] for element in sentence] for sentence in XVal_t])"
      ],
      "metadata": {
        "id": "-8JNNsTWTyB-"
      },
      "execution_count": 11,
      "outputs": []
    },
    {
      "cell_type": "code",
      "source": [
        "embedding_dim = 100\n",
        "input=Input(shape=(msgLen,))\n",
        "mo=Embedding(input_dim=token,output_dim=embedding_dim)(input)\n",
        "frwd=LSTM(64,return_sequences=True)\n",
        "back=LSTM(64,return_sequences=True,go_backwards=True)\n",
        "mo=Bidirectional(frwd,backward_layer=back)(mo)\n",
        "mo=TimeDistributed(Dense(32,activation='relu'))(mo)\n",
        "output=CRF(units=token1)(mo)\n",
        "mo=Model(input,output)\n",
        "mo.summary()\n",
        "\n",
        "model=ModelWithCRFLoss(mo, sparse_target=True)\n",
        "model.compile(optimizer ='rmsprop')"
      ],
      "metadata": {
        "colab": {
          "base_uri": "https://localhost:8080/"
        },
        "id": "oEeIy0iBq8a0",
        "outputId": "e92014b9-8088-479b-dfd0-7c1ea69677c4"
      },
      "execution_count": 12,
      "outputs": [
        {
          "output_type": "stream",
          "name": "stdout",
          "text": [
            "Model: \"model\"\n",
            "_________________________________________________________________\n",
            " Layer (type)                Output Shape              Param #   \n",
            "=================================================================\n",
            " input_1 (InputLayer)        [(None, 10)]              0         \n",
            "                                                                 \n",
            " embedding (Embedding)       (None, 10, 100)           2600      \n",
            "                                                                 \n",
            " bidirectional (Bidirectiona  (None, 10, 128)          84480     \n",
            " l)                                                              \n",
            "                                                                 \n",
            " time_distributed (TimeDistr  (None, 10, 32)           4128      \n",
            " ibuted)                                                         \n",
            "                                                                 \n",
            " crf (CRF)                   ((None, 10),              190       \n",
            "                              (None, 10, 5),                     \n",
            "                              (None,),                           \n",
            "                              (5, 5))                            \n",
            "                                                                 \n",
            "=================================================================\n",
            "Total params: 91,398\n",
            "Trainable params: 91,398\n",
            "Non-trainable params: 0\n",
            "_________________________________________________________________\n"
          ]
        }
      ]
    },
    {
      "cell_type": "code",
      "source": [
        "es = EarlyStopping(monitor = \"val_loss_val\", mode = \"min\", verbose = True, restore_best_weights=True, patience = 1)\n",
        "cp = ModelCheckpoint(filepath,monitor=\"val_loss_val\",mode = \"min\",verbose=True,save_best_only=True)\n",
        "\n",
        "# history = model.fit(XTr_fin,yTr,validation_data=[XVal_fin,yVal],epochs=2,batch_size=1,callbacks=[cp,es])\n",
        "history = model.fit(XTr_fin,yTr,epochs=10,validation_data=[XVal_fin,yVal],batch_size=1)"
      ],
      "metadata": {
        "colab": {
          "base_uri": "https://localhost:8080/"
        },
        "id": "-brG5azg00_K",
        "outputId": "378d4e5b-1eb4-4a07-97e5-713105878ef5"
      },
      "execution_count": 13,
      "outputs": [
        {
          "output_type": "stream",
          "name": "stdout",
          "text": [
            "Epoch 1/10\n",
            "3/3 [==============================] - 9s 871ms/step - loss: 15.5487 - accuracy: 0.5000 - val_loss_val: 13.9902 - val_val_accuracy: 0.3000\n",
            "Epoch 2/10\n",
            "3/3 [==============================] - 0s 22ms/step - loss: 14.9890 - accuracy: 0.5667 - val_loss_val: 13.7909 - val_val_accuracy: 0.3000\n",
            "Epoch 3/10\n",
            "3/3 [==============================] - 0s 26ms/step - loss: 14.2022 - accuracy: 0.5667 - val_loss_val: 13.6508 - val_val_accuracy: 0.3000\n",
            "Epoch 4/10\n",
            "3/3 [==============================] - 0s 25ms/step - loss: 13.1309 - accuracy: 0.6000 - val_loss_val: 13.6264 - val_val_accuracy: 0.3000\n",
            "Epoch 5/10\n",
            "3/3 [==============================] - 0s 26ms/step - loss: 12.0511 - accuracy: 0.6000 - val_loss_val: 13.8177 - val_val_accuracy: 0.3000\n",
            "Epoch 6/10\n",
            "3/3 [==============================] - 0s 24ms/step - loss: 11.2523 - accuracy: 0.6000 - val_loss_val: 14.1528 - val_val_accuracy: 0.3000\n",
            "Epoch 7/10\n",
            "3/3 [==============================] - 0s 25ms/step - loss: 10.7803 - accuracy: 0.6000 - val_loss_val: 12.8916 - val_val_accuracy: 0.3000\n",
            "Epoch 8/10\n",
            "3/3 [==============================] - 0s 24ms/step - loss: 10.2180 - accuracy: 0.6000 - val_loss_val: 12.2491 - val_val_accuracy: 0.3000\n",
            "Epoch 9/10\n",
            "3/3 [==============================] - 0s 25ms/step - loss: 9.7534 - accuracy: 0.6000 - val_loss_val: 11.6227 - val_val_accuracy: 0.3000\n",
            "Epoch 10/10\n",
            "3/3 [==============================] - 0s 32ms/step - loss: 9.3424 - accuracy: 0.6000 - val_loss_val: 11.1386 - val_val_accuracy: 0.5000\n"
          ]
        }
      ]
    },
    {
      "cell_type": "code",
      "source": [
        "import matplotlib.pyplot as plt\n",
        "\n",
        "plt.rcParams[\"figure.figsize\"] = (16,8)\n",
        "plt.plot(history.history['val_loss_val'])\n",
        "plt.plot(history.history['loss'])\n",
        "plt.xlabel('Epochs ->')\n",
        "plt.ylabel('Losses ->')\n",
        "plt.title('Losses v/s epochs.')\n",
        "plt.legend(['Val Loss','Train Loss'])\n",
        "plt.show()"
      ],
      "metadata": {
        "colab": {
          "base_uri": "https://localhost:8080/",
          "height": 517
        },
        "id": "BE9s4e54hbFd",
        "outputId": "8d3b3960-cf67-48b7-c176-f12ee0372177"
      },
      "execution_count": 14,
      "outputs": [
        {
          "output_type": "display_data",
          "data": {
            "text/plain": [
              "<Figure size 1152x576 with 1 Axes>"
            ],
            "image/png": "[encoded data removed]"
          },
          "metadata": {}
        }
      ]
    },
    {
      "cell_type": "code",
      "source": [
        "dict_1R={}\n",
        "for k,v in dict_1.items():\n",
        "  dict_1R[v]=k"
      ],
      "metadata": {
        "id": "rEHr_ZFFyAdN"
      },
      "execution_count": 15,
      "outputs": []
    },
    {
      "cell_type": "code",
      "source": [
        "labels_=model.predict(XVal_fin)\n",
        "i=0 # i-th example from val dataset.\n",
        "cnt=0\n",
        "print()\n",
        "for x in XVal_[0]:\n",
        "  print('{} {}'.format(x[0],dict_1R[labels_[i][cnt]]))\n",
        "  cnt+=1"
      ],
      "metadata": {
        "colab": {
          "base_uri": "https://localhost:8080/"
        },
        "id": "mIukgUGAt1ya",
        "outputId": "9ff0dc10-61d2-4b9c-e809-de71ad5fbb82"
      },
      "execution_count": 16,
      "outputs": [
        {
          "output_type": "stream",
          "name": "stdout",
          "text": [
            "1/1 [==============================] - 1s 1s/step\n",
            "\n",
            "Amazon O\n",
            "is O\n",
            "looking O\n",
            "for O\n",
            "DevOps O\n",
            "engineer O\n",
            "UNK O\n",
            "UNK S\n",
            "UNK UNK\n",
            "UNK UNK\n"
          ]
        }
      ]
    },
    {
      "cell_type": "code",
      "source": [
        "dict_1"
      ],
      "metadata": {
        "colab": {
          "base_uri": "https://localhost:8080/"
        },
        "id": "oneJmZ-CyiQY",
        "outputId": "ac32c7ee-968d-4c0b-eb61-817fde3e0e6e"
      },
      "execution_count": 17,
      "outputs": [
        {
          "output_type": "execute_result",
          "data": {
            "text/plain": [
              "{'C': 0, 'O': 1, 'J': 2, 'S': 3, 'UNK': 4}"
            ]
          },
          "metadata": {},
          "execution_count": 17
        }
      ]
    },
    {
      "cell_type": "code",
      "source": [
        "!pip install sklearn-crfsuite"
      ],
      "metadata": {
        "colab": {
          "base_uri": "https://localhost:8080/"
        },
        "id": "iKr9ym2D3eyS",
        "outputId": "8e4fa7aa-a8d2-43fd-d475-f9d3e3f46ec9"
      },
      "execution_count": 18,
      "outputs": [
        {
          "output_type": "stream",
          "name": "stdout",
          "text": [
            "Looking in indexes: https://pypi.org/simple, https://us-python.pkg.dev/colab-wheels/public/simple/\n",
            "Collecting sklearn-crfsuite\n",
            "  Downloading sklearn_crfsuite-0.3.6-py2.py3-none-any.whl (12 kB)\n",
            "Requirement already satisfied: tabulate in /usr/local/lib/python3.8/dist-packages (from sklearn-crfsuite) (0.8.10)\n",
            "Requirement already satisfied: six in /usr/local/lib/python3.8/dist-packages (from sklearn-crfsuite) (1.15.0)\n",
            "Collecting python-crfsuite>=0.8.3\n",
            "  Downloading python_crfsuite-0.9.8-cp38-cp38-manylinux_2_17_x86_64.manylinux2014_x86_64.whl (1.0 MB)\n",
            "\u001b[K     |████████████████████████████████| 1.0 MB 5.0 MB/s \n",
            "\u001b[?25hRequirement already satisfied: tqdm>=2.0 in /usr/local/lib/python3.8/dist-packages (from sklearn-crfsuite) (4.64.1)\n",
            "Installing collected packages: python-crfsuite, sklearn-crfsuite\n",
            "Successfully installed python-crfsuite-0.9.8 sklearn-crfsuite-0.3.6\n"
          ]
        }
      ]
    },
    {
      "cell_type": "code",
      "source": [
        "import sklearn_crfsuite\n",
        "from sklearn_crfsuite import scorers\n",
        "from sklearn_crfsuite import metrics\n",
        "\n",
        "def labelIt(yVal):\n",
        "  yVal_lis=[]\n",
        "  for y1 in yVal:\n",
        "    temp=[]\n",
        "    for y2 in y1:\n",
        "      temp.append(dict_1R[y2])\n",
        "    yVal_lis.append(temp)\n",
        "  return yVal_lis \n",
        "\n",
        "yVal_=labelIt(yVal)\n",
        "yPred_=labelIt(labels_)\n",
        "labls=['C','J','S','O','UNK']\n",
        "metrics.flat_f1_score(yVal_,yPred_,average='weighted',labels=labls)"
      ],
      "metadata": {
        "colab": {
          "base_uri": "https://localhost:8080/"
        },
        "id": "lx1-vL2MyzBX",
        "outputId": "8fd6e2b7-d56f-43f5-ac03-cabe22c2e577"
      },
      "execution_count": 19,
      "outputs": [
        {
          "output_type": "execute_result",
          "data": {
            "text/plain": [
              "0.44666666666666666"
            ]
          },
          "metadata": {},
          "execution_count": 19
        }
      ]
    },
    {
      "cell_type": "code",
      "source": [
        "print(metrics.flat_classification_report(yVal_,yPred_,labels=labls,digits=3))"
      ],
      "metadata": {
        "colab": {
          "base_uri": "https://localhost:8080/"
        },
        "id": "JflAu2op4AQZ",
        "outputId": "f5d4265a-52d3-477b-a207-8b5126d8e45f"
      },
      "execution_count": 20,
      "outputs": [
        {
          "output_type": "stream",
          "name": "stdout",
          "text": [
            "              precision    recall  f1-score   support\n",
            "\n",
            "           C      0.000     0.000     0.000         1\n",
            "           J      0.000     0.000     0.000         2\n",
            "           S      0.000     0.000     0.000         0\n",
            "           O      0.429     1.000     0.600         3\n",
            "         UNK      1.000     0.500     0.667         4\n",
            "\n",
            "    accuracy                          0.500        10\n",
            "   macro avg      0.286     0.300     0.253        10\n",
            "weighted avg      0.529     0.500     0.447        10\n",
            "\n"
          ]
        },
        {
          "output_type": "stream",
          "name": "stderr",
          "text": [
            "/usr/local/lib/python3.8/dist-packages/sklearn/utils/validation.py:67: FutureWarning: Pass labels=['C', 'J', 'S', 'O', 'UNK'] as keyword args. From version 0.25 passing these as positional arguments will result in an error\n",
            "  warnings.warn(\"Pass {} as keyword args. From version 0.25 \"\n",
            "/usr/local/lib/python3.8/dist-packages/sklearn/metrics/_classification.py:1221: UndefinedMetricWarning: Precision and F-score are ill-defined and being set to 0.0 in labels with no predicted samples. Use `zero_division` parameter to control this behavior.\n",
            "  _warn_prf(average, modifier, msg_start, len(result))\n",
            "/usr/local/lib/python3.8/dist-packages/sklearn/metrics/_classification.py:1221: UndefinedMetricWarning: Recall and F-score are ill-defined and being set to 0.0 in labels with no true samples. Use `zero_division` parameter to control this behavior.\n",
            "  _warn_prf(average, modifier, msg_start, len(result))\n"
          ]
        }
      ]
    }
  ]
}